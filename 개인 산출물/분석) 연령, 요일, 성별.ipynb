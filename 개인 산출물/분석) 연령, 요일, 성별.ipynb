{
 "cells": [
  {
   "cell_type": "code",
   "execution_count": 1,
   "id": "tXCVUsXa5Iow",
   "metadata": {
    "id": "tXCVUsXa5Iow"
   },
   "outputs": [],
   "source": [
    "# !sudo apt-get install -y fonts-nanum\n",
    "# !sudo fc-cache -fv\n",
    "# !rm ~/.cache/matplotlib -rf"
   ]
  },
  {
   "cell_type": "code",
   "execution_count": 2,
   "id": "66432e1f",
   "metadata": {
    "colab": {
     "base_uri": "https://localhost:8080/"
    },
    "id": "66432e1f",
    "outputId": "106468bc-b812-438d-c8b1-a4f5952a0753"
   },
   "outputs": [
    {
     "data": {
      "text/plain": [
       "환자ID                0\n",
       "전방디스크높이(mm)         0\n",
       "후방디스크높이(mm)         0\n",
       "지방축적도               3\n",
       "Instability         0\n",
       "MF + ES             0\n",
       "Modic change        0\n",
       "PI                  4\n",
       "PT                  4\n",
       "Seg Angle(raw)      1\n",
       "Vaccum disc         0\n",
       "골밀도               896\n",
       "디스크단면적              1\n",
       "디스크위치               0\n",
       "척추이동척도              0\n",
       "척추전방위증              0\n",
       "dtype: int64"
      ]
     },
     "execution_count": 2,
     "metadata": {},
     "output_type": "execute_result"
    }
   ],
   "source": [
    "import pandas as pd\n",
    "df1 = pd.read_csv('Medical_Image_Data_01.csv', encoding='cp949')\n",
    "df2 = pd.read_csv('Patient_Diagnosis_Data.csv')\n",
    "df3 = pd.read_csv('Patient_Surgery_Data.csv')\n",
    "df1.isnull().sum()"
   ]
  },
  {
   "cell_type": "code",
   "execution_count": 3,
   "id": "ae2fb5c9",
   "metadata": {
    "colab": {
     "base_uri": "https://localhost:8080/"
    },
    "id": "66432e1f",
    "outputId": "106468bc-b812-438d-c8b1-a4f5952a0753"
   },
   "outputs": [
    {
     "data": {
      "text/plain": [
       "환자ID                         0\n",
       "Large Lymphocyte             0\n",
       "Location of herniation       0\n",
       "ODI                       1432\n",
       "가족력                         51\n",
       "간질성폐질환                       0\n",
       "고혈압여부                        0\n",
       "과거수술횟수                       0\n",
       "당뇨여부                         0\n",
       "말초동맥질환여부                     0\n",
       "빈혈여부                         0\n",
       "성별                           0\n",
       "스테로이드치료                      0\n",
       "신부전여부                        0\n",
       "신장                           0\n",
       "심혈관질환                        0\n",
       "암발병여부                        0\n",
       "연령                           0\n",
       "우울증여부                        0\n",
       "입원기간                         0\n",
       "입원일자                         0\n",
       "종양진행여부                       0\n",
       "직업                         415\n",
       "체중                           0\n",
       "퇴원일자                         0\n",
       "헤모글로빈수치                      1\n",
       "혈전합병증여부                      0\n",
       "환자통증정도                       0\n",
       "흡연여부                         0\n",
       "통증기간(월)                      4\n",
       "dtype: int64"
      ]
     },
     "execution_count": 3,
     "metadata": {},
     "output_type": "execute_result"
    }
   ],
   "source": [
    "df2.isnull().sum()"
   ]
  },
  {
   "cell_type": "code",
   "execution_count": 4,
   "id": "4397b8f1",
   "metadata": {
    "colab": {
     "base_uri": "https://localhost:8080/"
    },
    "id": "66432e1f",
    "outputId": "106468bc-b812-438d-c8b1-a4f5952a0753"
   },
   "outputs": [
    {
     "data": {
      "text/plain": [
       "환자ID        0\n",
       "수술기법       81\n",
       "수술시간       54\n",
       "수술실패여부      0\n",
       "수술일자        0\n",
       "신장          0\n",
       "연령          0\n",
       "입원일자        0\n",
       "재발여부        0\n",
       "체중          0\n",
       "퇴원일자        0\n",
       "헤모글로빈수치     1\n",
       "환자통증정도      0\n",
       "통증기간(월)     4\n",
       "혈액형         0\n",
       "dtype: int64"
      ]
     },
     "execution_count": 4,
     "metadata": {},
     "output_type": "execute_result"
    }
   ],
   "source": [
    "df3.isnull().sum()"
   ]
  },
  {
   "cell_type": "code",
   "execution_count": 5,
   "id": "lCh2LBzq2T2q",
   "metadata": {
    "id": "lCh2LBzq2T2q"
   },
   "outputs": [],
   "source": [
    "import matplotlib.pyplot as plt\n",
    "import matplotlib\n",
    "\n",
    "plt.rc('font', family='NanumBarunGothic')\n",
    "matplotlib.rc('axes',unicode_minus=False)"
   ]
  },
  {
   "cell_type": "code",
   "execution_count": 6,
   "id": "66a7e0ad",
   "metadata": {
    "colab": {
     "base_uri": "https://localhost:8080/"
    },
    "id": "66a7e0ad",
    "outputId": "62f93c36-5880-4378-b498-20cc3f66c2af"
   },
   "outputs": [
    {
     "data": {
      "text/plain": [
       "Index(['환자ID', '전방디스크높이(mm)', '후방디스크높이(mm)', '지방축적도', 'Instability', 'MF + ES',\n",
       "       'Modic change', 'PI', 'PT', 'Seg Angle(raw)', 'Vaccum disc', '골밀도',\n",
       "       '디스크단면적', '디스크위치', '척추이동척도', '척추전방위증', 'Large Lymphocyte',\n",
       "       'Location of herniation', 'ODI', '가족력', '간질성폐질환', '고혈압여부', '과거수술횟수',\n",
       "       '당뇨여부', '말초동맥질환여부', '빈혈여부', '성별', '스테로이드치료', '신부전여부', '신장', '심혈관질환',\n",
       "       '암발병여부', '연령', '우울증여부', '입원기간', '입원일자', '종양진행여부', '직업', '체중', '퇴원일자',\n",
       "       '헤모글로빈수치', '혈전합병증여부', '환자통증정도', '흡연여부', '통증기간(월)', '수술기법', '수술시간',\n",
       "       '수술실패여부', '수술일자', '재발여부', '혈액형'],\n",
       "      dtype='object')"
      ]
     },
     "execution_count": 6,
     "metadata": {},
     "output_type": "execute_result"
    }
   ],
   "source": [
    "merge1 = pd.merge(df1, df2, on='환자ID', how='inner')\n",
    "final = pd.merge(merge1, df3, on=['환자ID','연령', '입원일자', '신장', '체중', '퇴원일자', '헤모글로빈수치', '환자통증정도', '통증기간(월)'],how='inner')\n",
    "final.columns"
   ]
  },
  {
   "cell_type": "code",
   "execution_count": 7,
   "id": "dIO6dckzoHrM",
   "metadata": {
    "colab": {
     "base_uri": "https://localhost:8080/"
    },
    "id": "dIO6dckzoHrM",
    "outputId": "3f1fff79-c17e-4345-d05e-dfd941c8e8b0"
   },
   "outputs": [
    {
     "data": {
      "text/plain": [
       "0       15.0\n",
       "1       33.6\n",
       "2       40.2\n",
       "3       30.5\n",
       "4       44.1\n",
       "        ... \n",
       "1889    36.5\n",
       "1890    27.5\n",
       "1891    29.6\n",
       "1892    21.1\n",
       "1893    32.1\n",
       "Name: SS, Length: 1894, dtype: float64"
      ]
     },
     "execution_count": 7,
     "metadata": {},
     "output_type": "execute_result"
    }
   ],
   "source": [
    "final['SS']=final['PI']-final['PT']\n",
    "final['SS']"
   ]
  },
  {
   "cell_type": "code",
   "execution_count": 8,
   "id": "LDD86GhNoRZL",
   "metadata": {
    "colab": {
     "base_uri": "https://localhost:8080/",
     "height": 282
    },
    "id": "LDD86GhNoRZL",
    "outputId": "85a79c1b-da6a-444d-e47d-01d8ad084beb"
   },
   "outputs": [
    {
     "data": {
      "text/plain": [
       "<AxesSubplot:ylabel='Frequency'>"
      ]
     },
     "execution_count": 8,
     "metadata": {},
     "output_type": "execute_result"
    },
    {
     "data": {
      "image/png": "[encoded data removed]",
      "text/plain": [
       "<Figure size 432x288 with 1 Axes>"
      ]
     },
     "metadata": {
      "needs_background": "light"
     },
     "output_type": "display_data"
    }
   ],
   "source": [
    "final[final['척추이동척도']=='Extremely up']['SS'].plot.hist()"
   ]
  },
  {
   "cell_type": "code",
   "execution_count": 9,
   "id": "7GZ9usiTolUf",
   "metadata": {
    "colab": {
     "base_uri": "https://localhost:8080/",
     "height": 282
    },
    "id": "7GZ9usiTolUf",
    "outputId": "a7b61e35-3cfe-4a5f-b3e7-c4b1adef2ab7"
   },
   "outputs": [
    {
     "data": {
      "text/plain": [
       "<AxesSubplot:ylabel='Frequency'>"
      ]
     },
     "execution_count": 9,
     "metadata": {},
     "output_type": "execute_result"
    },
    {
     "data": {
      "image/png": "[encoded data removed]",
      "text/plain": [
       "<Figure size 432x288 with 1 Axes>"
      ]
     },
     "metadata": {
      "needs_background": "light"
     },
     "output_type": "display_data"
    }
   ],
   "source": [
    "final[final['척추이동척도']=='Up']['SS'].plot.hist()"
   ]
  },
  {
   "cell_type": "code",
   "execution_count": 10,
   "id": "dzMBsnwEooBs",
   "metadata": {
    "colab": {
     "base_uri": "https://localhost:8080/",
     "height": 282
    },
    "id": "dzMBsnwEooBs",
    "outputId": "1c530315-1ba7-4b47-a303-a58bc225bba5"
   },
   "outputs": [
    {
     "data": {
      "text/plain": [
       "<AxesSubplot:ylabel='Frequency'>"
      ]
     },
     "execution_count": 10,
     "metadata": {},
     "output_type": "execute_result"
    },
    {
     "data": {
      "image/png": "[encoded data removed]",
      "text/plain": [
       "<Figure size 432x288 with 1 Axes>"
      ]
     },
     "metadata": {
      "needs_background": "light"
     },
     "output_type": "display_data"
    }
   ],
   "source": [
    "final[(final['척추이동척도']=='Middle')&(final['SS']<400)]['SS'].plot.hist()"
   ]
  },
  {
   "cell_type": "code",
   "execution_count": 11,
   "id": "nVDQsY6aoui3",
   "metadata": {
    "colab": {
     "base_uri": "https://localhost:8080/",
     "height": 282
    },
    "id": "nVDQsY6aoui3",
    "outputId": "953c47c7-963a-40c9-a9a4-659b3e3bfe1e"
   },
   "outputs": [
    {
     "data": {
      "text/plain": [
       "<AxesSubplot:ylabel='Frequency'>"
      ]
     },
     "execution_count": 11,
     "metadata": {},
     "output_type": "execute_result"
    },
    {
     "data": {
      "image/png": "[encoded data removed]",
      "text/plain": [
       "<Figure size 432x288 with 1 Axes>"
      ]
     },
     "metadata": {
      "needs_background": "light"
     },
     "output_type": "display_data"
    }
   ],
   "source": [
    "final[final['척추이동척도']=='Down']['SS'].plot.hist()"
   ]
  },
  {
   "cell_type": "code",
   "execution_count": 12,
   "id": "kJvmZB8Wo94k",
   "metadata": {
    "colab": {
     "base_uri": "https://localhost:8080/",
     "height": 282
    },
    "id": "kJvmZB8Wo94k",
    "outputId": "669133ea-9169-4766-eb3e-ad663c9b033c"
   },
   "outputs": [
    {
     "data": {
      "text/plain": [
       "<AxesSubplot:ylabel='Frequency'>"
      ]
     },
     "execution_count": 12,
     "metadata": {},
     "output_type": "execute_result"
    },
    {
     "data": {
      "image/png": "[encoded data removed]",
      "text/plain": [
       "<Figure size 432x288 with 1 Axes>"
      ]
     },
     "metadata": {
      "needs_background": "light"
     },
     "output_type": "display_data"
    }
   ],
   "source": [
    "final[final['척추이동척도']=='Extremely down']['SS'].plot.hist()"
   ]
  },
  {
   "cell_type": "code",
   "execution_count": 13,
   "id": "M4lV5skypMqp",
   "metadata": {
    "colab": {
     "base_uri": "https://localhost:8080/",
     "height": 282
    },
    "id": "M4lV5skypMqp",
    "outputId": "bc3446e6-cf6a-4741-b7c2-077cb9c6e6a1"
   },
   "outputs": [
    {
     "data": {
      "text/plain": [
       "<AxesSubplot:ylabel='Frequency'>"
      ]
     },
     "execution_count": 13,
     "metadata": {},
     "output_type": "execute_result"
    },
    {
     "data": {
      "image/png": "[encoded data removed]",
      "text/plain": [
       "<Figure size 432x288 with 1 Axes>"
      ]
     },
     "metadata": {
      "needs_background": "light"
     },
     "output_type": "display_data"
    }
   ],
   "source": [
    "final[final['척추이동척도']=='Extremely down']['PI'].plot.hist()"
   ]
  },
  {
   "cell_type": "code",
   "execution_count": 14,
   "id": "cpaRrDH6pQcB",
   "metadata": {
    "colab": {
     "base_uri": "https://localhost:8080/",
     "height": 282
    },
    "id": "cpaRrDH6pQcB",
    "outputId": "c5bcfde2-7521-45bf-969f-4f62272badf1"
   },
   "outputs": [
    {
     "data": {
      "text/plain": [
       "<AxesSubplot:ylabel='Frequency'>"
      ]
     },
     "execution_count": 14,
     "metadata": {},
     "output_type": "execute_result"
    },
    {
     "data": {
      "image/png": "[encoded data removed]",
      "text/plain": [
       "<Figure size 432x288 with 1 Axes>"
      ]
     },
     "metadata": {
      "needs_background": "light"
     },
     "output_type": "display_data"
    }
   ],
   "source": [
    "final[final['척추이동척도']=='Extremely up']['PI'].plot.hist()"
   ]
  },
  {
   "cell_type": "code",
   "execution_count": 15,
   "id": "_mZAuMfspV6t",
   "metadata": {
    "colab": {
     "base_uri": "https://localhost:8080/",
     "height": 282
    },
    "id": "_mZAuMfspV6t",
    "outputId": "694d226f-17e7-4448-c41c-25627652f882"
   },
   "outputs": [
    {
     "data": {
      "text/plain": [
       "<AxesSubplot:ylabel='Frequency'>"
      ]
     },
     "execution_count": 15,
     "metadata": {},
     "output_type": "execute_result"
    },
    {
     "data": {
      "image/png": "[encoded data removed]",
      "text/plain": [
       "<Figure size 432x288 with 1 Axes>"
      ]
     },
     "metadata": {
      "needs_background": "light"
     },
     "output_type": "display_data"
    }
   ],
   "source": [
    "final[final['척추이동척도']=='Extremely up']['PT'].plot.hist()"
   ]
  },
  {
   "cell_type": "code",
   "execution_count": 16,
   "id": "kr-EZkoDpZnV",
   "metadata": {
    "colab": {
     "base_uri": "https://localhost:8080/",
     "height": 282
    },
    "id": "kr-EZkoDpZnV",
    "outputId": "1803af4e-5161-4505-e599-091992ba141c"
   },
   "outputs": [
    {
     "data": {
      "text/plain": [
       "<AxesSubplot:ylabel='Frequency'>"
      ]
     },
     "execution_count": 16,
     "metadata": {},
     "output_type": "execute_result"
    },
    {
     "data": {
      "image/png": "[encoded data removed]",
      "text/plain": [
       "<Figure size 432x288 with 1 Axes>"
      ]
     },
     "metadata": {
      "needs_background": "light"
     },
     "output_type": "display_data"
    }
   ],
   "source": [
    "final[final['척추이동척도']=='Extremely up']['PT'].plot.hist()"
   ]
  },
  {
   "cell_type": "code",
   "execution_count": 17,
   "id": "F6LlwKktacEQ",
   "metadata": {
    "colab": {
     "base_uri": "https://localhost:8080/",
     "height": 390
    },
    "id": "F6LlwKktacEQ",
    "outputId": "5661b8c5-6501-4db1-9b14-18353cb1f33a"
   },
   "outputs": [
    {
     "data": {
      "text/html": [
       "<div>\n",
       "<style scoped>\n",
       "    .dataframe tbody tr th:only-of-type {\n",
       "        vertical-align: middle;\n",
       "    }\n",
       "\n",
       "    .dataframe tbody tr th {\n",
       "        vertical-align: top;\n",
       "    }\n",
       "\n",
       "    .dataframe thead th {\n",
       "        text-align: right;\n",
       "    }\n",
       "</style>\n",
       "<table border=\"1\" class=\"dataframe\">\n",
       "  <thead>\n",
       "    <tr style=\"text-align: right;\">\n",
       "      <th></th>\n",
       "      <th>전방디스크높이(mm)</th>\n",
       "      <th>후방디스크높이(mm)</th>\n",
       "    </tr>\n",
       "  </thead>\n",
       "  <tbody>\n",
       "    <tr>\n",
       "      <th>120</th>\n",
       "      <td>12.3</td>\n",
       "      <td>101.0</td>\n",
       "    </tr>\n",
       "    <tr>\n",
       "      <th>590</th>\n",
       "      <td>12.3</td>\n",
       "      <td>101.0</td>\n",
       "    </tr>\n",
       "    <tr>\n",
       "      <th>1184</th>\n",
       "      <td>12.3</td>\n",
       "      <td>101.0</td>\n",
       "    </tr>\n",
       "  </tbody>\n",
       "</table>\n",
       "</div>"
      ],
      "text/plain": [
       "      전방디스크높이(mm)  후방디스크높이(mm)\n",
       "120          12.3        101.0\n",
       "590          12.3        101.0\n",
       "1184         12.3        101.0"
      ]
     },
     "execution_count": 17,
     "metadata": {},
     "output_type": "execute_result"
    },
    {
     "data": {
      "image/png": "[encoded data removed]",
      "text/plain": [
       "<Figure size 432x288 with 1 Axes>"
      ]
     },
     "metadata": {
      "needs_background": "light"
     },
     "output_type": "display_data"
    }
   ],
   "source": [
    "# 후방디스크 높이 100넘는거 이상치? -> 이상치 빼고 plot하면 이거\n",
    "final[final['후방디스크높이(mm)']<=100]['후방디스크높이(mm)'].plot.hist()\n",
    "final[final['후방디스크높이(mm)']>100][['전방디스크높이(mm)','후방디스크높이(mm)']]"
   ]
  },
  {
   "cell_type": "code",
   "execution_count": null,
   "id": "UIRziIMZpYa7",
   "metadata": {
    "id": "UIRziIMZpYa7"
   },
   "outputs": [],
   "source": []
  },
  {
   "cell_type": "code",
   "execution_count": null,
   "id": "XU5epBp8pKcb",
   "metadata": {
    "id": "XU5epBp8pKcb"
   },
   "outputs": [],
   "source": []
  },
  {
   "cell_type": "code",
   "execution_count": 18,
   "id": "jv4kDgSidTr-",
   "metadata": {
    "colab": {
     "base_uri": "https://localhost:8080/",
     "height": 282
    },
    "id": "jv4kDgSidTr-",
    "outputId": "c761d703-aa1a-4bb2-d269-bf7aa54a18e8"
   },
   "outputs": [
    {
     "data": {
      "text/plain": [
       "<AxesSubplot:ylabel='Frequency'>"
      ]
     },
     "execution_count": 18,
     "metadata": {},
     "output_type": "execute_result"
    },
    {
     "data": {
      "image/png": "[encoded data removed]",
      "text/plain": [
       "<Figure size 432x288 with 1 Axes>"
      ]
     },
     "metadata": {
      "needs_background": "light"
     },
     "output_type": "display_data"
    }
   ],
   "source": [
    "# 지방축적도 12000넘는거 이상치? -> 이상치 빼고 plot하면 이거\n",
    "final[final['지방축적도']<=12000]['지방축적도'].plot.hist(bins=20)"
   ]
  },
  {
   "cell_type": "code",
   "execution_count": 19,
   "id": "0lMDXhusGF5v",
   "metadata": {
    "colab": {
     "base_uri": "https://localhost:8080/",
     "height": 295
    },
    "id": "0lMDXhusGF5v",
    "outputId": "15eb5556-ed01-4aa5-f2f7-c398d9bca7b0"
   },
   "outputs": [
    {
     "data": {
      "text/html": [
       "<div>\n",
       "<style scoped>\n",
       "    .dataframe tbody tr th:only-of-type {\n",
       "        vertical-align: middle;\n",
       "    }\n",
       "\n",
       "    .dataframe tbody tr th {\n",
       "        vertical-align: top;\n",
       "    }\n",
       "\n",
       "    .dataframe thead th {\n",
       "        text-align: right;\n",
       "    }\n",
       "</style>\n",
       "<table border=\"1\" class=\"dataframe\">\n",
       "  <thead>\n",
       "    <tr style=\"text-align: right;\">\n",
       "      <th></th>\n",
       "      <th>PI</th>\n",
       "      <th>PT</th>\n",
       "    </tr>\n",
       "  </thead>\n",
       "  <tbody>\n",
       "    <tr>\n",
       "      <th>122</th>\n",
       "      <td>14.0</td>\n",
       "      <td>48.7</td>\n",
       "    </tr>\n",
       "    <tr>\n",
       "      <th>312</th>\n",
       "      <td>33.0</td>\n",
       "      <td>43.2</td>\n",
       "    </tr>\n",
       "    <tr>\n",
       "      <th>592</th>\n",
       "      <td>14.0</td>\n",
       "      <td>48.7</td>\n",
       "    </tr>\n",
       "    <tr>\n",
       "      <th>782</th>\n",
       "      <td>33.0</td>\n",
       "      <td>43.2</td>\n",
       "    </tr>\n",
       "    <tr>\n",
       "      <th>1009</th>\n",
       "      <td>11.9</td>\n",
       "      <td>45.5</td>\n",
       "    </tr>\n",
       "    <tr>\n",
       "      <th>1190</th>\n",
       "      <td>14.0</td>\n",
       "      <td>48.7</td>\n",
       "    </tr>\n",
       "    <tr>\n",
       "      <th>1437</th>\n",
       "      <td>28.6</td>\n",
       "      <td>36.5</td>\n",
       "    </tr>\n",
       "    <tr>\n",
       "      <th>1578</th>\n",
       "      <td>33.0</td>\n",
       "      <td>43.2</td>\n",
       "    </tr>\n",
       "  </tbody>\n",
       "</table>\n",
       "</div>"
      ],
      "text/plain": [
       "        PI    PT\n",
       "122   14.0  48.7\n",
       "312   33.0  43.2\n",
       "592   14.0  48.7\n",
       "782   33.0  43.2\n",
       "1009  11.9  45.5\n",
       "1190  14.0  48.7\n",
       "1437  28.6  36.5\n",
       "1578  33.0  43.2"
      ]
     },
     "execution_count": 19,
     "metadata": {},
     "output_type": "execute_result"
    }
   ],
   "source": [
    "final[final['PI']<final['PT']][['PI','PT']]"
   ]
  },
  {
   "cell_type": "code",
   "execution_count": 20,
   "id": "Qqbum83Zd-oP",
   "metadata": {
    "colab": {
     "base_uri": "https://localhost:8080/"
    },
    "id": "Qqbum83Zd-oP",
    "outputId": "4cec0dbc-da91-4293-cc44-d1c836359a74"
   },
   "outputs": [
    {
     "data": {
      "text/plain": [
       "25"
      ]
     },
     "execution_count": 20,
     "metadata": {},
     "output_type": "execute_result"
    }
   ],
   "source": [
    "len(df1[df1['디스크위치']>5]['디스크위치'])"
   ]
  },
  {
   "cell_type": "code",
   "execution_count": 21,
   "id": "IMzLaz5ZjPfF",
   "metadata": {
    "colab": {
     "base_uri": "https://localhost:8080/"
    },
    "id": "IMzLaz5ZjPfF",
    "outputId": "5022d2be-c9d2-44f8-b849-edccfa508ae1"
   },
   "outputs": [
    {
     "data": {
      "text/plain": [
       "275     23.8\n",
       "745     23.8\n",
       "1519    23.8\n",
       "Name: PT, dtype: float64"
      ]
     },
     "execution_count": 21,
     "metadata": {},
     "output_type": "execute_result"
    }
   ],
   "source": [
    "final[final['PI']>90]['PT']"
   ]
  },
  {
   "cell_type": "code",
   "execution_count": 22,
   "id": "-lLwJBm8rPJX",
   "metadata": {
    "colab": {
     "base_uri": "https://localhost:8080/"
    },
    "id": "-lLwJBm8rPJX",
    "outputId": "a3191ee3-e067-4c1a-8f3b-dcc70a2ff10e"
   },
   "outputs": [
    {
     "data": {
      "text/plain": [
       "count    1890.000000\n",
       "mean       15.050296\n",
       "std         8.557439\n",
       "min       -27.400000\n",
       "25%         8.800000\n",
       "50%        14.500000\n",
       "75%        21.100000\n",
       "max        59.400000\n",
       "Name: Seg Angle(raw), dtype: float64"
      ]
     },
     "execution_count": 22,
     "metadata": {},
     "output_type": "execute_result"
    }
   ],
   "source": [
    "final[final['Seg Angle(raw)']<90]['Seg Angle(raw)'].describe()"
   ]
  },
  {
   "cell_type": "code",
   "execution_count": 23,
   "id": "aYWTVPYtksd5",
   "metadata": {
    "colab": {
     "base_uri": "https://localhost:8080/",
     "height": 282
    },
    "id": "aYWTVPYtksd5",
    "outputId": "82cd3abf-fafd-41ff-c467-470d089f533d"
   },
   "outputs": [
    {
     "data": {
      "text/plain": [
       "<AxesSubplot:ylabel='Frequency'>"
      ]
     },
     "execution_count": 23,
     "metadata": {},
     "output_type": "execute_result"
    },
    {
     "data": {
      "image/png": "[encoded data removed]",
      "text/plain": [
       "<Figure size 432x288 with 1 Axes>"
      ]
     },
     "metadata": {
      "needs_background": "light"
     },
     "output_type": "display_data"
    }
   ],
   "source": [
    "final['PT'].plot.hist()"
   ]
  },
  {
   "cell_type": "code",
   "execution_count": 24,
   "id": "h6LMyKF-mLvV",
   "metadata": {
    "colab": {
     "base_uri": "https://localhost:8080/",
     "height": 313
    },
    "id": "h6LMyKF-mLvV",
    "outputId": "ec10a4e5-6a61-4c5d-b3b5-37fd9379ac68"
   },
   "outputs": [
    {
     "data": {
      "text/html": [
       "<div>\n",
       "<style scoped>\n",
       "    .dataframe tbody tr th:only-of-type {\n",
       "        vertical-align: middle;\n",
       "    }\n",
       "\n",
       "    .dataframe tbody tr th {\n",
       "        vertical-align: top;\n",
       "    }\n",
       "\n",
       "    .dataframe thead th {\n",
       "        text-align: right;\n",
       "    }\n",
       "</style>\n",
       "<table border=\"1\" class=\"dataframe\">\n",
       "  <thead>\n",
       "    <tr style=\"text-align: right;\">\n",
       "      <th></th>\n",
       "      <th>환자ID</th>\n",
       "      <th>전방디스크높이(mm)</th>\n",
       "      <th>후방디스크높이(mm)</th>\n",
       "      <th>지방축적도</th>\n",
       "      <th>Instability</th>\n",
       "      <th>MF + ES</th>\n",
       "      <th>Modic change</th>\n",
       "      <th>PI</th>\n",
       "      <th>PT</th>\n",
       "      <th>Seg Angle(raw)</th>\n",
       "      <th>...</th>\n",
       "      <th>환자통증정도</th>\n",
       "      <th>흡연여부</th>\n",
       "      <th>통증기간(월)</th>\n",
       "      <th>수술기법</th>\n",
       "      <th>수술시간</th>\n",
       "      <th>수술실패여부</th>\n",
       "      <th>수술일자</th>\n",
       "      <th>재발여부</th>\n",
       "      <th>혈액형</th>\n",
       "      <th>SS</th>\n",
       "    </tr>\n",
       "  </thead>\n",
       "  <tbody>\n",
       "    <tr>\n",
       "      <th>64</th>\n",
       "      <td>65PT</td>\n",
       "      <td>15.2</td>\n",
       "      <td>10.6</td>\n",
       "      <td>162.8</td>\n",
       "      <td>0</td>\n",
       "      <td>2941.4</td>\n",
       "      <td>0</td>\n",
       "      <td>43.7</td>\n",
       "      <td>18.8</td>\n",
       "      <td>165.0</td>\n",
       "      <td>...</td>\n",
       "      <td>8</td>\n",
       "      <td>0</td>\n",
       "      <td>2.0</td>\n",
       "      <td>TELD</td>\n",
       "      <td>86.0</td>\n",
       "      <td>0</td>\n",
       "      <td>20190216</td>\n",
       "      <td>0</td>\n",
       "      <td>RH+A</td>\n",
       "      <td>24.9</td>\n",
       "    </tr>\n",
       "    <tr>\n",
       "      <th>534</th>\n",
       "      <td>535PT</td>\n",
       "      <td>15.2</td>\n",
       "      <td>10.6</td>\n",
       "      <td>162.8</td>\n",
       "      <td>0</td>\n",
       "      <td>2941.4</td>\n",
       "      <td>0</td>\n",
       "      <td>43.7</td>\n",
       "      <td>18.8</td>\n",
       "      <td>165.0</td>\n",
       "      <td>...</td>\n",
       "      <td>8</td>\n",
       "      <td>0</td>\n",
       "      <td>1.0</td>\n",
       "      <td>TELD</td>\n",
       "      <td>102.0</td>\n",
       "      <td>0</td>\n",
       "      <td>20190114</td>\n",
       "      <td>0</td>\n",
       "      <td>RH+A</td>\n",
       "      <td>24.9</td>\n",
       "    </tr>\n",
       "    <tr>\n",
       "      <th>1080</th>\n",
       "      <td>1081PT</td>\n",
       "      <td>15.2</td>\n",
       "      <td>10.6</td>\n",
       "      <td>162.8</td>\n",
       "      <td>0</td>\n",
       "      <td>2941.4</td>\n",
       "      <td>0</td>\n",
       "      <td>43.7</td>\n",
       "      <td>18.8</td>\n",
       "      <td>165.0</td>\n",
       "      <td>...</td>\n",
       "      <td>8</td>\n",
       "      <td>1</td>\n",
       "      <td>0.5</td>\n",
       "      <td>TELD</td>\n",
       "      <td>45.0</td>\n",
       "      <td>0</td>\n",
       "      <td>20090428</td>\n",
       "      <td>0</td>\n",
       "      <td>RH+O</td>\n",
       "      <td>24.9</td>\n",
       "    </tr>\n",
       "  </tbody>\n",
       "</table>\n",
       "<p>3 rows × 52 columns</p>\n",
       "</div>"
      ],
      "text/plain": [
       "        환자ID  전방디스크높이(mm)  후방디스크높이(mm)  지방축적도  Instability  MF + ES  \\\n",
       "64      65PT         15.2         10.6  162.8            0   2941.4   \n",
       "534    535PT         15.2         10.6  162.8            0   2941.4   \n",
       "1080  1081PT         15.2         10.6  162.8            0   2941.4   \n",
       "\n",
       "      Modic change    PI    PT  Seg Angle(raw)  ...  환자통증정도  흡연여부  통증기간(월)  \\\n",
       "64               0  43.7  18.8           165.0  ...       8     0      2.0   \n",
       "534              0  43.7  18.8           165.0  ...       8     0      1.0   \n",
       "1080             0  43.7  18.8           165.0  ...       8     1      0.5   \n",
       "\n",
       "      수술기법   수술시간  수술실패여부      수술일자  재발여부   혈액형    SS  \n",
       "64    TELD   86.0       0  20190216     0  RH+A  24.9  \n",
       "534   TELD  102.0       0  20190114     0  RH+A  24.9  \n",
       "1080  TELD   45.0       0  20090428     0  RH+O  24.9  \n",
       "\n",
       "[3 rows x 52 columns]"
      ]
     },
     "execution_count": 24,
     "metadata": {},
     "output_type": "execute_result"
    }
   ],
   "source": [
    "final[final['Seg Angle(raw)']>90]"
   ]
  },
  {
   "cell_type": "code",
   "execution_count": 25,
   "id": "a2G0XpqCni0A",
   "metadata": {
    "colab": {
     "base_uri": "https://localhost:8080/",
     "height": 298
    },
    "id": "a2G0XpqCni0A",
    "outputId": "2b97c152-b850-40da-a6e4-884e68e9372d"
   },
   "outputs": [
    {
     "data": {
      "text/plain": [
       "<AxesSubplot:>"
      ]
     },
     "execution_count": 25,
     "metadata": {},
     "output_type": "execute_result"
    },
    {
     "data": {
      "image/png": "[encoded data removed]",
      "text/plain": [
       "<Figure size 432x288 with 1 Axes>"
      ]
     },
     "metadata": {
      "needs_background": "light"
     },
     "output_type": "display_data"
    }
   ],
   "source": [
    "\n",
    "pd.value_counts(final[final['척추이동척도'] == 'Up']['수술기법'].values).plot.bar()"
   ]
  },
  {
   "cell_type": "code",
   "execution_count": 26,
   "id": "ln5fzKppKliC",
   "metadata": {
    "colab": {
     "base_uri": "https://localhost:8080/",
     "height": 298
    },
    "id": "ln5fzKppKliC",
    "outputId": "13c2d526-a91f-4aa4-f0d8-97218603e269"
   },
   "outputs": [
    {
     "data": {
      "text/plain": [
       "<AxesSubplot:>"
      ]
     },
     "execution_count": 26,
     "metadata": {},
     "output_type": "execute_result"
    },
    {
     "data": {
      "image/png": "[encoded data removed]",
      "text/plain": [
       "<Figure size 432x288 with 1 Axes>"
      ]
     },
     "metadata": {
      "needs_background": "light"
     },
     "output_type": "display_data"
    }
   ],
   "source": [
    "\n",
    "pd.value_counts(final[final['척추이동척도'] == 'Extremely up']['수술기법'].values).plot.bar()"
   ]
  },
  {
   "cell_type": "code",
   "execution_count": 27,
   "id": "rFTYNkg3KyDx",
   "metadata": {
    "colab": {
     "base_uri": "https://localhost:8080/",
     "height": 298
    },
    "id": "rFTYNkg3KyDx",
    "outputId": "4b8c1129-0574-4754-dfe0-ef011331af54"
   },
   "outputs": [
    {
     "data": {
      "text/plain": [
       "<AxesSubplot:>"
      ]
     },
     "execution_count": 27,
     "metadata": {},
     "output_type": "execute_result"
    },
    {
     "data": {
      "image/png": "[encoded data removed]",
      "text/plain": [
       "<Figure size 432x288 with 1 Axes>"
      ]
     },
     "metadata": {
      "needs_background": "light"
     },
     "output_type": "display_data"
    }
   ],
   "source": [
    "\n",
    "pd.value_counts(final[final['척추이동척도'] == 'Extremely down']['수술기법'].values).plot.bar()"
   ]
  },
  {
   "cell_type": "code",
   "execution_count": 28,
   "id": "BLFCBt_UK6CT",
   "metadata": {
    "colab": {
     "base_uri": "https://localhost:8080/",
     "height": 298
    },
    "id": "BLFCBt_UK6CT",
    "outputId": "1f12cdc8-0622-4f43-bc4e-d635bfef7986"
   },
   "outputs": [
    {
     "data": {
      "text/plain": [
       "<AxesSubplot:>"
      ]
     },
     "execution_count": 28,
     "metadata": {},
     "output_type": "execute_result"
    },
    {
     "data": {
      "image/png": "[encoded data removed]",
      "text/plain": [
       "<Figure size 432x288 with 1 Axes>"
      ]
     },
     "metadata": {
      "needs_background": "light"
     },
     "output_type": "display_data"
    }
   ],
   "source": [
    "\n",
    "pd.value_counts(final[final['척추이동척도'] == 'Middle']['수술기법'].values).plot.bar()"
   ]
  },
  {
   "cell_type": "code",
   "execution_count": 29,
   "id": "Z5tOIuXMLn0j",
   "metadata": {
    "colab": {
     "base_uri": "https://localhost:8080/"
    },
    "id": "Z5tOIuXMLn0j",
    "outputId": "db9d2468-77a6-4291-807b-0638c5f80398"
   },
   "outputs": [
    {
     "data": {
      "text/plain": [
       "(0.9285714285714286, 0.9390316796174537)"
      ]
     },
     "execution_count": 29,
     "metadata": {},
     "output_type": "execute_result"
    }
   ],
   "source": [
    "#teld, 재발\n",
    "a = len(final[(final['수술실패여부']==0) & (final['수술기법']=='IELD')]) /len(final[final['수술기법']=='IELD']) \n",
    "b = len(final[(final['수술실패여부']==0) & (final['수술기법']=='TELD')]) /len(final[final['수술기법']=='TELD']) \n",
    "a,b\n",
    "# pd.value_counts(final[final['수술실패여부'] == 1]['수술기법'].values).plot.bar()"
   ]
  },
  {
   "cell_type": "code",
   "execution_count": 30,
   "id": "Jr08aEVOLN9m",
   "metadata": {
    "colab": {
     "base_uri": "https://localhost:8080/",
     "height": 282
    },
    "id": "Jr08aEVOLN9m",
    "outputId": "5090e984-678b-432d-93f4-c59bdf878400"
   },
   "outputs": [
    {
     "data": {
      "text/plain": [
       "<AxesSubplot:ylabel='Frequency'>"
      ]
     },
     "execution_count": 30,
     "metadata": {},
     "output_type": "execute_result"
    },
    {
     "data": {
      "image/png": "[encoded data removed]",
      "text/plain": [
       "<Figure size 432x288 with 1 Axes>"
      ]
     },
     "metadata": {
      "needs_background": "light"
     },
     "output_type": "display_data"
    }
   ],
   "source": [
    "final[final['수술기법']=='TELD']['연령'].plot.hist()"
   ]
  },
  {
   "cell_type": "code",
   "execution_count": 31,
   "id": "soz-lBgDiPKJ",
   "metadata": {
    "colab": {
     "base_uri": "https://localhost:8080/",
     "height": 826
    },
    "id": "soz-lBgDiPKJ",
    "outputId": "872ab3b8-9088-46cb-d4d2-c3a090cc918b"
   },
   "outputs": [
    {
     "data": {
      "text/plain": [
       "Text(0.5, 95.9999999999999, '디스크단면적')"
      ]
     },
     "execution_count": 31,
     "metadata": {},
     "output_type": "execute_result"
    },
    {
     "data": {
      "image/png": "[encoded data removed]",
      "text/plain": [
       "<Figure size 1080x936 with 12 Axes>"
      ]
     },
     "metadata": {
      "needs_background": "light"
     },
     "output_type": "display_data"
    }
   ],
   "source": [
    "fig,axes = plt.subplots(nrows = 4, ncols = 3, figsize = (15,13))\n",
    "plt.tight_layout(w_pad=3, h_pad = 3)\n",
    "axes[0,0].hist('전방디스크높이(mm)',data = final)\n",
    "axes[0,0].set_xlabel('전방디스크높이(mm)',fontsize = 10)\n",
    "axes[0,1].hist('후방디스크(mm)',data = final)\n",
    "axes[0,1].set_xlabel('후방디스크(mm)',fontsize = 10)\n",
    "axes[0,2].hist('지방축적도',data = final)\n",
    "axes[0,2].set_xlabel('지방축적도',fontsize = 10)\n",
    "axes[1,0].hist('Instability',data = final) # 범주형\n",
    "axes[1,0].set_xlabel('Instability',fontsize = 10)\n",
    "axes[1,1].hist('MF + ES',data = final)\n",
    "axes[1,1].set_xlabel('MF + ES',fontsize = 10)\n",
    "axes[1,2].hist('Modic change',data = final) # 범주형\n",
    "axes[1,2].set_xlabel('Modic change',fontsize = 10)\n",
    "axes[2,0].hist('PI',data = final)\n",
    "axes[2,0].set_xlabel('PI',fontsize = 10)\n",
    "axes[2,1].hist('PT',data = final)\n",
    "axes[2,1].set_xlabel('PT',fontsize = 10)\n",
    "axes[2,2].hist('Seg Angle(raw)',data = final)\n",
    "axes[2,2].set_xlabel('Seg Angle(raw)',fontsize = 10)\n",
    "axes[3,0].hist('Vaccum disc',data = final) # 범주형\n",
    "axes[3,0].set_xlabel('Vaccum disc',fontsize = 10)\n",
    "axes[3,1].hist('골밀도',data = final)\n",
    "axes[3,1].set_xlabel('골밀도',fontsize = 10)\n",
    "axes[3,2].hist('디스크단면적',data = final)\n",
    "axes[3,2].set_xlabel('디스크단면적',fontsize = 10)"
   ]
  },
  {
   "cell_type": "code",
   "execution_count": 32,
   "id": "lS0MkqdaMfWe",
   "metadata": {
    "colab": {
     "base_uri": "https://localhost:8080/",
     "height": 994
    },
    "id": "lS0MkqdaMfWe",
    "outputId": "e124fa92-3a98-4880-93b7-8e531dc8d149"
   },
   "outputs": [
    {
     "data": {
      "text/plain": [
       "Text(0.5, 95.9999999999999, '말초동맥질환여부')"
      ]
     },
     "execution_count": 32,
     "metadata": {},
     "output_type": "execute_result"
    },
    {
     "data": {
      "image/png": "[encoded data removed]",
      "text/plain": [
       "<Figure size 1080x936 with 12 Axes>"
      ]
     },
     "metadata": {
      "needs_background": "light"
     },
     "output_type": "display_data"
    }
   ],
   "source": [
    "\n",
    "\n",
    "\n",
    "fig,axes = plt.subplots(nrows = 4, ncols = 3, figsize = (15,13))\n",
    "plt.tight_layout(w_pad=3, h_pad = 3)\n",
    "axes[0,0].hist('디스크위치',data = final)\n",
    "axes[0,0].set_xlabel('디스크위치',fontsize = 10)\n",
    "\n",
    "axes[0,1].hist('척추이동척도',data = final) # 범주형\n",
    "axes[0,1].set_xlabel('척추이동척도',fontsize = 10)\n",
    "\n",
    "axes[0,2].hist('척추전방위증',data = final) # 범주형\n",
    "axes[0,2].set_xlabel('척추전방위증',fontsize = 10)\n",
    "\n",
    "axes[1,0].hist('Large Lymphocyte',data = final)\n",
    "axes[1,0].set_xlabel('Large Lymphocyte',fontsize = 10)\n",
    "\n",
    "axes[1,1].hist('Location of herniation',data = final) # 범주형\n",
    "axes[1,1].set_xlabel('Location of herniation',fontsize=10)\n",
    "axes[1,0].hist('Instability',data = final) # 범주형ize = 10)\n",
    "\n",
    "axes[1,2].hist('ODI',data = final)\n",
    "axes[1,2].set_xlabel('ODI',fontsize = 10)\n",
    "\n",
    "axes[2,0].hist('가족력',data = final) # 범주형\n",
    "axes[2,0].set_xlabel('가족력',fontsize = 10)\n",
    "axes[2,1].hist('간질성폐질환',data = final) # 범주형\n",
    "axes[2,1].set_xlabel('간질성폐질환',fontsize = 10)\n",
    "axes[2,2].hist('고혈압여부',data = final) # 범주형\n",
    "axes[2,2].set_xlabel('고혈압여부',fontsize = 10)\n",
    "axes[3,0].hist('과거수술횟수',data = final) # 범주형\n",
    "axes[3,0].set_xlabel('과거수술횟수',fontsize = 10)\n",
    "axes[3,1].hist('당뇨여부',data = final) # 범주형\n",
    "axes[3,1].set_xlabel('당뇨여부',fontsize = 10)\n",
    "\n",
    "axes[3,2].hist('말초동맥질환여부',data = final) # 범주형\n",
    "axes[3,2].set_xlabel('말초동맥질환여부',fontsize = 10)\n"
   ]
  },
  {
   "cell_type": "code",
   "execution_count": 33,
   "id": "btX4tX53w8_c",
   "metadata": {
    "colab": {
     "base_uri": "https://localhost:8080/"
    },
    "id": "btX4tX53w8_c",
    "outputId": "a4948588-02bb-4b93-fadf-3a28fd6e6532"
   },
   "outputs": [
    {
     "data": {
      "text/plain": [
       "1371    44\n",
       "1382    27\n",
       "1431    46\n",
       "1859    51\n",
       "Name: 입원기간, dtype: int64"
      ]
     },
     "execution_count": 33,
     "metadata": {},
     "output_type": "execute_result"
    }
   ],
   "source": [
    "final[final['입원기간']>20]['입원기간']"
   ]
  },
  {
   "cell_type": "code",
   "execution_count": 34,
   "id": "aXrvOubnubOL",
   "metadata": {
    "colab": {
     "base_uri": "https://localhost:8080/",
     "height": 826
    },
    "id": "aXrvOubnubOL",
    "outputId": "41bc7d8f-18ea-46f5-a90e-92123c6b8151"
   },
   "outputs": [
    {
     "data": {
      "text/plain": [
       "Text(0.5, 95.9999999999999, '입원일자')"
      ]
     },
     "execution_count": 34,
     "metadata": {},
     "output_type": "execute_result"
    },
    {
     "data": {
      "image/png": "[encoded data removed]",
      "text/plain": [
       "<Figure size 1080x936 with 12 Axes>"
      ]
     },
     "metadata": {
      "needs_background": "light"
     },
     "output_type": "display_data"
    }
   ],
   "source": [
    "\n",
    "\n",
    "fig,axes = plt.subplots(nrows = 4, ncols = 3, figsize = (15,13))\n",
    "plt.tight_layout(w_pad=3, h_pad = 3)\n",
    "axes[0,0].hist('빈혈여부',data = final) # 범주형\n",
    "axes[0,0].set_xlabel('빈혈여부',fontsize = 10)\n",
    "\n",
    "axes[0,1].hist('성별',data = final) # 범주형\n",
    "axes[0,1].set_xlabel('성별',fontsize = 10)\n",
    "\n",
    "axes[0,2].hist('척추전방위증',data = final) # 범주형\n",
    "axes[0,2].set_xlabel('척추전방위증',fontsize = 10)\n",
    "\n",
    "axes[1,0].hist('스테로이드치료',data = final) # 범주형\n",
    "axes[1,0].set_xlabel('스테로이드치료',fontsize = 10)\n",
    "\n",
    "axes[1,1].hist('신부전여부',data = final) # 범주형\n",
    "axes[1,1].set_xlabel('신부전여부',fontsize = 10)\n",
    "\n",
    "axes[1,2].hist('신장',data = final)\n",
    "axes[1,2].set_xlabel('신장',fontsize = 10)\n",
    "\n",
    "axes[2,0].hist('심혈관질환',data = final) # 범주형\n",
    "axes[2,0].set_xlabel('심혈관질환',fontsize = 10)\n",
    "axes[2,1].hist('암발병여부',data = final) # 범주형\n",
    "axes[2,1].set_xlabel('암발병여부',fontsize = 10)\n",
    "axes[2,2].hist('연령',data = final) \n",
    "axes[2,2].set_xlabel('연령',fontsize = 10)\n",
    "axes[3,0].hist('우울증여부',data = final) # 범주형\n",
    "axes[3,0].set_xlabel('우울증여부',fontsize = 10)\n",
    "axes[3,1].hist('입원기간',data = final) \n",
    "axes[3,1].set_xlabel('입원기간',fontsize = 10)\n",
    "\n",
    "axes[3,2].hist('입원일자',data = final) \n",
    "axes[3,2].set_xlabel('입원일자',fontsize = 10)\n"
   ]
  },
  {
   "cell_type": "code",
   "execution_count": 35,
   "id": "bbTduu-Cxl4m",
   "metadata": {
    "colab": {
     "base_uri": "https://localhost:8080/",
     "height": 825
    },
    "id": "bbTduu-Cxl4m",
    "outputId": "d5f2aedc-509f-43fc-afc9-d1c0ef4cfa7b"
   },
   "outputs": [
    {
     "data": {
      "text/plain": [
       "Text(0.5, 95.9999999999999, '수술실패여부')"
      ]
     },
     "execution_count": 35,
     "metadata": {},
     "output_type": "execute_result"
    },
    {
     "data": {
      "image/png": "[encoded data removed]",
      "text/plain": [
       "<Figure size 1080x936 with 12 Axes>"
      ]
     },
     "metadata": {
      "needs_background": "light"
     },
     "output_type": "display_data"
    }
   ],
   "source": [
    "\n",
    "\n",
    "fig,axes = plt.subplots(nrows = 4, ncols = 3, figsize = (15,13))\n",
    "plt.tight_layout(w_pad=3, h_pad = 3)\n",
    "axes[0,0].hist('종양진행여부',data = final) # 범주형\n",
    "axes[0,0].set_xlabel('종양진행여부',fontsize = 10)\n",
    "\n",
    "axes[0,1].hist('수술일자',data = final) \n",
    "axes[0,1].set_xlabel('수술일자',fontsize = 10)\n",
    "\n",
    "axes[0,2].hist('체중',data = final) \n",
    "axes[0,2].set_xlabel('체중',fontsize = 10)\n",
    "\n",
    "axes[1,0].hist('퇴원일자',data = final) \n",
    "axes[1,0].set_xlabel('퇴원일자',fontsize = 10)\n",
    "\n",
    "axes[1,1].hist('헤모글로빈수치',data = final) \n",
    "axes[1,1].set_xlabel('헤모글로빈수치',fontsize = 10)\n",
    "\n",
    "axes[1,2].hist('혈전합병증여부',data = final) # 범주형\n",
    "axes[1,2].set_xlabel('혈전합병증여부',fontsize = 10)\n",
    "\n",
    "axes[2,0].hist('환자통증정도',data = final) # 범주형\n",
    "axes[2,0].set_xlabel('환자통증정도',fontsize = 10)\n",
    "axes[2,1].hist('흡연여부',data = final) # 범주형\n",
    "axes[2,1].set_xlabel('흡연여부',fontsize = 10)\n",
    "axes[2,2].hist('통증기간(월)',data = final) \n",
    "axes[2,2].set_xlabel('통증기간(월)',fontsize = 10)\n",
    "axes[3,0].hist('재발여부',data = final) # 범주형\n",
    "axes[3,0].set_xlabel('재발여부',fontsize = 10)\n",
    "axes[3,1].hist('수술시간',data = final) \n",
    "axes[3,1].set_xlabel('수술시간',fontsize = 10)\n",
    "\n",
    "axes[3,2].hist('수술실패여부',data = final) # 범주형\n",
    "axes[3,2].set_xlabel('수술실패여부',fontsize = 10)\n"
   ]
  },
  {
   "cell_type": "code",
   "execution_count": 36,
   "id": "r71MbtGAArm7",
   "metadata": {
    "colab": {
     "base_uri": "https://localhost:8080/"
    },
    "id": "r71MbtGAArm7",
    "outputId": "3a930bfa-43a7-4bb7-a159-aff6af32fdff"
   },
   "outputs": [
    {
     "data": {
      "text/plain": [
       "115"
      ]
     },
     "execution_count": 36,
     "metadata": {},
     "output_type": "execute_result"
    }
   ],
   "source": [
    "len(final[final['수술실패여부'] == 1])"
   ]
  },
  {
   "cell_type": "code",
   "execution_count": 37,
   "id": "0J2fTzr3ytZB",
   "metadata": {
    "colab": {
     "base_uri": "https://localhost:8080/",
     "height": 318
    },
    "id": "0J2fTzr3ytZB",
    "outputId": "866b5c01-21e3-41e7-be58-1c3560eba3f8"
   },
   "outputs": [
    {
     "data": {
      "text/plain": [
       "<AxesSubplot:>"
      ]
     },
     "execution_count": 37,
     "metadata": {},
     "output_type": "execute_result"
    },
    {
     "data": {
      "image/png": "[encoded data removed]",
      "text/plain": [
       "<Figure size 432x288 with 1 Axes>"
      ]
     },
     "metadata": {
      "needs_background": "light"
     },
     "output_type": "display_data"
    }
   ],
   "source": [
    "pd.value_counts(final['직업'].values).plot.bar()"
   ]
  },
  {
   "cell_type": "code",
   "execution_count": 38,
   "id": "ZXYdC5ISzgLE",
   "metadata": {
    "colab": {
     "base_uri": "https://localhost:8080/",
     "height": 298
    },
    "id": "ZXYdC5ISzgLE",
    "outputId": "9b9e13ec-a4e6-4526-85c9-f3a2fe3a1a88"
   },
   "outputs": [
    {
     "data": {
      "text/plain": [
       "<AxesSubplot:>"
      ]
     },
     "execution_count": 38,
     "metadata": {},
     "output_type": "execute_result"
    },
    {
     "data": {
      "image/png": "[encoded data removed]",
      "text/plain": [
       "<Figure size 432x288 with 1 Axes>"
      ]
     },
     "metadata": {
      "needs_background": "light"
     },
     "output_type": "display_data"
    }
   ],
   "source": [
    "pd.value_counts(final['수술기법'].values).plot.bar()"
   ]
  },
  {
   "cell_type": "code",
   "execution_count": 39,
   "id": "hJK5CQqAzuS6",
   "metadata": {
    "colab": {
     "base_uri": "https://localhost:8080/",
     "height": 305
    },
    "id": "hJK5CQqAzuS6",
    "outputId": "66f5e592-22f1-48cd-bd6e-640be94b1fe6"
   },
   "outputs": [
    {
     "data": {
      "text/plain": [
       "<AxesSubplot:>"
      ]
     },
     "execution_count": 39,
     "metadata": {},
     "output_type": "execute_result"
    },
    {
     "data": {
      "image/png": "[encoded data removed]",
      "text/plain": [
       "<Figure size 432x288 with 1 Axes>"
      ]
     },
     "metadata": {
      "needs_background": "light"
     },
     "output_type": "display_data"
    }
   ],
   "source": [
    "pd.value_counts(final['혈액형'].values).plot.bar()"
   ]
  },
  {
   "cell_type": "code",
   "execution_count": 40,
   "id": "94hYwabEGqq-",
   "metadata": {
    "colab": {
     "base_uri": "https://localhost:8080/"
    },
    "id": "94hYwabEGqq-",
    "outputId": "4b850a12-8a1d-4d24-de75-4cf7a5ce94f8"
   },
   "outputs": [
    {
     "data": {
      "text/plain": [
       "896"
      ]
     },
     "execution_count": 40,
     "metadata": {},
     "output_type": "execute_result"
    }
   ],
   "source": [
    "final['골밀도'].isnull().sum()"
   ]
  },
  {
   "cell_type": "code",
   "execution_count": null,
   "id": "L1zTwt-IAQ_Y",
   "metadata": {
    "id": "L1zTwt-IAQ_Y"
   },
   "outputs": [],
   "source": []
  },
  {
   "cell_type": "code",
   "execution_count": 41,
   "id": "7291adfb",
   "metadata": {
    "colab": {
     "base_uri": "https://localhost:8080/",
     "height": 282
    },
    "id": "7291adfb",
    "outputId": "125412c6-034f-4079-f871-239fb8632dd0"
   },
   "outputs": [
    {
     "data": {
      "text/plain": [
       "<AxesSubplot:>"
      ]
     },
     "execution_count": 41,
     "metadata": {},
     "output_type": "execute_result"
    },
    {
     "data": {
      "image/png": "[encoded data removed]",
      "text/plain": [
       "<Figure size 432x288 with 1 Axes>"
      ]
     },
     "metadata": {
      "needs_background": "light"
     },
     "output_type": "display_data"
    }
   ],
   "source": [
    "df2['Large Lymphocyte'].plot.box()"
   ]
  },
  {
   "cell_type": "code",
   "execution_count": 42,
   "id": "96995cb0",
   "metadata": {
    "colab": {
     "base_uri": "https://localhost:8080/",
     "height": 186
    },
    "id": "96995cb0",
    "outputId": "19d8491b-9b75-40d7-efdf-d08c16a26521"
   },
   "outputs": [
    {
     "data": {
      "text/html": [
       "<div>\n",
       "<style scoped>\n",
       "    .dataframe tbody tr th:only-of-type {\n",
       "        vertical-align: middle;\n",
       "    }\n",
       "\n",
       "    .dataframe tbody tr th {\n",
       "        vertical-align: top;\n",
       "    }\n",
       "\n",
       "    .dataframe thead th {\n",
       "        text-align: right;\n",
       "    }\n",
       "</style>\n",
       "<table border=\"1\" class=\"dataframe\">\n",
       "  <thead>\n",
       "    <tr style=\"text-align: right;\">\n",
       "      <th></th>\n",
       "      <th>환자ID</th>\n",
       "      <th>Large Lymphocyte</th>\n",
       "      <th>Location of herniation</th>\n",
       "      <th>ODI</th>\n",
       "      <th>가족력</th>\n",
       "      <th>간질성폐질환</th>\n",
       "      <th>고혈압여부</th>\n",
       "      <th>과거수술횟수</th>\n",
       "      <th>당뇨여부</th>\n",
       "      <th>말초동맥질환여부</th>\n",
       "      <th>...</th>\n",
       "      <th>입원일자</th>\n",
       "      <th>종양진행여부</th>\n",
       "      <th>직업</th>\n",
       "      <th>체중</th>\n",
       "      <th>퇴원일자</th>\n",
       "      <th>헤모글로빈수치</th>\n",
       "      <th>혈전합병증여부</th>\n",
       "      <th>환자통증정도</th>\n",
       "      <th>흡연여부</th>\n",
       "      <th>통증기간(월)</th>\n",
       "    </tr>\n",
       "  </thead>\n",
       "  <tbody>\n",
       "  </tbody>\n",
       "</table>\n",
       "<p>0 rows × 30 columns</p>\n",
       "</div>"
      ],
      "text/plain": [
       "Empty DataFrame\n",
       "Columns: [환자ID, Large Lymphocyte, Location of herniation, ODI, 가족력, 간질성폐질환, 고혈압여부, 과거수술횟수, 당뇨여부, 말초동맥질환여부, 빈혈여부, 성별, 스테로이드치료, 신부전여부, 신장, 심혈관질환, 암발병여부, 연령, 우울증여부, 입원기간, 입원일자, 종양진행여부, 직업, 체중, 퇴원일자, 헤모글로빈수치, 혈전합병증여부, 환자통증정도, 흡연여부, 통증기간(월)]\n",
       "Index: []\n",
       "\n",
       "[0 rows x 30 columns]"
      ]
     },
     "execution_count": 42,
     "metadata": {},
     "output_type": "execute_result"
    }
   ],
   "source": [
    "df2[df2['Location of herniation']<=0]"
   ]
  },
  {
   "cell_type": "code",
   "execution_count": 43,
   "id": "829d3b42",
   "metadata": {
    "colab": {
     "base_uri": "https://localhost:8080/",
     "height": 349
    },
    "id": "829d3b42",
    "outputId": "cd25730c-cb01-42ff-e714-037c8a6c0fec"
   },
   "outputs": [
    {
     "data": {
      "text/html": [
       "<div>\n",
       "<style scoped>\n",
       "    .dataframe tbody tr th:only-of-type {\n",
       "        vertical-align: middle;\n",
       "    }\n",
       "\n",
       "    .dataframe tbody tr th {\n",
       "        vertical-align: top;\n",
       "    }\n",
       "\n",
       "    .dataframe thead th {\n",
       "        text-align: right;\n",
       "    }\n",
       "</style>\n",
       "<table border=\"1\" class=\"dataframe\">\n",
       "  <thead>\n",
       "    <tr style=\"text-align: right;\">\n",
       "      <th></th>\n",
       "      <th>Large Lymphocyte</th>\n",
       "      <th>Location of herniation</th>\n",
       "      <th>ODI</th>\n",
       "      <th>가족력</th>\n",
       "      <th>간질성폐질환</th>\n",
       "      <th>고혈압여부</th>\n",
       "      <th>과거수술횟수</th>\n",
       "      <th>당뇨여부</th>\n",
       "      <th>말초동맥질환여부</th>\n",
       "      <th>빈혈여부</th>\n",
       "      <th>성별</th>\n",
       "      <th>스테로이드치료</th>\n",
       "      <th>신부전여부</th>\n",
       "      <th>신장</th>\n",
       "      <th>심혈관질환</th>\n",
       "      <th>암발병여부</th>\n",
       "      <th>연령</th>\n",
       "    </tr>\n",
       "  </thead>\n",
       "  <tbody>\n",
       "    <tr>\n",
       "      <th>count</th>\n",
       "      <td>1894.000000</td>\n",
       "      <td>1894.000000</td>\n",
       "      <td>462.000000</td>\n",
       "      <td>1843.000000</td>\n",
       "      <td>1894.000000</td>\n",
       "      <td>1894.000000</td>\n",
       "      <td>1894.000000</td>\n",
       "      <td>1894.000000</td>\n",
       "      <td>1894.000000</td>\n",
       "      <td>1894.000000</td>\n",
       "      <td>1894.000000</td>\n",
       "      <td>1894.000000</td>\n",
       "      <td>1894.000000</td>\n",
       "      <td>1894.000000</td>\n",
       "      <td>1894.000000</td>\n",
       "      <td>1894.000000</td>\n",
       "      <td>1894.000000</td>\n",
       "    </tr>\n",
       "    <tr>\n",
       "      <th>mean</th>\n",
       "      <td>39.270750</td>\n",
       "      <td>2.295671</td>\n",
       "      <td>31.142857</td>\n",
       "      <td>0.049919</td>\n",
       "      <td>0.020063</td>\n",
       "      <td>0.130940</td>\n",
       "      <td>0.302534</td>\n",
       "      <td>0.062830</td>\n",
       "      <td>0.004224</td>\n",
       "      <td>0.024287</td>\n",
       "      <td>1.383316</td>\n",
       "      <td>0.598733</td>\n",
       "      <td>0.025343</td>\n",
       "      <td>168.027983</td>\n",
       "      <td>0.035903</td>\n",
       "      <td>0.013728</td>\n",
       "      <td>41.463569</td>\n",
       "    </tr>\n",
       "    <tr>\n",
       "      <th>std</th>\n",
       "      <td>13.675874</td>\n",
       "      <td>0.996143</td>\n",
       "      <td>10.131304</td>\n",
       "      <td>0.217836</td>\n",
       "      <td>0.140254</td>\n",
       "      <td>0.337424</td>\n",
       "      <td>0.638461</td>\n",
       "      <td>0.242721</td>\n",
       "      <td>0.064871</td>\n",
       "      <td>0.153980</td>\n",
       "      <td>0.486323</td>\n",
       "      <td>0.490284</td>\n",
       "      <td>0.157207</td>\n",
       "      <td>9.211419</td>\n",
       "      <td>0.186097</td>\n",
       "      <td>0.116388</td>\n",
       "      <td>13.444629</td>\n",
       "    </tr>\n",
       "    <tr>\n",
       "      <th>min</th>\n",
       "      <td>0.000000</td>\n",
       "      <td>1.000000</td>\n",
       "      <td>4.000000</td>\n",
       "      <td>0.000000</td>\n",
       "      <td>0.000000</td>\n",
       "      <td>0.000000</td>\n",
       "      <td>0.000000</td>\n",
       "      <td>0.000000</td>\n",
       "      <td>0.000000</td>\n",
       "      <td>0.000000</td>\n",
       "      <td>1.000000</td>\n",
       "      <td>0.000000</td>\n",
       "      <td>0.000000</td>\n",
       "      <td>140.000000</td>\n",
       "      <td>0.000000</td>\n",
       "      <td>0.000000</td>\n",
       "      <td>15.000000</td>\n",
       "    </tr>\n",
       "    <tr>\n",
       "      <th>25%</th>\n",
       "      <td>30.700000</td>\n",
       "      <td>1.000000</td>\n",
       "      <td>24.250000</td>\n",
       "      <td>0.000000</td>\n",
       "      <td>0.000000</td>\n",
       "      <td>0.000000</td>\n",
       "      <td>0.000000</td>\n",
       "      <td>0.000000</td>\n",
       "      <td>0.000000</td>\n",
       "      <td>0.000000</td>\n",
       "      <td>1.000000</td>\n",
       "      <td>0.000000</td>\n",
       "      <td>0.000000</td>\n",
       "      <td>161.000000</td>\n",
       "      <td>0.000000</td>\n",
       "      <td>0.000000</td>\n",
       "      <td>32.000000</td>\n",
       "    </tr>\n",
       "    <tr>\n",
       "      <th>50%</th>\n",
       "      <td>40.200000</td>\n",
       "      <td>2.000000</td>\n",
       "      <td>31.500000</td>\n",
       "      <td>0.000000</td>\n",
       "      <td>0.000000</td>\n",
       "      <td>0.000000</td>\n",
       "      <td>0.000000</td>\n",
       "      <td>0.000000</td>\n",
       "      <td>0.000000</td>\n",
       "      <td>0.000000</td>\n",
       "      <td>1.000000</td>\n",
       "      <td>1.000000</td>\n",
       "      <td>0.000000</td>\n",
       "      <td>169.000000</td>\n",
       "      <td>0.000000</td>\n",
       "      <td>0.000000</td>\n",
       "      <td>41.000000</td>\n",
       "    </tr>\n",
       "    <tr>\n",
       "      <th>75%</th>\n",
       "      <td>48.600000</td>\n",
       "      <td>3.000000</td>\n",
       "      <td>38.000000</td>\n",
       "      <td>0.000000</td>\n",
       "      <td>0.000000</td>\n",
       "      <td>0.000000</td>\n",
       "      <td>0.000000</td>\n",
       "      <td>0.000000</td>\n",
       "      <td>0.000000</td>\n",
       "      <td>0.000000</td>\n",
       "      <td>2.000000</td>\n",
       "      <td>1.000000</td>\n",
       "      <td>0.000000</td>\n",
       "      <td>175.000000</td>\n",
       "      <td>0.000000</td>\n",
       "      <td>0.000000</td>\n",
       "      <td>49.000000</td>\n",
       "    </tr>\n",
       "    <tr>\n",
       "      <th>max</th>\n",
       "      <td>89.000000</td>\n",
       "      <td>5.000000</td>\n",
       "      <td>68.000000</td>\n",
       "      <td>1.000000</td>\n",
       "      <td>1.000000</td>\n",
       "      <td>1.000000</td>\n",
       "      <td>3.000000</td>\n",
       "      <td>1.000000</td>\n",
       "      <td>1.000000</td>\n",
       "      <td>1.000000</td>\n",
       "      <td>2.000000</td>\n",
       "      <td>1.000000</td>\n",
       "      <td>1.000000</td>\n",
       "      <td>204.000000</td>\n",
       "      <td>1.000000</td>\n",
       "      <td>1.000000</td>\n",
       "      <td>86.000000</td>\n",
       "    </tr>\n",
       "  </tbody>\n",
       "</table>\n",
       "</div>"
      ],
      "text/plain": [
       "       Large Lymphocyte  Location of herniation         ODI          가족력  \\\n",
       "count       1894.000000             1894.000000  462.000000  1843.000000   \n",
       "mean          39.270750                2.295671   31.142857     0.049919   \n",
       "std           13.675874                0.996143   10.131304     0.217836   \n",
       "min            0.000000                1.000000    4.000000     0.000000   \n",
       "25%           30.700000                1.000000   24.250000     0.000000   \n",
       "50%           40.200000                2.000000   31.500000     0.000000   \n",
       "75%           48.600000                3.000000   38.000000     0.000000   \n",
       "max           89.000000                5.000000   68.000000     1.000000   \n",
       "\n",
       "            간질성폐질환        고혈압여부       과거수술횟수         당뇨여부     말초동맥질환여부  \\\n",
       "count  1894.000000  1894.000000  1894.000000  1894.000000  1894.000000   \n",
       "mean      0.020063     0.130940     0.302534     0.062830     0.004224   \n",
       "std       0.140254     0.337424     0.638461     0.242721     0.064871   \n",
       "min       0.000000     0.000000     0.000000     0.000000     0.000000   \n",
       "25%       0.000000     0.000000     0.000000     0.000000     0.000000   \n",
       "50%       0.000000     0.000000     0.000000     0.000000     0.000000   \n",
       "75%       0.000000     0.000000     0.000000     0.000000     0.000000   \n",
       "max       1.000000     1.000000     3.000000     1.000000     1.000000   \n",
       "\n",
       "              빈혈여부           성별      스테로이드치료        신부전여부           신장  \\\n",
       "count  1894.000000  1894.000000  1894.000000  1894.000000  1894.000000   \n",
       "mean      0.024287     1.383316     0.598733     0.025343   168.027983   \n",
       "std       0.153980     0.486323     0.490284     0.157207     9.211419   \n",
       "min       0.000000     1.000000     0.000000     0.000000   140.000000   \n",
       "25%       0.000000     1.000000     0.000000     0.000000   161.000000   \n",
       "50%       0.000000     1.000000     1.000000     0.000000   169.000000   \n",
       "75%       0.000000     2.000000     1.000000     0.000000   175.000000   \n",
       "max       1.000000     2.000000     1.000000     1.000000   204.000000   \n",
       "\n",
       "             심혈관질환        암발병여부           연령  \n",
       "count  1894.000000  1894.000000  1894.000000  \n",
       "mean      0.035903     0.013728    41.463569  \n",
       "std       0.186097     0.116388    13.444629  \n",
       "min       0.000000     0.000000    15.000000  \n",
       "25%       0.000000     0.000000    32.000000  \n",
       "50%       0.000000     0.000000    41.000000  \n",
       "75%       0.000000     0.000000    49.000000  \n",
       "max       1.000000     1.000000    86.000000  "
      ]
     },
     "execution_count": 43,
     "metadata": {},
     "output_type": "execute_result"
    }
   ],
   "source": [
    "df2.describe().loc[:,'Large Lymphocyte':'연령']"
   ]
  },
  {
   "cell_type": "code",
   "execution_count": 44,
   "id": "7ceffaac",
   "metadata": {
    "colab": {
     "base_uri": "https://localhost:8080/"
    },
    "id": "7ceffaac",
    "outputId": "32c5b404-8b69-4e45-8a32-b9417b513ecd"
   },
   "outputs": [
    {
     "data": {
      "text/plain": [
       "array([ 0.,  1., nan])"
      ]
     },
     "execution_count": 44,
     "metadata": {},
     "output_type": "execute_result"
    }
   ],
   "source": [
    "df2['가족력'].unique()"
   ]
  },
  {
   "cell_type": "code",
   "execution_count": 45,
   "id": "642be755",
   "metadata": {
    "colab": {
     "base_uri": "https://localhost:8080/"
    },
    "id": "642be755",
    "outputId": "3c146f65-9cfd-4803-f128-0827ed533db3"
   },
   "outputs": [
    {
     "data": {
      "text/plain": [
       "array([3, 4, 2, 5, 1])"
      ]
     },
     "execution_count": 45,
     "metadata": {},
     "output_type": "execute_result"
    }
   ],
   "source": [
    "df2['Location of herniation'].unique()"
   ]
  },
  {
   "cell_type": "code",
   "execution_count": 46,
   "id": "b927990d",
   "metadata": {
    "colab": {
     "base_uri": "https://localhost:8080/"
    },
    "id": "b927990d",
    "outputId": "538d7331-1663-46a4-f303-07980af06a3d"
   },
   "outputs": [
    {
     "data": {
      "text/plain": [
       "array([0, 1])"
      ]
     },
     "execution_count": 46,
     "metadata": {},
     "output_type": "execute_result"
    }
   ],
   "source": [
    "df2['간질성폐질환'].unique()"
   ]
  },
  {
   "cell_type": "code",
   "execution_count": 47,
   "id": "9fc4ab50",
   "metadata": {
    "colab": {
     "base_uri": "https://localhost:8080/"
    },
    "id": "9fc4ab50",
    "outputId": "d78ade37-9198-4ec3-a30c-9328b7e488a4"
   },
   "outputs": [
    {
     "data": {
      "text/plain": [
       "array([0, 1])"
      ]
     },
     "execution_count": 47,
     "metadata": {},
     "output_type": "execute_result"
    }
   ],
   "source": [
    "df2['고혈압여부'].unique()"
   ]
  },
  {
   "cell_type": "code",
   "execution_count": 48,
   "id": "1041976b",
   "metadata": {
    "colab": {
     "base_uri": "https://localhost:8080/"
    },
    "id": "1041976b",
    "outputId": "7a53b6ef-05fd-48cf-da75-4c66ec3b2d26"
   },
   "outputs": [
    {
     "data": {
      "text/plain": [
       "array([0, 1, 2, 3])"
      ]
     },
     "execution_count": 48,
     "metadata": {},
     "output_type": "execute_result"
    }
   ],
   "source": [
    "df2['과거수술횟수'].unique()"
   ]
  },
  {
   "cell_type": "code",
   "execution_count": 49,
   "id": "7d39386e",
   "metadata": {
    "colab": {
     "base_uri": "https://localhost:8080/"
    },
    "id": "7d39386e",
    "outputId": "6dee6e99-6875-429e-ac4c-4cb44595f274"
   },
   "outputs": [
    {
     "data": {
      "text/plain": [
       "array([0, 1])"
      ]
     },
     "execution_count": 49,
     "metadata": {},
     "output_type": "execute_result"
    }
   ],
   "source": [
    "df2['당뇨여부'].unique()"
   ]
  },
  {
   "cell_type": "code",
   "execution_count": 50,
   "id": "62dd593a",
   "metadata": {
    "colab": {
     "base_uri": "https://localhost:8080/"
    },
    "id": "62dd593a",
    "outputId": "1ad12f8d-4f6d-45f6-ae70-8ff3d02ee8cb"
   },
   "outputs": [
    {
     "data": {
      "text/plain": [
       "array([0, 1])"
      ]
     },
     "execution_count": 50,
     "metadata": {},
     "output_type": "execute_result"
    }
   ],
   "source": [
    "df2['말초동맥질환여부'].unique()"
   ]
  },
  {
   "cell_type": "code",
   "execution_count": 51,
   "id": "7ffeb28c",
   "metadata": {
    "colab": {
     "base_uri": "https://localhost:8080/"
    },
    "id": "7ffeb28c",
    "outputId": "26a2d77a-8f27-4285-d986-4dc2a0044881"
   },
   "outputs": [
    {
     "data": {
      "text/plain": [
       "array([0, 1])"
      ]
     },
     "execution_count": 51,
     "metadata": {},
     "output_type": "execute_result"
    }
   ],
   "source": [
    "df2['빈혈여부'].unique()"
   ]
  },
  {
   "cell_type": "code",
   "execution_count": 52,
   "id": "3f213fe7",
   "metadata": {
    "colab": {
     "base_uri": "https://localhost:8080/"
    },
    "id": "3f213fe7",
    "outputId": "158d7bd8-6920-468b-ee0a-b71e01e1be9e"
   },
   "outputs": [
    {
     "data": {
      "text/plain": [
       "array([2, 1])"
      ]
     },
     "execution_count": 52,
     "metadata": {},
     "output_type": "execute_result"
    }
   ],
   "source": [
    "df2['성별'].unique()"
   ]
  },
  {
   "cell_type": "code",
   "execution_count": 53,
   "id": "fa1f49b1",
   "metadata": {
    "colab": {
     "base_uri": "https://localhost:8080/"
    },
    "id": "fa1f49b1",
    "outputId": "73745a1d-3372-48a2-893b-ed8c280e6c6b"
   },
   "outputs": [
    {
     "data": {
      "text/plain": [
       "array([1, 0])"
      ]
     },
     "execution_count": 53,
     "metadata": {},
     "output_type": "execute_result"
    }
   ],
   "source": [
    "df2['스테로이드치료'].unique()"
   ]
  },
  {
   "cell_type": "code",
   "execution_count": 54,
   "id": "5387e65b",
   "metadata": {
    "colab": {
     "base_uri": "https://localhost:8080/"
    },
    "id": "5387e65b",
    "outputId": "8b14c17f-bf63-47d0-acca-d6518cd619f1"
   },
   "outputs": [
    {
     "data": {
      "text/plain": [
       "array([0, 1])"
      ]
     },
     "execution_count": 54,
     "metadata": {},
     "output_type": "execute_result"
    }
   ],
   "source": [
    "df2['신부전여부'].unique()"
   ]
  },
  {
   "cell_type": "code",
   "execution_count": 55,
   "id": "c90feb6f",
   "metadata": {
    "colab": {
     "base_uri": "https://localhost:8080/",
     "height": 282
    },
    "id": "c90feb6f",
    "outputId": "86ab4844-e23f-4773-c4c3-d57d41ede044"
   },
   "outputs": [
    {
     "data": {
      "text/plain": [
       "<AxesSubplot:>"
      ]
     },
     "execution_count": 55,
     "metadata": {},
     "output_type": "execute_result"
    },
    {
     "data": {
      "image/png": "[encoded data removed]",
      "text/plain": [
       "<Figure size 432x288 with 1 Axes>"
      ]
     },
     "metadata": {
      "needs_background": "light"
     },
     "output_type": "display_data"
    }
   ],
   "source": [
    "\n",
    "df2['신장'].plot.box()"
   ]
  },
  {
   "cell_type": "code",
   "execution_count": 56,
   "id": "1a043f15",
   "metadata": {
    "colab": {
     "base_uri": "https://localhost:8080/"
    },
    "id": "1a043f15",
    "outputId": "a7bee225-e245-472d-c862-3885ddbdecce"
   },
   "outputs": [
    {
     "data": {
      "text/plain": [
       "1579    39\n",
       "Name: 연령, dtype: int64"
      ]
     },
     "execution_count": 56,
     "metadata": {},
     "output_type": "execute_result"
    }
   ],
   "source": [
    "df2[df2['신장']>200]['연령']"
   ]
  },
  {
   "cell_type": "code",
   "execution_count": 57,
   "id": "651ff88c",
   "metadata": {
    "colab": {
     "base_uri": "https://localhost:8080/",
     "height": 285
    },
    "id": "651ff88c",
    "outputId": "4f7a6cc6-e1e0-44f7-e46f-32c03f326035"
   },
   "outputs": [
    {
     "data": {
      "text/plain": [
       "<AxesSubplot:>"
      ]
     },
     "execution_count": 57,
     "metadata": {},
     "output_type": "execute_result"
    },
    {
     "data": {
      "image/png": "[encoded data removed]",
      "text/plain": [
       "<Figure size 432x288 with 1 Axes>"
      ]
     },
     "metadata": {
      "needs_background": "light"
     },
     "output_type": "display_data"
    }
   ],
   "source": [
    "df2['체중'].plot.box()"
   ]
  },
  {
   "cell_type": "code",
   "execution_count": 58,
   "id": "0fd32624",
   "metadata": {
    "colab": {
     "base_uri": "https://localhost:8080/",
     "height": 142
    },
    "id": "0fd32624",
    "outputId": "59350a5e-d78c-401b-a8b6-7f96d0fcdcee"
   },
   "outputs": [
    {
     "data": {
      "text/html": [
       "<div>\n",
       "<style scoped>\n",
       "    .dataframe tbody tr th:only-of-type {\n",
       "        vertical-align: middle;\n",
       "    }\n",
       "\n",
       "    .dataframe tbody tr th {\n",
       "        vertical-align: top;\n",
       "    }\n",
       "\n",
       "    .dataframe thead th {\n",
       "        text-align: right;\n",
       "    }\n",
       "</style>\n",
       "<table border=\"1\" class=\"dataframe\">\n",
       "  <thead>\n",
       "    <tr style=\"text-align: right;\">\n",
       "      <th></th>\n",
       "      <th>체중</th>\n",
       "      <th>신장</th>\n",
       "      <th>연령</th>\n",
       "    </tr>\n",
       "  </thead>\n",
       "  <tbody>\n",
       "    <tr>\n",
       "      <th>896</th>\n",
       "      <td>35.0</td>\n",
       "      <td>140</td>\n",
       "      <td>48</td>\n",
       "    </tr>\n",
       "    <tr>\n",
       "      <th>1166</th>\n",
       "      <td>38.0</td>\n",
       "      <td>162</td>\n",
       "      <td>32</td>\n",
       "    </tr>\n",
       "    <tr>\n",
       "      <th>1763</th>\n",
       "      <td>35.0</td>\n",
       "      <td>140</td>\n",
       "      <td>86</td>\n",
       "    </tr>\n",
       "  </tbody>\n",
       "</table>\n",
       "</div>"
      ],
      "text/plain": [
       "        체중   신장  연령\n",
       "896   35.0  140  48\n",
       "1166  38.0  162  32\n",
       "1763  35.0  140  86"
      ]
     },
     "execution_count": 58,
     "metadata": {},
     "output_type": "execute_result"
    }
   ],
   "source": [
    "df2[df2['체중']<40][['체중','신장', '연령']]"
   ]
  },
  {
   "cell_type": "code",
   "execution_count": 59,
   "id": "15aa1832",
   "metadata": {
    "colab": {
     "base_uri": "https://localhost:8080/"
    },
    "id": "15aa1832",
    "outputId": "e62fed13-c404-47d4-8ed5-591b9b2165f2"
   },
   "outputs": [
    {
     "data": {
      "text/plain": [
       "(57, 3)"
      ]
     },
     "execution_count": 59,
     "metadata": {},
     "output_type": "execute_result"
    }
   ],
   "source": [
    "df2[df2['체중']>90][['체중','신장', '연령']].shape"
   ]
  },
  {
   "cell_type": "code",
   "execution_count": 60,
   "id": "729b57ac",
   "metadata": {
    "colab": {
     "base_uri": "https://localhost:8080/"
    },
    "id": "729b57ac",
    "outputId": "b55b3a74-1564-4c69-b6a6-82692c9cb635"
   },
   "outputs": [
    {
     "data": {
      "text/plain": [
       "array([0, 1])"
      ]
     },
     "execution_count": 60,
     "metadata": {},
     "output_type": "execute_result"
    }
   ],
   "source": [
    "df2['심혈관질환'].unique()"
   ]
  },
  {
   "cell_type": "code",
   "execution_count": 61,
   "id": "1a6deb11",
   "metadata": {
    "colab": {
     "base_uri": "https://localhost:8080/",
     "height": 278
    },
    "id": "1a6deb11",
    "outputId": "e72d1998-22f8-4930-d3f1-cd1f2c0b696f"
   },
   "outputs": [
    {
     "data": {
      "text/plain": [
       "<AxesSubplot:>"
      ]
     },
     "execution_count": 61,
     "metadata": {},
     "output_type": "execute_result"
    },
    {
     "data": {
      "image/png": "[encoded data removed]",
      "text/plain": [
       "<Figure size 432x288 with 1 Axes>"
      ]
     },
     "metadata": {
      "needs_background": "light"
     },
     "output_type": "display_data"
    }
   ],
   "source": [
    "df2['우울증여부'].value_counts().plot.bar()"
   ]
  },
  {
   "cell_type": "code",
   "execution_count": 62,
   "id": "a73f641d",
   "metadata": {
    "colab": {
     "base_uri": "https://localhost:8080/"
    },
    "id": "a73f641d",
    "outputId": "cdf0948b-821f-4a69-fffe-67f20420b10b"
   },
   "outputs": [
    {
     "data": {
      "text/plain": [
       "count    1894.000000\n",
       "mean       41.463569\n",
       "std        13.444629\n",
       "min        15.000000\n",
       "25%        32.000000\n",
       "50%        41.000000\n",
       "75%        49.000000\n",
       "max        86.000000\n",
       "Name: 연령, dtype: float64"
      ]
     },
     "execution_count": 62,
     "metadata": {},
     "output_type": "execute_result"
    }
   ],
   "source": [
    "df2['연령'].describe()"
   ]
  },
  {
   "cell_type": "code",
   "execution_count": 63,
   "id": "D1lR_TnUfm5Z",
   "metadata": {
    "colab": {
     "base_uri": "https://localhost:8080/"
    },
    "id": "D1lR_TnUfm5Z",
    "outputId": "bf0167fe-a31d-406e-c645-7ddeb580ffd1"
   },
   "outputs": [
    {
     "data": {
      "text/plain": [
       "array([3, 4, 2, 5, 1])"
      ]
     },
     "execution_count": 63,
     "metadata": {},
     "output_type": "execute_result"
    }
   ],
   "source": [
    "final['Location of herniation'].unique()"
   ]
  },
  {
   "cell_type": "code",
   "execution_count": 64,
   "id": "ec7972a3",
   "metadata": {
    "colab": {
     "base_uri": "https://localhost:8080/"
    },
    "id": "ec7972a3",
    "outputId": "7ac1495a-c8fe-4e1d-9413-4d99b0b41cbb"
   },
   "outputs": [
    {
     "data": {
      "text/plain": [
       "array([3, 1, 2])"
      ]
     },
     "execution_count": 64,
     "metadata": {},
     "output_type": "execute_result"
    }
   ],
   "source": [
    "final[(final['전방디스크높이(mm)']>final['후방디스크높이(mm)']) & (final['Seg Angle(raw)']<0)]['Location of herniation'].unique()"
   ]
  },
  {
   "cell_type": "code",
   "execution_count": 65,
   "id": "rdLkEkBXbOAO",
   "metadata": {
    "colab": {
     "base_uri": "https://localhost:8080/"
    },
    "id": "rdLkEkBXbOAO",
    "outputId": "c5fef85c-5bb2-40e4-8d38-49029b389156"
   },
   "outputs": [
    {
     "data": {
      "text/plain": [
       "array([3, 4, 2, 5, 1])"
      ]
     },
     "execution_count": 65,
     "metadata": {},
     "output_type": "execute_result"
    }
   ],
   "source": [
    "final[(final['전방디스크높이(mm)']>final['후방디스크높이(mm)']) & (final['Seg Angle(raw)']>0)]['Location of herniation'].unique()"
   ]
  },
  {
   "cell_type": "code",
   "execution_count": 66,
   "id": "DV5AeixCdaBu",
   "metadata": {
    "colab": {
     "base_uri": "https://localhost:8080/"
    },
    "id": "DV5AeixCdaBu",
    "outputId": "48970a3d-7aba-49dc-81d3-2916af9751aa"
   },
   "outputs": [
    {
     "data": {
      "text/plain": [
       "array([2])"
      ]
     },
     "execution_count": 66,
     "metadata": {},
     "output_type": "execute_result"
    }
   ],
   "source": [
    "final[(final['전방디스크높이(mm)']<final['후방디스크높이(mm)']) & (final['Seg Angle(raw)']<0)]['Location of herniation'].unique()"
   ]
  },
  {
   "cell_type": "code",
   "execution_count": 67,
   "id": "ni0A1QCUdeo3",
   "metadata": {
    "colab": {
     "base_uri": "https://localhost:8080/"
    },
    "id": "ni0A1QCUdeo3",
    "outputId": "9b7aa1d8-b762-49c1-bba7-e5eb953cc986"
   },
   "outputs": [
    {
     "data": {
      "text/plain": [
       "array([3, 2, 1, 4, 5])"
      ]
     },
     "execution_count": 67,
     "metadata": {},
     "output_type": "execute_result"
    }
   ],
   "source": [
    "final[(final['전방디스크높이(mm)']<final['후방디스크높이(mm)']) & (final['Seg Angle(raw)']>0)]['Location of herniation'].unique()"
   ]
  },
  {
   "cell_type": "code",
   "execution_count": 68,
   "id": "ecfb3050",
   "metadata": {
    "id": "ecfb3050"
   },
   "outputs": [],
   "source": [
    "from datetime import datetime, timedelta\n",
    "def 요일(date_time):\n",
    "    s = str(date_time)\n",
    "    days = ['월','화','수','목','금','토','일']\n",
    "    date = int(s[4:6])#year=int(s[0:4]), month=int(s[4:6]), day=int(s[6:8]))\n",
    "    return date#days[date.weekday()]\n"
   ]
  },
  {
   "cell_type": "code",
   "execution_count": 69,
   "id": "c8f5af67",
   "metadata": {
    "colab": {
     "base_uri": "https://localhost:8080/",
     "height": 285
    },
    "id": "c8f5af67",
    "outputId": "05476a02-45ba-4deb-c494-d22d65c53926"
   },
   "outputs": [
    {
     "data": {
      "text/plain": [
       "<AxesSubplot:>"
      ]
     },
     "execution_count": 69,
     "metadata": {},
     "output_type": "execute_result"
    },
    {
     "data": {
      "image/png": "[encoded data removed]",
      "text/plain": [
       "<Figure size 432x288 with 1 Axes>"
      ]
     },
     "metadata": {
      "needs_background": "light"
     },
     "output_type": "display_data"
    }
   ],
   "source": [
    "# final['입원일자'].apply(요일)\n",
    "pd.value_counts(final[final['직업']=='사무직']['입원일자'].apply(요일).values).plot.bar()"
   ]
  },
  {
   "cell_type": "code",
   "execution_count": 70,
   "id": "uFplivFcvwQ4",
   "metadata": {
    "colab": {
     "base_uri": "https://localhost:8080/",
     "height": 285
    },
    "id": "uFplivFcvwQ4",
    "outputId": "02a82e11-2ce2-4aeb-97e1-48780995c7f9"
   },
   "outputs": [
    {
     "data": {
      "text/plain": [
       "<AxesSubplot:>"
      ]
     },
     "execution_count": 70,
     "metadata": {},
     "output_type": "execute_result"
    },
    {
     "data": {
      "image/png": "[encoded data removed]",
      "text/plain": [
       "<Figure size 432x288 with 1 Axes>"
      ]
     },
     "metadata": {
      "needs_background": "light"
     },
     "output_type": "display_data"
    }
   ],
   "source": [
    "# final['입원일자'].apply(요일)\n",
    "pd.value_counts(final[final['직업']=='사무직']['수술일자'].apply(요일).values).plot.bar()"
   ]
  },
  {
   "cell_type": "code",
   "execution_count": 71,
   "id": "wcQtbMs8wODC",
   "metadata": {
    "colab": {
     "base_uri": "https://localhost:8080/",
     "height": 318
    },
    "id": "wcQtbMs8wODC",
    "outputId": "9fc7953d-940f-4067-cdeb-145f6b2d9f45"
   },
   "outputs": [
    {
     "data": {
      "text/plain": [
       "<AxesSubplot:>"
      ]
     },
     "execution_count": 71,
     "metadata": {},
     "output_type": "execute_result"
    },
    {
     "data": {
      "image/png": "[encoded data removed]",
      "text/plain": [
       "<Figure size 432x288 with 1 Axes>"
      ]
     },
     "metadata": {
      "needs_background": "light"
     },
     "output_type": "display_data"
    }
   ],
   "source": [
    "pd.value_counts(final[final['수술일자'].apply(요일)==8]['직업']).plot.bar()"
   ]
  },
  {
   "cell_type": "code",
   "execution_count": 72,
   "id": "teMP7OAGB4xH",
   "metadata": {
    "colab": {
     "base_uri": "https://localhost:8080/"
    },
    "id": "teMP7OAGB4xH",
    "outputId": "a14f7d6a-a735-4557-bb9c-512f9b8f7601"
   },
   "outputs": [
    {
     "data": {
      "text/plain": [
       "numpy.int64"
      ]
     },
     "execution_count": 72,
     "metadata": {},
     "output_type": "execute_result"
    }
   ],
   "source": [
    "type(final['입원일자'][0])"
   ]
  },
  {
   "cell_type": "code",
   "execution_count": 73,
   "id": "gSEtfjXYF_5-",
   "metadata": {
    "id": "gSEtfjXYF_5-"
   },
   "outputs": [],
   "source": [
    "# 연령별 수술시간 비교 -> 효과적인 수술 시간을 배치를 해여 의사의 피로도를 줄여 의료서비스 개선? 연령별로 수술에 걸리는 시간 비교하고 오래 걸리는 경우와 짧게 걸리는 경우를 잘 배치해서 의사 피로도를 줄인다. \n",
    "# 재발여부 직업군에 따라 / 기타 특징들\n"
   ]
  },
  {
   "cell_type": "code",
   "execution_count": 74,
   "id": "DIHNTOSSGcJz",
   "metadata": {
    "colab": {
     "base_uri": "https://localhost:8080/",
     "height": 297
    },
    "id": "DIHNTOSSGcJz",
    "outputId": "deaa3296-fb99-497c-b606-eeb51baaf55f"
   },
   "outputs": [
    {
     "data": {
      "text/plain": [
       "<AxesSubplot:xlabel='연령대', ylabel='통증기간(월)'>"
      ]
     },
     "execution_count": 74,
     "metadata": {},
     "output_type": "execute_result"
    },
    {
     "data": {
      "image/png": "[encoded data removed]",
      "text/plain": [
       "<Figure size 432x288 with 1 Axes>"
      ]
     },
     "metadata": {
      "needs_background": "light"
     },
     "output_type": "display_data"
    }
   ],
   "source": [
    "import seaborn as sns\n",
    "\n",
    "# 연령대 통증기간 긴지? -> 참아온것 이를 개선할 수 있는가?\n",
    "def 연령(age):\n",
    "  return age//10\n",
    "\n",
    "final['연령대'] = final['연령'].apply(연령)\n",
    "\n",
    "sns.boxplot(x='연령대', y='통증기간(월)', data=final)"
   ]
  },
  {
   "cell_type": "code",
   "execution_count": 75,
   "id": "Y5yU5VW1PUDv",
   "metadata": {
    "colab": {
     "base_uri": "https://localhost:8080/",
     "height": 297
    },
    "id": "Y5yU5VW1PUDv",
    "outputId": "9e95e3e0-6dec-4268-9524-947b22a6234a"
   },
   "outputs": [
    {
     "data": {
      "text/plain": [
       "<AxesSubplot:xlabel='연령대'>"
      ]
     },
     "execution_count": 75,
     "metadata": {},
     "output_type": "execute_result"
    },
    {
     "data": {
      "image/png": "[encoded data removed]",
      "text/plain": [
       "<Figure size 432x288 with 1 Axes>"
      ]
     },
     "metadata": {
      "needs_background": "light"
     },
     "output_type": "display_data"
    }
   ],
   "source": [
    "final[['통증기간(월)','연령대']].groupby('연령대').mean().plot.line()"
   ]
  },
  {
   "cell_type": "code",
   "execution_count": 76,
   "id": "38sPpVSdP785",
   "metadata": {
    "colab": {
     "base_uri": "https://localhost:8080/",
     "height": 297
    },
    "id": "38sPpVSdP785",
    "outputId": "00da0e88-d0d6-4603-e975-fcf7cbe1d432"
   },
   "outputs": [
    {
     "data": {
      "text/plain": [
       "<AxesSubplot:xlabel='연령', ylabel='통증기간(월)'>"
      ]
     },
     "execution_count": 76,
     "metadata": {},
     "output_type": "execute_result"
    },
    {
     "data": {
      "image/png": "[encoded data removed]",
      "text/plain": [
       "<Figure size 432x288 with 1 Axes>"
      ]
     },
     "metadata": {
      "needs_background": "light"
     },
     "output_type": "display_data"
    }
   ],
   "source": [
    "final.plot.scatter(x='연령',y='통증기간(월)')"
   ]
  },
  {
   "cell_type": "code",
   "execution_count": 77,
   "id": "XjuWajoRMgbo",
   "metadata": {
    "colab": {
     "base_uri": "https://localhost:8080/",
     "height": 297
    },
    "id": "XjuWajoRMgbo",
    "outputId": "e6c3e0e1-808b-4fff-ee0d-40c1b157880d"
   },
   "outputs": [
    {
     "data": {
      "text/plain": [
       "<AxesSubplot:xlabel='재발여부', ylabel='수술시간'>"
      ]
     },
     "execution_count": 77,
     "metadata": {},
     "output_type": "execute_result"
    },
    {
     "data": {
      "image/png": "[encoded data removed]",
      "text/plain": [
       "<Figure size 432x288 with 1 Axes>"
      ]
     },
     "metadata": {
      "needs_background": "light"
     },
     "output_type": "display_data"
    }
   ],
   "source": [
    "sns.boxplot(x='재발여부', y='수술시간', data=final)"
   ]
  },
  {
   "cell_type": "code",
   "execution_count": 78,
   "id": "Wgxle-RHQyso",
   "metadata": {
    "colab": {
     "base_uri": "https://localhost:8080/",
     "height": 297
    },
    "id": "Wgxle-RHQyso",
    "outputId": "f61390ac-87ba-4d66-b627-7458e1fe7b16"
   },
   "outputs": [
    {
     "data": {
      "text/plain": [
       "<AxesSubplot:xlabel='빈혈여부', ylabel='수술시간'>"
      ]
     },
     "execution_count": 78,
     "metadata": {},
     "output_type": "execute_result"
    },
    {
     "data": {
      "image/png": "[encoded data removed]",
      "text/plain": [
       "<Figure size 432x288 with 1 Axes>"
      ]
     },
     "metadata": {
      "needs_background": "light"
     },
     "output_type": "display_data"
    }
   ],
   "source": [
    "sns.boxplot(x='빈혈여부', y='수술시간', data=final)"
   ]
  },
  {
   "cell_type": "code",
   "execution_count": 79,
   "id": "L20If_O8K0wB",
   "metadata": {
    "colab": {
     "base_uri": "https://localhost:8080/"
    },
    "id": "L20If_O8K0wB",
    "outputId": "36fc5383-d55f-4945-ae16-f174a61d2d2a"
   },
   "outputs": [
    {
     "data": {
      "text/plain": [
       "Index(['환자ID', '전방디스크높이(mm)', '후방디스크높이(mm)', '지방축적도', 'Instability', 'MF + ES',\n",
       "       'Modic change', 'PI', 'PT', 'Seg Angle(raw)', 'Vaccum disc', '골밀도',\n",
       "       '디스크단면적', '디스크위치', '척추이동척도', '척추전방위증', 'Large Lymphocyte',\n",
       "       'Location of herniation', 'ODI', '가족력', '간질성폐질환', '고혈압여부', '과거수술횟수',\n",
       "       '당뇨여부', '말초동맥질환여부', '빈혈여부', '성별', '스테로이드치료', '신부전여부', '신장', '심혈관질환',\n",
       "       '암발병여부', '연령', '우울증여부', '입원기간', '입원일자', '종양진행여부', '직업', '체중', '퇴원일자',\n",
       "       '헤모글로빈수치', '혈전합병증여부', '환자통증정도', '흡연여부', '통증기간(월)', '수술기법', '수술시간',\n",
       "       '수술실패여부', '수술일자', '재발여부', '혈액형', 'SS', '연령대'],\n",
       "      dtype='object')"
      ]
     },
     "execution_count": 79,
     "metadata": {},
     "output_type": "execute_result"
    }
   ],
   "source": [
    "final.columns"
   ]
  },
  {
   "cell_type": "code",
   "execution_count": 80,
   "id": "iTd-khA3LOib",
   "metadata": {
    "id": "iTd-khA3LOib"
   },
   "outputs": [],
   "source": [
    "from datetime import datetime, timedelta\n",
    "def 연도(date_time):\n",
    "    s = str(date_time)\n",
    "    days = ['월','화','수','목','금','토','일']\n",
    "    date = int(s[:4])#year=int(s[0:4]), month=int(s[4:6]), day=int(s[6:8]))\n",
    "    return date#days[date.weekday()]\n"
   ]
  },
  {
   "cell_type": "code",
   "execution_count": 81,
   "id": "vWAap32rYO-m",
   "metadata": {
    "colab": {
     "base_uri": "https://localhost:8080/",
     "height": 297
    },
    "id": "vWAap32rYO-m",
    "outputId": "f4476438-e085-4b34-9504-1232df5019fb"
   },
   "outputs": [
    {
     "data": {
      "text/plain": [
       "<AxesSubplot:xlabel='연도'>"
      ]
     },
     "execution_count": 81,
     "metadata": {},
     "output_type": "execute_result"
    },
    {
     "data": {
      "image/png": "[encoded data removed]",
      "text/plain": [
       "<Figure size 432x288 with 1 Axes>"
      ]
     },
     "metadata": {
      "needs_background": "light"
     },
     "output_type": "display_data"
    }
   ],
   "source": [
    "# 헤모글로빈 수치 & 혈액팩 -> 수혈팩 재고 관리?\n",
    "final['연도'] = final['수술일자'].apply(연도)\n",
    "final[['연도','헤모글로빈수치']].groupby('연도').mean().plot.line()"
   ]
  },
  {
   "cell_type": "code",
   "execution_count": 82,
   "id": "sq1tvFn5MCRG",
   "metadata": {
    "colab": {
     "base_uri": "https://localhost:8080/",
     "height": 318
    },
    "id": "sq1tvFn5MCRG",
    "outputId": "8e5371b2-902e-4958-a9b1-eb9d810f65b1"
   },
   "outputs": [
    {
     "data": {
      "text/plain": [
       "<AxesSubplot:xlabel='혈액형'>"
      ]
     },
     "execution_count": 82,
     "metadata": {},
     "output_type": "execute_result"
    },
    {
     "data": {
      "image/png": "[encoded data removed]",
      "text/plain": [
       "<Figure size 432x288 with 1 Axes>"
      ]
     },
     "metadata": {
      "needs_background": "light"
     },
     "output_type": "display_data"
    }
   ],
   "source": [
    "final[['헤모글로빈수치','혈액형']].groupby('혈액형').mean().plot.bar()"
   ]
  },
  {
   "cell_type": "code",
   "execution_count": 83,
   "id": "hFPBN7wBXIU5",
   "metadata": {
    "id": "hFPBN7wBXIU5"
   },
   "outputs": [],
   "source": [
    "df = pd.DataFrame()\n",
    "df['전체'] = final[['직업','재발여부']].groupby('직업').count()['재발여부']\n",
    "df['재발'] = final[final['재발여부']==1][['직업','재발여부']].groupby('직업').count()['재발여부']"
   ]
  },
  {
   "cell_type": "code",
   "execution_count": 84,
   "id": "MWc_jfNJYP8H",
   "metadata": {
    "colab": {
     "base_uri": "https://localhost:8080/",
     "height": 603
    },
    "id": "MWc_jfNJYP8H",
    "outputId": "ae8f3ef0-8c3b-4306-9fd4-fc270ec714de"
   },
   "outputs": [
    {
     "data": {
      "text/html": [
       "<div>\n",
       "<style scoped>\n",
       "    .dataframe tbody tr th:only-of-type {\n",
       "        vertical-align: middle;\n",
       "    }\n",
       "\n",
       "    .dataframe tbody tr th {\n",
       "        vertical-align: top;\n",
       "    }\n",
       "\n",
       "    .dataframe thead th {\n",
       "        text-align: right;\n",
       "    }\n",
       "</style>\n",
       "<table border=\"1\" class=\"dataframe\">\n",
       "  <thead>\n",
       "    <tr style=\"text-align: right;\">\n",
       "      <th></th>\n",
       "      <th>0</th>\n",
       "    </tr>\n",
       "    <tr>\n",
       "      <th>직업</th>\n",
       "      <th></th>\n",
       "    </tr>\n",
       "  </thead>\n",
       "  <tbody>\n",
       "    <tr>\n",
       "      <th>건설업</th>\n",
       "      <td>0.235294</td>\n",
       "    </tr>\n",
       "    <tr>\n",
       "      <th>운동선수</th>\n",
       "      <td>0.214286</td>\n",
       "    </tr>\n",
       "    <tr>\n",
       "      <th>교사</th>\n",
       "      <td>0.200000</td>\n",
       "    </tr>\n",
       "    <tr>\n",
       "      <th>공무원</th>\n",
       "      <td>0.176471</td>\n",
       "    </tr>\n",
       "    <tr>\n",
       "      <th>의료직</th>\n",
       "      <td>0.175000</td>\n",
       "    </tr>\n",
       "    <tr>\n",
       "      <th>자영업</th>\n",
       "      <td>0.169591</td>\n",
       "    </tr>\n",
       "    <tr>\n",
       "      <th>사무직</th>\n",
       "      <td>0.135857</td>\n",
       "    </tr>\n",
       "    <tr>\n",
       "      <th>사업가</th>\n",
       "      <td>0.128205</td>\n",
       "    </tr>\n",
       "    <tr>\n",
       "      <th>노동직</th>\n",
       "      <td>0.119048</td>\n",
       "    </tr>\n",
       "    <tr>\n",
       "      <th>무직</th>\n",
       "      <td>0.115854</td>\n",
       "    </tr>\n",
       "    <tr>\n",
       "      <th>농업</th>\n",
       "      <td>0.100000</td>\n",
       "    </tr>\n",
       "    <tr>\n",
       "      <th>운수업</th>\n",
       "      <td>0.080000</td>\n",
       "    </tr>\n",
       "    <tr>\n",
       "      <th>주부</th>\n",
       "      <td>0.078947</td>\n",
       "    </tr>\n",
       "    <tr>\n",
       "      <th>학생</th>\n",
       "      <td>0.051852</td>\n",
       "    </tr>\n",
       "    <tr>\n",
       "      <th>군인</th>\n",
       "      <td>0.044444</td>\n",
       "    </tr>\n",
       "    <tr>\n",
       "      <th>특수전문직</th>\n",
       "      <td>0.043478</td>\n",
       "    </tr>\n",
       "    <tr>\n",
       "      <th>예술가</th>\n",
       "      <td>0.000000</td>\n",
       "    </tr>\n",
       "  </tbody>\n",
       "</table>\n",
       "</div>"
      ],
      "text/plain": [
       "              0\n",
       "직업             \n",
       "건설업    0.235294\n",
       "운동선수   0.214286\n",
       "교사     0.200000\n",
       "공무원    0.176471\n",
       "의료직    0.175000\n",
       "자영업    0.169591\n",
       "사무직    0.135857\n",
       "사업가    0.128205\n",
       "노동직    0.119048\n",
       "무직     0.115854\n",
       "농업     0.100000\n",
       "운수업    0.080000\n",
       "주부     0.078947\n",
       "학생     0.051852\n",
       "군인     0.044444\n",
       "특수전문직  0.043478\n",
       "예술가    0.000000"
      ]
     },
     "execution_count": 84,
     "metadata": {},
     "output_type": "execute_result"
    }
   ],
   "source": [
    "df = df.fillna(0)\n",
    "pd.DataFrame(df['재발']/df['전체']).sort_values(by=0,ascending=False)"
   ]
  },
  {
   "cell_type": "code",
   "execution_count": 85,
   "id": "MFkMNAnzMTV_",
   "metadata": {
    "id": "MFkMNAnzMTV_"
   },
   "outputs": [
    {
     "data": {
      "text/plain": [
       "['환자ID',\n",
       " '전방디스크높이(mm)',\n",
       " '후방디스크높이(mm)',\n",
       " '지방축적도',\n",
       " 'Instability',\n",
       " 'MF + ES',\n",
       " 'Modic change',\n",
       " 'PI',\n",
       " 'PT',\n",
       " 'Seg Angle(raw)',\n",
       " 'Vaccum disc',\n",
       " '골밀도',\n",
       " '디스크단면적',\n",
       " '디스크위치',\n",
       " '척추이동척도',\n",
       " '척추전방위증',\n",
       " 'Large Lymphocyte',\n",
       " 'Location of herniation',\n",
       " 'ODI',\n",
       " '가족력',\n",
       " '간질성폐질환',\n",
       " '고혈압여부',\n",
       " '과거수술횟수',\n",
       " '당뇨여부',\n",
       " '말초동맥질환여부',\n",
       " '빈혈여부',\n",
       " '성별',\n",
       " '스테로이드치료',\n",
       " '신부전여부',\n",
       " '신장',\n",
       " '심혈관질환',\n",
       " '암발병여부',\n",
       " '연령',\n",
       " '우울증여부',\n",
       " '입원기간',\n",
       " '입원일자',\n",
       " '종양진행여부',\n",
       " '직업',\n",
       " '체중',\n",
       " '퇴원일자',\n",
       " '헤모글로빈수치',\n",
       " '혈전합병증여부',\n",
       " '환자통증정도',\n",
       " '흡연여부',\n",
       " '통증기간(월)',\n",
       " '수술기법',\n",
       " '수술시간',\n",
       " '수술실패여부',\n",
       " '수술일자',\n",
       " '재발여부',\n",
       " '혈액형',\n",
       " 'SS',\n",
       " '연령대']"
      ]
     },
     "execution_count": 85,
     "metadata": {},
     "output_type": "execute_result"
    }
   ],
   "source": [
    "# 병의 유무에 따라 통증정도\n",
    "['환자ID', '전방디스크높이(mm)', '후방디스크높이(mm)', '지방축적도', 'Instability', 'MF + ES',\n",
    "       'Modic change', 'PI', 'PT', 'Seg Angle(raw)', 'Vaccum disc', '골밀도',\n",
    "       '디스크단면적', '디스크위치', '척추이동척도', '척추전방위증', 'Large Lymphocyte',\n",
    "       'Location of herniation', 'ODI', '가족력', '간질성폐질환', '고혈압여부', '과거수술횟수',\n",
    "       '당뇨여부', '말초동맥질환여부', '빈혈여부', '성별', '스테로이드치료', '신부전여부', '신장', '심혈관질환',\n",
    "       '암발병여부', '연령', '우울증여부', '입원기간', '입원일자', '종양진행여부', '직업', '체중', '퇴원일자',\n",
    "       '헤모글로빈수치', '혈전합병증여부', '환자통증정도', '흡연여부', '통증기간(월)', '수술기법', '수술시간',\n",
    "       '수술실패여부', '수술일자', '재발여부', '혈액형', 'SS', '연령대']"
   ]
  },
  {
   "cell_type": "code",
   "execution_count": 86,
   "id": "EnJmpXpuOck2",
   "metadata": {
    "id": "EnJmpXpuOck2"
   },
   "outputs": [],
   "source": [
    "dis = ['척추전방위증','간질성폐질환','고혈압여부','당뇨여부','말초동맥질환여부','빈혈여부','신부전여부','심혈관질환','암발병여부','우울증여부','종양진행여부','혈전합병증여부']\n"
   ]
  },
  {
   "cell_type": "code",
   "execution_count": 87,
   "id": "579907df",
   "metadata": {
    "colab": {
     "base_uri": "https://localhost:8080/",
     "height": 282
    },
    "id": "579907df",
    "outputId": "b73efd34-cd02-4e17-a34b-1af6ff46582e"
   },
   "outputs": [
    {
     "data": {
      "text/plain": [
       "<AxesSubplot:ylabel='Frequency'>"
      ]
     },
     "execution_count": 87,
     "metadata": {},
     "output_type": "execute_result"
    },
    {
     "data": {
      "image/png": "[encoded data removed]",
      "text/plain": [
       "<Figure size 432x288 with 1 Axes>"
      ]
     },
     "metadata": {
      "needs_background": "light"
     },
     "output_type": "display_data"
    }
   ],
   "source": [
    "# pi, 척추이동척도 extremely up, down\n",
    "final[(final['척추이동척도']=='Extremely down')]['PT'].plot.hist()"
   ]
  },
  {
   "cell_type": "code",
   "execution_count": 88,
   "id": "23d42134",
   "metadata": {
    "colab": {
     "base_uri": "https://localhost:8080/",
     "height": 282
    },
    "id": "23d42134",
    "outputId": "e93bf4cd-58dd-4154-c475-9441f8e1acc5"
   },
   "outputs": [
    {
     "data": {
      "text/plain": [
       "<AxesSubplot:ylabel='Frequency'>"
      ]
     },
     "execution_count": 88,
     "metadata": {},
     "output_type": "execute_result"
    },
    {
     "data": {
      "image/png": "[encoded data removed]",
      "text/plain": [
       "<Figure size 432x288 with 1 Axes>"
      ]
     },
     "metadata": {
      "needs_background": "light"
     },
     "output_type": "display_data"
    }
   ],
   "source": [
    "final[(final['척추이동척도']=='Extremely up')]['PT'].plot.hist()"
   ]
  },
  {
   "cell_type": "code",
   "execution_count": 89,
   "id": "k4pama5gkeGN",
   "metadata": {
    "colab": {
     "base_uri": "https://localhost:8080/",
     "height": 282
    },
    "id": "k4pama5gkeGN",
    "outputId": "29e9293c-99cb-499b-a649-f674819067d5"
   },
   "outputs": [
    {
     "data": {
      "text/plain": [
       "<AxesSubplot:ylabel='Frequency'>"
      ]
     },
     "execution_count": 89,
     "metadata": {},
     "output_type": "execute_result"
    },
    {
     "data": {
      "image/png": "[encoded data removed]",
      "text/plain": [
       "<Figure size 432x288 with 1 Axes>"
      ]
     },
     "metadata": {
      "needs_background": "light"
     },
     "output_type": "display_data"
    }
   ],
   "source": [
    "final[(final['척추이동척도']=='Up')]['PI'].plot.hist()"
   ]
  },
  {
   "cell_type": "code",
   "execution_count": 90,
   "id": "c6043951",
   "metadata": {
    "colab": {
     "base_uri": "https://localhost:8080/",
     "height": 282
    },
    "id": "c6043951",
    "outputId": "765efec7-661d-4b80-e0e2-059b783e146d"
   },
   "outputs": [
    {
     "data": {
      "text/plain": [
       "<AxesSubplot:>"
      ]
     },
     "execution_count": 90,
     "metadata": {},
     "output_type": "execute_result"
    },
    {
     "data": {
      "image/png": "[encoded data removed]",
      "text/plain": [
       "<Figure size 432x288 with 1 Axes>"
      ]
     },
     "metadata": {
      "needs_background": "light"
     },
     "output_type": "display_data"
    }
   ],
   "source": [
    "df2['Large Lymphocyte'].plot.box()"
   ]
  },
  {
   "cell_type": "code",
   "execution_count": 91,
   "id": "76d9f42b",
   "metadata": {
    "colab": {
     "base_uri": "https://localhost:8080/"
    },
    "id": "76d9f42b",
    "outputId": "231673e3-5aad-4f59-ac19-5158ce572eb3"
   },
   "outputs": [
    {
     "data": {
      "text/plain": [
       "count    1894.000000\n",
       "mean       39.270750\n",
       "std        13.675874\n",
       "min         0.000000\n",
       "25%        30.700000\n",
       "50%        40.200000\n",
       "75%        48.600000\n",
       "max        89.000000\n",
       "Name: Large Lymphocyte, dtype: float64"
      ]
     },
     "execution_count": 91,
     "metadata": {},
     "output_type": "execute_result"
    }
   ],
   "source": [
    "df2['Large Lymphocyte'].describe() # 0인 값? & 89?"
   ]
  },
  {
   "cell_type": "code",
   "execution_count": 92,
   "id": "40f6b121",
   "metadata": {
    "colab": {
     "base_uri": "https://localhost:8080/",
     "height": 186
    },
    "id": "40f6b121",
    "outputId": "1db70860-ef1d-4dfa-ad46-0f917c1bdc70"
   },
   "outputs": [
    {
     "data": {
      "text/html": [
       "<div>\n",
       "<style scoped>\n",
       "    .dataframe tbody tr th:only-of-type {\n",
       "        vertical-align: middle;\n",
       "    }\n",
       "\n",
       "    .dataframe tbody tr th {\n",
       "        vertical-align: top;\n",
       "    }\n",
       "\n",
       "    .dataframe thead th {\n",
       "        text-align: right;\n",
       "    }\n",
       "</style>\n",
       "<table border=\"1\" class=\"dataframe\">\n",
       "  <thead>\n",
       "    <tr style=\"text-align: right;\">\n",
       "      <th></th>\n",
       "      <th>환자ID</th>\n",
       "      <th>Large Lymphocyte</th>\n",
       "      <th>Location of herniation</th>\n",
       "      <th>ODI</th>\n",
       "      <th>가족력</th>\n",
       "      <th>간질성폐질환</th>\n",
       "      <th>고혈압여부</th>\n",
       "      <th>과거수술횟수</th>\n",
       "      <th>당뇨여부</th>\n",
       "      <th>말초동맥질환여부</th>\n",
       "      <th>...</th>\n",
       "      <th>입원일자</th>\n",
       "      <th>종양진행여부</th>\n",
       "      <th>직업</th>\n",
       "      <th>체중</th>\n",
       "      <th>퇴원일자</th>\n",
       "      <th>헤모글로빈수치</th>\n",
       "      <th>혈전합병증여부</th>\n",
       "      <th>환자통증정도</th>\n",
       "      <th>흡연여부</th>\n",
       "      <th>통증기간(월)</th>\n",
       "    </tr>\n",
       "  </thead>\n",
       "  <tbody>\n",
       "  </tbody>\n",
       "</table>\n",
       "<p>0 rows × 30 columns</p>\n",
       "</div>"
      ],
      "text/plain": [
       "Empty DataFrame\n",
       "Columns: [환자ID, Large Lymphocyte, Location of herniation, ODI, 가족력, 간질성폐질환, 고혈압여부, 과거수술횟수, 당뇨여부, 말초동맥질환여부, 빈혈여부, 성별, 스테로이드치료, 신부전여부, 신장, 심혈관질환, 암발병여부, 연령, 우울증여부, 입원기간, 입원일자, 종양진행여부, 직업, 체중, 퇴원일자, 헤모글로빈수치, 혈전합병증여부, 환자통증정도, 흡연여부, 통증기간(월)]\n",
       "Index: []\n",
       "\n",
       "[0 rows x 30 columns]"
      ]
     },
     "execution_count": 92,
     "metadata": {},
     "output_type": "execute_result"
    }
   ],
   "source": [
    "df2[df2['ODI']>70]"
   ]
  },
  {
   "cell_type": "code",
   "execution_count": 93,
   "id": "f4c51a4e",
   "metadata": {
    "colab": {
     "base_uri": "https://localhost:8080/"
    },
    "id": "f4c51a4e",
    "outputId": "d867dafe-7d75-42a7-d361-6b2cefea183a"
   },
   "outputs": [
    {
     "data": {
      "text/plain": [
       "0          1PT\n",
       "1          2PT\n",
       "2          3PT\n",
       "3          4PT\n",
       "4          5PT\n",
       "         ...  \n",
       "1889    1890PT\n",
       "1890    1891PT\n",
       "1891    1892PT\n",
       "1892    1893PT\n",
       "1893    1894PT\n",
       "Name: 환자ID, Length: 1894, dtype: object"
      ]
     },
     "execution_count": 93,
     "metadata": {},
     "output_type": "execute_result"
    }
   ],
   "source": [
    "df1['환자ID']"
   ]
  },
  {
   "cell_type": "code",
   "execution_count": 94,
   "id": "i4LdYVR1Ntyd",
   "metadata": {
    "id": "i4LdYVR1Ntyd"
   },
   "outputs": [],
   "source": [
    "# final.to_csv('total.csv',index=False)"
   ]
  },
  {
   "cell_type": "markdown",
   "id": "09b44994",
   "metadata": {},
   "source": [
    "## 데이터 분석 1"
   ]
  },
  {
   "cell_type": "markdown",
   "id": "3c11a0a5",
   "metadata": {},
   "source": [
    "연령 별 \n",
    "\n",
    "퇴원일자 - 입원일자 => '입원기간' 이게 제일 정확하다"
   ]
  },
  {
   "cell_type": "code",
   "execution_count": 96,
   "id": "e06ba2db",
   "metadata": {},
   "outputs": [
    {
     "name": "stdout",
     "output_type": "stream",
     "text": [
      "<class 'pandas.core.frame.DataFrame'>\n",
      "Int64Index: 1894 entries, 0 to 1893\n",
      "Data columns (total 54 columns):\n",
      " #   Column                  Non-Null Count  Dtype  \n",
      "---  ------                  --------------  -----  \n",
      " 0   환자ID                    1894 non-null   object \n",
      " 1   전방디스크높이(mm)             1894 non-null   float64\n",
      " 2   후방디스크높이(mm)             1894 non-null   float64\n",
      " 3   지방축적도                   1891 non-null   float64\n",
      " 4   Instability             1894 non-null   int64  \n",
      " 5   MF + ES                 1894 non-null   float64\n",
      " 6   Modic change            1894 non-null   int64  \n",
      " 7   PI                      1890 non-null   float64\n",
      " 8   PT                      1890 non-null   float64\n",
      " 9   Seg Angle(raw)          1893 non-null   float64\n",
      " 10  Vaccum disc             1894 non-null   int64  \n",
      " 11  골밀도                     998 non-null    float64\n",
      " 12  디스크단면적                  1893 non-null   float64\n",
      " 13  디스크위치                   1894 non-null   int64  \n",
      " 14  척추이동척도                  1894 non-null   object \n",
      " 15  척추전방위증                  1894 non-null   int64  \n",
      " 16  Large Lymphocyte        1894 non-null   float64\n",
      " 17  Location of herniation  1894 non-null   int64  \n",
      " 18  ODI                     462 non-null    float64\n",
      " 19  가족력                     1843 non-null   float64\n",
      " 20  간질성폐질환                  1894 non-null   int64  \n",
      " 21  고혈압여부                   1894 non-null   int64  \n",
      " 22  과거수술횟수                  1894 non-null   int64  \n",
      " 23  당뇨여부                    1894 non-null   int64  \n",
      " 24  말초동맥질환여부                1894 non-null   int64  \n",
      " 25  빈혈여부                    1894 non-null   int64  \n",
      " 26  성별                      1894 non-null   int64  \n",
      " 27  스테로이드치료                 1894 non-null   int64  \n",
      " 28  신부전여부                   1894 non-null   int64  \n",
      " 29  신장                      1894 non-null   int64  \n",
      " 30  심혈관질환                   1894 non-null   int64  \n",
      " 31  암발병여부                   1894 non-null   int64  \n",
      " 32  연령                      1894 non-null   int64  \n",
      " 33  우울증여부                   1894 non-null   int64  \n",
      " 34  입원기간                    1894 non-null   int64  \n",
      " 35  입원일자                    1894 non-null   int64  \n",
      " 36  종양진행여부                  1894 non-null   int64  \n",
      " 37  직업                      1479 non-null   object \n",
      " 38  체중                      1894 non-null   float64\n",
      " 39  퇴원일자                    1894 non-null   int64  \n",
      " 40  헤모글로빈수치                 1893 non-null   float64\n",
      " 41  혈전합병증여부                 1894 non-null   int64  \n",
      " 42  환자통증정도                  1894 non-null   int64  \n",
      " 43  흡연여부                    1894 non-null   int64  \n",
      " 44  통증기간(월)                 1890 non-null   float64\n",
      " 45  수술기법                    1813 non-null   object \n",
      " 46  수술시간                    1840 non-null   float64\n",
      " 47  수술실패여부                  1894 non-null   int64  \n",
      " 48  수술일자                    1894 non-null   int64  \n",
      " 49  재발여부                    1894 non-null   int64  \n",
      " 50  혈액형                     1894 non-null   object \n",
      " 51  SS                      1890 non-null   float64\n",
      " 52  연령대                     1894 non-null   int64  \n",
      " 53  연도                      1894 non-null   int64  \n",
      "dtypes: float64(17), int64(32), object(5)\n",
      "memory usage: 878.4+ KB\n"
     ]
    }
   ],
   "source": [
    "final.info(0)"
   ]
  },
  {
   "cell_type": "code",
   "execution_count": 97,
   "id": "6cc7a811",
   "metadata": {},
   "outputs": [
    {
     "data": {
      "text/plain": [
       "0       20190713\n",
       "1       20190715\n",
       "2       20190729\n",
       "3       20190731\n",
       "4       20190903\n",
       "          ...   \n",
       "1889    20170407\n",
       "1890    20170426\n",
       "1891    20170410\n",
       "1892    20170408\n",
       "1893    20170412\n",
       "Name: 입원일자, Length: 1894, dtype: int64"
      ]
     },
     "execution_count": 97,
     "metadata": {},
     "output_type": "execute_result"
    }
   ],
   "source": [
    "final['입원일자']"
   ]
  },
  {
   "cell_type": "code",
   "execution_count": 98,
   "id": "db8751f5",
   "metadata": {},
   "outputs": [],
   "source": [
    "# final['퇴원일자_1'] = pd.to_datetime(final['퇴원일자'], format = '%y/%m/%d')"
   ]
  },
  {
   "cell_type": "code",
   "execution_count": 99,
   "id": "c81d721a",
   "metadata": {},
   "outputs": [],
   "source": [
    "final['입원일자(date)'] = pd.to_datetime(final['입원일자'], format='%Y%m%d')\n",
    "final['퇴원일자(date)'] = pd.to_datetime(final['퇴원일자'], format='%Y%m%d')"
   ]
  },
  {
   "cell_type": "code",
   "execution_count": 100,
   "id": "02065236",
   "metadata": {},
   "outputs": [],
   "source": [
    "final['입원기간']= final['퇴원일자(date)'] - final['입원일자(date)']"
   ]
  },
  {
   "cell_type": "code",
   "execution_count": 101,
   "id": "4140e82d",
   "metadata": {},
   "outputs": [],
   "source": [
    "def func1(row):\n",
    "    return int(str(row).split(' ')[0])\n",
    "\n",
    "final['입원기간(int)'] = final['입원기간'].apply(func1)"
   ]
  },
  {
   "cell_type": "code",
   "execution_count": 102,
   "id": "3bbd2f29",
   "metadata": {},
   "outputs": [],
   "source": [
    "cond1 = (final['입원기간(int)']>0)\n",
    "final_1 = final.loc[cond1]"
   ]
  },
  {
   "cell_type": "code",
   "execution_count": 103,
   "id": "5053c686",
   "metadata": {},
   "outputs": [
    {
     "data": {
      "text/html": [
       "<div>\n",
       "<style scoped>\n",
       "    .dataframe tbody tr th:only-of-type {\n",
       "        vertical-align: middle;\n",
       "    }\n",
       "\n",
       "    .dataframe tbody tr th {\n",
       "        vertical-align: top;\n",
       "    }\n",
       "\n",
       "    .dataframe thead tr th {\n",
       "        text-align: left;\n",
       "    }\n",
       "\n",
       "    .dataframe thead tr:last-of-type th {\n",
       "        text-align: right;\n",
       "    }\n",
       "</style>\n",
       "<table border=\"1\" class=\"dataframe\">\n",
       "  <thead>\n",
       "    <tr>\n",
       "      <th></th>\n",
       "      <th>mean</th>\n",
       "      <th>min</th>\n",
       "      <th>max</th>\n",
       "    </tr>\n",
       "    <tr>\n",
       "      <th></th>\n",
       "      <th>입원기간(int)</th>\n",
       "      <th>입원기간(int)</th>\n",
       "      <th>입원기간(int)</th>\n",
       "    </tr>\n",
       "    <tr>\n",
       "      <th>연령대</th>\n",
       "      <th></th>\n",
       "      <th></th>\n",
       "      <th></th>\n",
       "    </tr>\n",
       "  </thead>\n",
       "  <tbody>\n",
       "    <tr>\n",
       "      <th>1</th>\n",
       "      <td>2.3</td>\n",
       "      <td>1</td>\n",
       "      <td>17</td>\n",
       "    </tr>\n",
       "    <tr>\n",
       "      <th>2</th>\n",
       "      <td>9.7</td>\n",
       "      <td>1</td>\n",
       "      <td>1125</td>\n",
       "    </tr>\n",
       "    <tr>\n",
       "      <th>3</th>\n",
       "      <td>6.5</td>\n",
       "      <td>1</td>\n",
       "      <td>674</td>\n",
       "    </tr>\n",
       "    <tr>\n",
       "      <th>4</th>\n",
       "      <td>3.0</td>\n",
       "      <td>1</td>\n",
       "      <td>217</td>\n",
       "    </tr>\n",
       "    <tr>\n",
       "      <th>5</th>\n",
       "      <td>4.1</td>\n",
       "      <td>1</td>\n",
       "      <td>177</td>\n",
       "    </tr>\n",
       "    <tr>\n",
       "      <th>6</th>\n",
       "      <td>7.0</td>\n",
       "      <td>1</td>\n",
       "      <td>318</td>\n",
       "    </tr>\n",
       "    <tr>\n",
       "      <th>7</th>\n",
       "      <td>10.1</td>\n",
       "      <td>1</td>\n",
       "      <td>173</td>\n",
       "    </tr>\n",
       "    <tr>\n",
       "      <th>8</th>\n",
       "      <td>8.6</td>\n",
       "      <td>2</td>\n",
       "      <td>27</td>\n",
       "    </tr>\n",
       "  </tbody>\n",
       "</table>\n",
       "</div>"
      ],
      "text/plain": [
       "         mean       min       max\n",
       "    입원기간(int) 입원기간(int) 입원기간(int)\n",
       "연령대                              \n",
       "1         2.3         1        17\n",
       "2         9.7         1      1125\n",
       "3         6.5         1       674\n",
       "4         3.0         1       217\n",
       "5         4.1         1       177\n",
       "6         7.0         1       318\n",
       "7        10.1         1       173\n",
       "8         8.6         2        27"
      ]
     },
     "execution_count": 103,
     "metadata": {},
     "output_type": "execute_result"
    }
   ],
   "source": [
    "final_1.pivot_table(index='연령대',values='입원기간(int)'\n",
    "                  ,aggfunc=['mean','min','max']).round(1)"
   ]
  },
  {
   "cell_type": "markdown",
   "id": "0358c453",
   "metadata": {},
   "source": [
    "a  : 1,3,2,4,5 -> 평균 :3 \n",
    "b  : 1,3,2,4,1000 -> 평균 :202 "
   ]
  },
  {
   "cell_type": "code",
   "execution_count": 128,
   "id": "9f0cd8e2",
   "metadata": {},
   "outputs": [
    {
     "data": {
      "text/plain": [
       "NormaltestResult(statistic=4068.0756431592235, pvalue=0.0)"
      ]
     },
     "execution_count": 128,
     "metadata": {},
     "output_type": "execute_result"
    }
   ],
   "source": [
    "from scipy import stats\n",
    "from scipy.stats import shapiro , normaltest , anderson , kstest\n",
    "# 집단간 비교 (X:범주 / Y:연속)\n",
    "#1. 연속형이 정규분포를 띄는가 \n",
    "# 귀무 : 해당 분포는 정규분포이다. \n",
    "# 대립 : 해당 분포는 정규분포가 아니다. \n",
    "stats.normaltest(final_1['입원기간(int)'])\n",
    "# P.value < 0.05 / 대립가설 참 / 해당 분포는 정규분포가 아니다. "
   ]
  },
  {
   "cell_type": "code",
   "execution_count": 129,
   "id": "ec495426",
   "metadata": {},
   "outputs": [],
   "source": [
    "# 2. 비모수 검정\n",
    "# 귀무 : 연령대 별 입원기간의 차이가 없다.\n",
    "# 대립 : 연령대 별 입원기간의 차이가 있다.\n",
    "cond1 = (final_1['연령대']==2)\n",
    "\n",
    "df1_20 = final_1.loc[cond1]\n",
    "df1_non_20 = final_1.loc[~cond1]"
   ]
  },
  {
   "cell_type": "code",
   "execution_count": 130,
   "id": "b8ea8ca4",
   "metadata": {},
   "outputs": [
    {
     "data": {
      "text/plain": [
       "RanksumsResult(statistic=-0.39062368311301005, pvalue=0.6960754172159893)"
      ]
     },
     "execution_count": 130,
     "metadata": {},
     "output_type": "execute_result"
    }
   ],
   "source": [
    "stats.ranksums(df1_20['입원기간(int)'], df1_non_20['입원기간(int)'])"
   ]
  },
  {
   "cell_type": "code",
   "execution_count": 131,
   "id": "52131230",
   "metadata": {},
   "outputs": [],
   "source": [
    "# 귀무 : 연령대 별 입원기간의 차이가 없다."
   ]
  },
  {
   "cell_type": "code",
   "execution_count": 132,
   "id": "b907ed0f",
   "metadata": {
    "scrolled": true
   },
   "outputs": [
    {
     "data": {
      "text/plain": [
       "<AxesSubplot:xlabel='연령대', ylabel='입원기간(int)'>"
      ]
     },
     "execution_count": 132,
     "metadata": {},
     "output_type": "execute_result"
    },
    {
     "data": {
      "image/png": "[encoded data removed]",
      "text/plain": [
       "<Figure size 432x288 with 1 Axes>"
      ]
     },
     "metadata": {
      "needs_background": "light"
     },
     "output_type": "display_data"
    }
   ],
   "source": [
    "sns.barplot(data=final_1, x='연령대',y='입원기간(int)',ci=None)"
   ]
  },
  {
   "cell_type": "code",
   "execution_count": 133,
   "id": "5dc756ce",
   "metadata": {
    "scrolled": true
   },
   "outputs": [
    {
     "data": {
      "image/png": "[encoded data removed]",
      "text/plain": [
       "<Figure size 432x288 with 1 Axes>"
      ]
     },
     "metadata": {
      "needs_background": "light"
     },
     "output_type": "display_data"
    }
   ],
   "source": [
    "sns.boxplot(data=final_1, x='연령대',y='입원기간(int)')\n",
    "plt.ylim(0,17)\n",
    "plt.show()"
   ]
  },
  {
   "cell_type": "code",
   "execution_count": 134,
   "id": "057511a7",
   "metadata": {},
   "outputs": [],
   "source": [
    "cond1 = (final_1['연령대'] == 1 | 2 | 3)"
   ]
  },
  {
   "cell_type": "code",
   "execution_count": 135,
   "id": "d06d0196",
   "metadata": {},
   "outputs": [],
   "source": [
    "df1_till30 = final_1.loc[cond1]\n",
    "df1_non_till30 = final_1.loc[~cond1]"
   ]
  },
  {
   "cell_type": "code",
   "execution_count": 136,
   "id": "64b01478",
   "metadata": {},
   "outputs": [
    {
     "data": {
      "text/plain": [
       "RanksumsResult(statistic=-0.9838806825763513, pvalue=0.32517418279570576)"
      ]
     },
     "execution_count": 136,
     "metadata": {},
     "output_type": "execute_result"
    }
   ],
   "source": [
    "stats.ranksums(df1_till30['입원기간(int)'], df1_non_till30['입원기간(int)'])"
   ]
  },
  {
   "cell_type": "code",
   "execution_count": 137,
   "id": "7021e32b",
   "metadata": {},
   "outputs": [],
   "source": [
    "# 귀무 : 연령대 별 입원기간의 차이가 없다."
   ]
  },
  {
   "cell_type": "code",
   "execution_count": 138,
   "id": "6ec89f45",
   "metadata": {},
   "outputs": [
    {
     "data": {
      "text/html": [
       "<div>\n",
       "<style scoped>\n",
       "    .dataframe tbody tr th:only-of-type {\n",
       "        vertical-align: middle;\n",
       "    }\n",
       "\n",
       "    .dataframe tbody tr th {\n",
       "        vertical-align: top;\n",
       "    }\n",
       "\n",
       "    .dataframe thead th {\n",
       "        text-align: right;\n",
       "    }\n",
       "</style>\n",
       "<table border=\"1\" class=\"dataframe\">\n",
       "  <thead>\n",
       "    <tr style=\"text-align: right;\">\n",
       "      <th></th>\n",
       "      <th>환자ID</th>\n",
       "      <th>전방디스크높이(mm)</th>\n",
       "      <th>후방디스크높이(mm)</th>\n",
       "      <th>지방축적도</th>\n",
       "      <th>Instability</th>\n",
       "      <th>MF + ES</th>\n",
       "      <th>Modic change</th>\n",
       "      <th>PI</th>\n",
       "      <th>PT</th>\n",
       "      <th>Seg Angle(raw)</th>\n",
       "      <th>...</th>\n",
       "      <th>수술시간</th>\n",
       "      <th>수술실패여부</th>\n",
       "      <th>수술일자</th>\n",
       "      <th>재발여부</th>\n",
       "      <th>혈액형</th>\n",
       "      <th>SS</th>\n",
       "      <th>연도</th>\n",
       "      <th>입원일자(date)</th>\n",
       "      <th>퇴원일자(date)</th>\n",
       "      <th>입원기간(int)</th>\n",
       "    </tr>\n",
       "    <tr>\n",
       "      <th>연령대</th>\n",
       "      <th></th>\n",
       "      <th></th>\n",
       "      <th></th>\n",
       "      <th></th>\n",
       "      <th></th>\n",
       "      <th></th>\n",
       "      <th></th>\n",
       "      <th></th>\n",
       "      <th></th>\n",
       "      <th></th>\n",
       "      <th></th>\n",
       "      <th></th>\n",
       "      <th></th>\n",
       "      <th></th>\n",
       "      <th></th>\n",
       "      <th></th>\n",
       "      <th></th>\n",
       "      <th></th>\n",
       "      <th></th>\n",
       "      <th></th>\n",
       "      <th></th>\n",
       "    </tr>\n",
       "  </thead>\n",
       "  <tbody>\n",
       "    <tr>\n",
       "      <th>1</th>\n",
       "      <td>66</td>\n",
       "      <td>66</td>\n",
       "      <td>66</td>\n",
       "      <td>66</td>\n",
       "      <td>66</td>\n",
       "      <td>66</td>\n",
       "      <td>66</td>\n",
       "      <td>66</td>\n",
       "      <td>66</td>\n",
       "      <td>66</td>\n",
       "      <td>...</td>\n",
       "      <td>63</td>\n",
       "      <td>66</td>\n",
       "      <td>66</td>\n",
       "      <td>66</td>\n",
       "      <td>66</td>\n",
       "      <td>66</td>\n",
       "      <td>66</td>\n",
       "      <td>66</td>\n",
       "      <td>66</td>\n",
       "      <td>66</td>\n",
       "    </tr>\n",
       "    <tr>\n",
       "      <th>2</th>\n",
       "      <td>317</td>\n",
       "      <td>317</td>\n",
       "      <td>317</td>\n",
       "      <td>316</td>\n",
       "      <td>317</td>\n",
       "      <td>317</td>\n",
       "      <td>317</td>\n",
       "      <td>315</td>\n",
       "      <td>315</td>\n",
       "      <td>317</td>\n",
       "      <td>...</td>\n",
       "      <td>302</td>\n",
       "      <td>317</td>\n",
       "      <td>317</td>\n",
       "      <td>317</td>\n",
       "      <td>317</td>\n",
       "      <td>315</td>\n",
       "      <td>317</td>\n",
       "      <td>317</td>\n",
       "      <td>317</td>\n",
       "      <td>317</td>\n",
       "    </tr>\n",
       "    <tr>\n",
       "      <th>3</th>\n",
       "      <td>450</td>\n",
       "      <td>450</td>\n",
       "      <td>450</td>\n",
       "      <td>450</td>\n",
       "      <td>450</td>\n",
       "      <td>450</td>\n",
       "      <td>450</td>\n",
       "      <td>449</td>\n",
       "      <td>449</td>\n",
       "      <td>450</td>\n",
       "      <td>...</td>\n",
       "      <td>440</td>\n",
       "      <td>450</td>\n",
       "      <td>450</td>\n",
       "      <td>450</td>\n",
       "      <td>450</td>\n",
       "      <td>449</td>\n",
       "      <td>450</td>\n",
       "      <td>450</td>\n",
       "      <td>450</td>\n",
       "      <td>450</td>\n",
       "    </tr>\n",
       "    <tr>\n",
       "      <th>4</th>\n",
       "      <td>560</td>\n",
       "      <td>560</td>\n",
       "      <td>560</td>\n",
       "      <td>559</td>\n",
       "      <td>560</td>\n",
       "      <td>560</td>\n",
       "      <td>560</td>\n",
       "      <td>559</td>\n",
       "      <td>559</td>\n",
       "      <td>560</td>\n",
       "      <td>...</td>\n",
       "      <td>550</td>\n",
       "      <td>560</td>\n",
       "      <td>560</td>\n",
       "      <td>560</td>\n",
       "      <td>560</td>\n",
       "      <td>559</td>\n",
       "      <td>560</td>\n",
       "      <td>560</td>\n",
       "      <td>560</td>\n",
       "      <td>560</td>\n",
       "    </tr>\n",
       "    <tr>\n",
       "      <th>5</th>\n",
       "      <td>258</td>\n",
       "      <td>258</td>\n",
       "      <td>258</td>\n",
       "      <td>258</td>\n",
       "      <td>258</td>\n",
       "      <td>258</td>\n",
       "      <td>258</td>\n",
       "      <td>258</td>\n",
       "      <td>258</td>\n",
       "      <td>258</td>\n",
       "      <td>...</td>\n",
       "      <td>248</td>\n",
       "      <td>258</td>\n",
       "      <td>258</td>\n",
       "      <td>258</td>\n",
       "      <td>258</td>\n",
       "      <td>258</td>\n",
       "      <td>258</td>\n",
       "      <td>258</td>\n",
       "      <td>258</td>\n",
       "      <td>258</td>\n",
       "    </tr>\n",
       "    <tr>\n",
       "      <th>6</th>\n",
       "      <td>108</td>\n",
       "      <td>108</td>\n",
       "      <td>108</td>\n",
       "      <td>108</td>\n",
       "      <td>108</td>\n",
       "      <td>108</td>\n",
       "      <td>108</td>\n",
       "      <td>108</td>\n",
       "      <td>108</td>\n",
       "      <td>108</td>\n",
       "      <td>...</td>\n",
       "      <td>105</td>\n",
       "      <td>108</td>\n",
       "      <td>108</td>\n",
       "      <td>108</td>\n",
       "      <td>108</td>\n",
       "      <td>108</td>\n",
       "      <td>108</td>\n",
       "      <td>108</td>\n",
       "      <td>108</td>\n",
       "      <td>108</td>\n",
       "    </tr>\n",
       "    <tr>\n",
       "      <th>7</th>\n",
       "      <td>57</td>\n",
       "      <td>57</td>\n",
       "      <td>57</td>\n",
       "      <td>56</td>\n",
       "      <td>57</td>\n",
       "      <td>57</td>\n",
       "      <td>57</td>\n",
       "      <td>57</td>\n",
       "      <td>57</td>\n",
       "      <td>57</td>\n",
       "      <td>...</td>\n",
       "      <td>57</td>\n",
       "      <td>57</td>\n",
       "      <td>57</td>\n",
       "      <td>57</td>\n",
       "      <td>57</td>\n",
       "      <td>57</td>\n",
       "      <td>57</td>\n",
       "      <td>57</td>\n",
       "      <td>57</td>\n",
       "      <td>57</td>\n",
       "    </tr>\n",
       "    <tr>\n",
       "      <th>8</th>\n",
       "      <td>5</td>\n",
       "      <td>5</td>\n",
       "      <td>5</td>\n",
       "      <td>5</td>\n",
       "      <td>5</td>\n",
       "      <td>5</td>\n",
       "      <td>5</td>\n",
       "      <td>5</td>\n",
       "      <td>5</td>\n",
       "      <td>5</td>\n",
       "      <td>...</td>\n",
       "      <td>3</td>\n",
       "      <td>5</td>\n",
       "      <td>5</td>\n",
       "      <td>5</td>\n",
       "      <td>5</td>\n",
       "      <td>5</td>\n",
       "      <td>5</td>\n",
       "      <td>5</td>\n",
       "      <td>5</td>\n",
       "      <td>5</td>\n",
       "    </tr>\n",
       "  </tbody>\n",
       "</table>\n",
       "<p>8 rows × 56 columns</p>\n",
       "</div>"
      ],
      "text/plain": [
       "     환자ID  전방디스크높이(mm)  후방디스크높이(mm)  지방축적도  Instability  MF + ES  \\\n",
       "연령대                                                                \n",
       "1      66           66           66     66           66       66   \n",
       "2     317          317          317    316          317      317   \n",
       "3     450          450          450    450          450      450   \n",
       "4     560          560          560    559          560      560   \n",
       "5     258          258          258    258          258      258   \n",
       "6     108          108          108    108          108      108   \n",
       "7      57           57           57     56           57       57   \n",
       "8       5            5            5      5            5        5   \n",
       "\n",
       "     Modic change   PI   PT  Seg Angle(raw)  ...  수술시간  수술실패여부  수술일자  재발여부  \\\n",
       "연령대                                          ...                             \n",
       "1              66   66   66              66  ...    63      66    66    66   \n",
       "2             317  315  315             317  ...   302     317   317   317   \n",
       "3             450  449  449             450  ...   440     450   450   450   \n",
       "4             560  559  559             560  ...   550     560   560   560   \n",
       "5             258  258  258             258  ...   248     258   258   258   \n",
       "6             108  108  108             108  ...   105     108   108   108   \n",
       "7              57   57   57              57  ...    57      57    57    57   \n",
       "8               5    5    5               5  ...     3       5     5     5   \n",
       "\n",
       "     혈액형   SS   연도  입원일자(date)  퇴원일자(date)  입원기간(int)  \n",
       "연령대                                                    \n",
       "1     66   66   66          66          66         66  \n",
       "2    317  315  317         317         317        317  \n",
       "3    450  449  450         450         450        450  \n",
       "4    560  559  560         560         560        560  \n",
       "5    258  258  258         258         258        258  \n",
       "6    108  108  108         108         108        108  \n",
       "7     57   57   57          57          57         57  \n",
       "8      5    5    5           5           5          5  \n",
       "\n",
       "[8 rows x 56 columns]"
      ]
     },
     "execution_count": 138,
     "metadata": {},
     "output_type": "execute_result"
    }
   ],
   "source": [
    "final_1.groupby('연령대').count()"
   ]
  },
  {
   "cell_type": "markdown",
   "id": "39c2176d",
   "metadata": {},
   "source": [
    "**Insight: 연령별 입원일자를 살펴 보았는데, 의외로 20대의 입원기간이 길다.\n",
    "- 평균 값이므로 절대 인원가 비교해보면 유의미한 연령대는 20대 (317명-전체의 17.4%)"
   ]
  },
  {
   "cell_type": "code",
   "execution_count": 139,
   "id": "f4c349b9",
   "metadata": {},
   "outputs": [
    {
     "data": {
      "text/plain": [
       "1821"
      ]
     },
     "execution_count": 139,
     "metadata": {},
     "output_type": "execute_result"
    }
   ],
   "source": [
    "66+317+450+560+258+108+57+5"
   ]
  },
  {
   "cell_type": "code",
   "execution_count": 140,
   "id": "f76ec7c1",
   "metadata": {},
   "outputs": [
    {
     "data": {
      "text/plain": [
       "17.40801757276222"
      ]
     },
     "execution_count": 140,
     "metadata": {},
     "output_type": "execute_result"
    }
   ],
   "source": [
    "317/1821 * 100"
   ]
  },
  {
   "cell_type": "markdown",
   "id": "868b1613",
   "metadata": {},
   "source": [
    "## 데이터 분석 2"
   ]
  },
  {
   "cell_type": "markdown",
   "id": "ed532a0d",
   "metadata": {},
   "source": [
    "수술 기법이 없는 사람들에 대한 특징 조사\n",
    "- 개복하면 아무 문제가 없어서 수술 안한 사람들일 수도 있어서"
   ]
  },
  {
   "cell_type": "code",
   "execution_count": 141,
   "id": "0bf828a0",
   "metadata": {
    "scrolled": false
   },
   "outputs": [
    {
     "data": {
      "text/html": [
       "<div>\n",
       "<style scoped>\n",
       "    .dataframe tbody tr th:only-of-type {\n",
       "        vertical-align: middle;\n",
       "    }\n",
       "\n",
       "    .dataframe tbody tr th {\n",
       "        vertical-align: top;\n",
       "    }\n",
       "\n",
       "    .dataframe thead th {\n",
       "        text-align: right;\n",
       "    }\n",
       "</style>\n",
       "<table border=\"1\" class=\"dataframe\">\n",
       "  <thead>\n",
       "    <tr style=\"text-align: right;\">\n",
       "      <th></th>\n",
       "      <th>환자ID</th>\n",
       "      <th>전방디스크높이(mm)</th>\n",
       "      <th>후방디스크높이(mm)</th>\n",
       "      <th>지방축적도</th>\n",
       "      <th>Instability</th>\n",
       "      <th>MF + ES</th>\n",
       "      <th>Modic change</th>\n",
       "      <th>PI</th>\n",
       "      <th>PT</th>\n",
       "      <th>Seg Angle(raw)</th>\n",
       "      <th>...</th>\n",
       "      <th>수술실패여부</th>\n",
       "      <th>수술일자</th>\n",
       "      <th>재발여부</th>\n",
       "      <th>혈액형</th>\n",
       "      <th>SS</th>\n",
       "      <th>연령대</th>\n",
       "      <th>연도</th>\n",
       "      <th>입원일자(date)</th>\n",
       "      <th>퇴원일자(date)</th>\n",
       "      <th>입원기간(int)</th>\n",
       "    </tr>\n",
       "  </thead>\n",
       "  <tbody>\n",
       "    <tr>\n",
       "      <th>0</th>\n",
       "      <td>1PT</td>\n",
       "      <td>16.1</td>\n",
       "      <td>12.3</td>\n",
       "      <td>282.3</td>\n",
       "      <td>0</td>\n",
       "      <td>1824.6</td>\n",
       "      <td>3</td>\n",
       "      <td>51.6</td>\n",
       "      <td>36.6</td>\n",
       "      <td>14.4</td>\n",
       "      <td>...</td>\n",
       "      <td>0</td>\n",
       "      <td>20190715</td>\n",
       "      <td>0</td>\n",
       "      <td>RH+A</td>\n",
       "      <td>15.0</td>\n",
       "      <td>6</td>\n",
       "      <td>2019</td>\n",
       "      <td>2019-07-13</td>\n",
       "      <td>2019-07-16</td>\n",
       "      <td>3</td>\n",
       "    </tr>\n",
       "    <tr>\n",
       "      <th>1</th>\n",
       "      <td>2PT</td>\n",
       "      <td>13.7</td>\n",
       "      <td>6.4</td>\n",
       "      <td>177.3</td>\n",
       "      <td>0</td>\n",
       "      <td>1737.5</td>\n",
       "      <td>0</td>\n",
       "      <td>40.8</td>\n",
       "      <td>7.2</td>\n",
       "      <td>17.8</td>\n",
       "      <td>...</td>\n",
       "      <td>0</td>\n",
       "      <td>20190716</td>\n",
       "      <td>0</td>\n",
       "      <td>RH+A</td>\n",
       "      <td>33.6</td>\n",
       "      <td>4</td>\n",
       "      <td>2019</td>\n",
       "      <td>2019-07-15</td>\n",
       "      <td>2019-07-16</td>\n",
       "      <td>1</td>\n",
       "    </tr>\n",
       "    <tr>\n",
       "      <th>2</th>\n",
       "      <td>3PT</td>\n",
       "      <td>13.6</td>\n",
       "      <td>7.4</td>\n",
       "      <td>256.8</td>\n",
       "      <td>0</td>\n",
       "      <td>1188.5</td>\n",
       "      <td>0</td>\n",
       "      <td>67.5</td>\n",
       "      <td>27.3</td>\n",
       "      <td>10.2</td>\n",
       "      <td>...</td>\n",
       "      <td>0</td>\n",
       "      <td>20190731</td>\n",
       "      <td>0</td>\n",
       "      <td>RH+B</td>\n",
       "      <td>40.2</td>\n",
       "      <td>3</td>\n",
       "      <td>2019</td>\n",
       "      <td>2019-07-29</td>\n",
       "      <td>2019-08-01</td>\n",
       "      <td>3</td>\n",
       "    </tr>\n",
       "    <tr>\n",
       "      <th>3</th>\n",
       "      <td>4PT</td>\n",
       "      <td>10.6</td>\n",
       "      <td>7.3</td>\n",
       "      <td>250.1</td>\n",
       "      <td>0</td>\n",
       "      <td>2534.5</td>\n",
       "      <td>0</td>\n",
       "      <td>49.2</td>\n",
       "      <td>18.7</td>\n",
       "      <td>19.9</td>\n",
       "      <td>...</td>\n",
       "      <td>0</td>\n",
       "      <td>20190802</td>\n",
       "      <td>0</td>\n",
       "      <td>RH+O</td>\n",
       "      <td>30.5</td>\n",
       "      <td>4</td>\n",
       "      <td>2019</td>\n",
       "      <td>2019-07-31</td>\n",
       "      <td>2019-08-03</td>\n",
       "      <td>3</td>\n",
       "    </tr>\n",
       "    <tr>\n",
       "      <th>4</th>\n",
       "      <td>5PT</td>\n",
       "      <td>17.1</td>\n",
       "      <td>8.1</td>\n",
       "      <td>232.2</td>\n",
       "      <td>0</td>\n",
       "      <td>1840.6</td>\n",
       "      <td>0</td>\n",
       "      <td>58.8</td>\n",
       "      <td>14.7</td>\n",
       "      <td>5.2</td>\n",
       "      <td>...</td>\n",
       "      <td>0</td>\n",
       "      <td>20190906</td>\n",
       "      <td>0</td>\n",
       "      <td>RH+A</td>\n",
       "      <td>44.1</td>\n",
       "      <td>4</td>\n",
       "      <td>2019</td>\n",
       "      <td>2019-09-03</td>\n",
       "      <td>2019-09-07</td>\n",
       "      <td>4</td>\n",
       "    </tr>\n",
       "  </tbody>\n",
       "</table>\n",
       "<p>5 rows × 57 columns</p>\n",
       "</div>"
      ],
      "text/plain": [
       "  환자ID  전방디스크높이(mm)  후방디스크높이(mm)  지방축적도  Instability  MF + ES  Modic change  \\\n",
       "0  1PT         16.1         12.3  282.3            0   1824.6             3   \n",
       "1  2PT         13.7          6.4  177.3            0   1737.5             0   \n",
       "2  3PT         13.6          7.4  256.8            0   1188.5             0   \n",
       "3  4PT         10.6          7.3  250.1            0   2534.5             0   \n",
       "4  5PT         17.1          8.1  232.2            0   1840.6             0   \n",
       "\n",
       "     PI    PT  Seg Angle(raw)  ...  수술실패여부      수술일자  재발여부   혈액형    SS  연령대  \\\n",
       "0  51.6  36.6            14.4  ...       0  20190715     0  RH+A  15.0    6   \n",
       "1  40.8   7.2            17.8  ...       0  20190716     0  RH+A  33.6    4   \n",
       "2  67.5  27.3            10.2  ...       0  20190731     0  RH+B  40.2    3   \n",
       "3  49.2  18.7            19.9  ...       0  20190802     0  RH+O  30.5    4   \n",
       "4  58.8  14.7             5.2  ...       0  20190906     0  RH+A  44.1    4   \n",
       "\n",
       "     연도  입원일자(date)  퇴원일자(date)  입원기간(int)  \n",
       "0  2019  2019-07-13  2019-07-16          3  \n",
       "1  2019  2019-07-15  2019-07-16          1  \n",
       "2  2019  2019-07-29  2019-08-01          3  \n",
       "3  2019  2019-07-31  2019-08-03          3  \n",
       "4  2019  2019-09-03  2019-09-07          4  \n",
       "\n",
       "[5 rows x 57 columns]"
      ]
     },
     "execution_count": 141,
     "metadata": {},
     "output_type": "execute_result"
    }
   ],
   "source": [
    "final.head()"
   ]
  },
  {
   "cell_type": "code",
   "execution_count": 142,
   "id": "f75f7ef1",
   "metadata": {},
   "outputs": [
    {
     "ename": "IndexingError",
     "evalue": "Unalignable boolean Series provided as indexer (index of the boolean Series and of the indexed object do not match).",
     "output_type": "error",
     "traceback": [
      "\u001b[0;31m---------------------------------------------------------------------------\u001b[0m",
      "\u001b[0;31mIndexingError\u001b[0m                             Traceback (most recent call last)",
      "\u001b[0;32m<ipython-input-142-81d374263080>\u001b[0m in \u001b[0;36m<module>\u001b[0;34m\u001b[0m\n\u001b[1;32m      1\u001b[0m \u001b[0mfinal\u001b[0m\u001b[0;34m[\u001b[0m\u001b[0;34m'수술기법'\u001b[0m\u001b[0;34m]\u001b[0m\u001b[0;34m.\u001b[0m\u001b[0muniquecond1\u001b[0m \u001b[0;34m=\u001b[0m \u001b[0;34m(\u001b[0m\u001b[0mfinal\u001b[0m\u001b[0;34m[\u001b[0m\u001b[0;34m'입원기간(int)'\u001b[0m\u001b[0;34m]\u001b[0m\u001b[0;34m>\u001b[0m\u001b[0;36m0\u001b[0m\u001b[0;34m)\u001b[0m\u001b[0;34m\u001b[0m\u001b[0;34m\u001b[0m\u001b[0m\n\u001b[0;32m----> 2\u001b[0;31m \u001b[0mfinal_1\u001b[0m \u001b[0;34m=\u001b[0m \u001b[0mfinal\u001b[0m\u001b[0;34m.\u001b[0m\u001b[0mloc\u001b[0m\u001b[0;34m[\u001b[0m\u001b[0mcond1\u001b[0m\u001b[0;34m]\u001b[0m\u001b[0;34m\u001b[0m\u001b[0;34m\u001b[0m\u001b[0m\n\u001b[0m",
      "\u001b[0;32m~/anaconda3/lib/python3.8/site-packages/pandas/core/indexing.py\u001b[0m in \u001b[0;36m__getitem__\u001b[0;34m(self, key)\u001b[0m\n\u001b[1;32m    893\u001b[0m \u001b[0;34m\u001b[0m\u001b[0m\n\u001b[1;32m    894\u001b[0m             \u001b[0mmaybe_callable\u001b[0m \u001b[0;34m=\u001b[0m \u001b[0mcom\u001b[0m\u001b[0;34m.\u001b[0m\u001b[0mapply_if_callable\u001b[0m\u001b[0;34m(\u001b[0m\u001b[0mkey\u001b[0m\u001b[0;34m,\u001b[0m \u001b[0mself\u001b[0m\u001b[0;34m.\u001b[0m\u001b[0mobj\u001b[0m\u001b[0;34m)\u001b[0m\u001b[0;34m\u001b[0m\u001b[0;34m\u001b[0m\u001b[0m\n\u001b[0;32m--> 895\u001b[0;31m             \u001b[0;32mreturn\u001b[0m \u001b[0mself\u001b[0m\u001b[0;34m.\u001b[0m\u001b[0m_getitem_axis\u001b[0m\u001b[0;34m(\u001b[0m\u001b[0mmaybe_callable\u001b[0m\u001b[0;34m,\u001b[0m \u001b[0maxis\u001b[0m\u001b[0;34m=\u001b[0m\u001b[0maxis\u001b[0m\u001b[0;34m)\u001b[0m\u001b[0;34m\u001b[0m\u001b[0;34m\u001b[0m\u001b[0m\n\u001b[0m\u001b[1;32m    896\u001b[0m \u001b[0;34m\u001b[0m\u001b[0m\n\u001b[1;32m    897\u001b[0m     \u001b[0;32mdef\u001b[0m \u001b[0m_is_scalar_access\u001b[0m\u001b[0;34m(\u001b[0m\u001b[0mself\u001b[0m\u001b[0;34m,\u001b[0m \u001b[0mkey\u001b[0m\u001b[0;34m:\u001b[0m \u001b[0mTuple\u001b[0m\u001b[0;34m)\u001b[0m\u001b[0;34m:\u001b[0m\u001b[0;34m\u001b[0m\u001b[0;34m\u001b[0m\u001b[0m\n",
      "\u001b[0;32m~/anaconda3/lib/python3.8/site-packages/pandas/core/indexing.py\u001b[0m in \u001b[0;36m_getitem_axis\u001b[0;34m(self, key, axis)\u001b[0m\n\u001b[1;32m   1102\u001b[0m             \u001b[0;32mreturn\u001b[0m \u001b[0mself\u001b[0m\u001b[0;34m.\u001b[0m\u001b[0m_get_slice_axis\u001b[0m\u001b[0;34m(\u001b[0m\u001b[0mkey\u001b[0m\u001b[0;34m,\u001b[0m \u001b[0maxis\u001b[0m\u001b[0;34m=\u001b[0m\u001b[0maxis\u001b[0m\u001b[0;34m)\u001b[0m\u001b[0;34m\u001b[0m\u001b[0;34m\u001b[0m\u001b[0m\n\u001b[1;32m   1103\u001b[0m         \u001b[0;32melif\u001b[0m \u001b[0mcom\u001b[0m\u001b[0;34m.\u001b[0m\u001b[0mis_bool_indexer\u001b[0m\u001b[0;34m(\u001b[0m\u001b[0mkey\u001b[0m\u001b[0;34m)\u001b[0m\u001b[0;34m:\u001b[0m\u001b[0;34m\u001b[0m\u001b[0;34m\u001b[0m\u001b[0m\n\u001b[0;32m-> 1104\u001b[0;31m             \u001b[0;32mreturn\u001b[0m \u001b[0mself\u001b[0m\u001b[0;34m.\u001b[0m\u001b[0m_getbool_axis\u001b[0m\u001b[0;34m(\u001b[0m\u001b[0mkey\u001b[0m\u001b[0;34m,\u001b[0m \u001b[0maxis\u001b[0m\u001b[0;34m=\u001b[0m\u001b[0maxis\u001b[0m\u001b[0;34m)\u001b[0m\u001b[0;34m\u001b[0m\u001b[0;34m\u001b[0m\u001b[0m\n\u001b[0m\u001b[1;32m   1105\u001b[0m         \u001b[0;32melif\u001b[0m \u001b[0mis_list_like_indexer\u001b[0m\u001b[0;34m(\u001b[0m\u001b[0mkey\u001b[0m\u001b[0;34m)\u001b[0m\u001b[0;34m:\u001b[0m\u001b[0;34m\u001b[0m\u001b[0;34m\u001b[0m\u001b[0m\n\u001b[1;32m   1106\u001b[0m \u001b[0;34m\u001b[0m\u001b[0m\n",
      "\u001b[0;32m~/anaconda3/lib/python3.8/site-packages/pandas/core/indexing.py\u001b[0m in \u001b[0;36m_getbool_axis\u001b[0;34m(self, key, axis)\u001b[0m\n\u001b[1;32m    910\u001b[0m         \u001b[0;31m# caller is responsible for ensuring non-None axis\u001b[0m\u001b[0;34m\u001b[0m\u001b[0;34m\u001b[0m\u001b[0;34m\u001b[0m\u001b[0m\n\u001b[1;32m    911\u001b[0m         \u001b[0mlabels\u001b[0m \u001b[0;34m=\u001b[0m \u001b[0mself\u001b[0m\u001b[0;34m.\u001b[0m\u001b[0mobj\u001b[0m\u001b[0;34m.\u001b[0m\u001b[0m_get_axis\u001b[0m\u001b[0;34m(\u001b[0m\u001b[0maxis\u001b[0m\u001b[0;34m)\u001b[0m\u001b[0;34m\u001b[0m\u001b[0;34m\u001b[0m\u001b[0m\n\u001b[0;32m--> 912\u001b[0;31m         \u001b[0mkey\u001b[0m \u001b[0;34m=\u001b[0m \u001b[0mcheck_bool_indexer\u001b[0m\u001b[0;34m(\u001b[0m\u001b[0mlabels\u001b[0m\u001b[0;34m,\u001b[0m \u001b[0mkey\u001b[0m\u001b[0;34m)\u001b[0m\u001b[0;34m\u001b[0m\u001b[0;34m\u001b[0m\u001b[0m\n\u001b[0m\u001b[1;32m    913\u001b[0m         \u001b[0minds\u001b[0m \u001b[0;34m=\u001b[0m \u001b[0mkey\u001b[0m\u001b[0;34m.\u001b[0m\u001b[0mnonzero\u001b[0m\u001b[0;34m(\u001b[0m\u001b[0;34m)\u001b[0m\u001b[0;34m[\u001b[0m\u001b[0;36m0\u001b[0m\u001b[0;34m]\u001b[0m\u001b[0;34m\u001b[0m\u001b[0;34m\u001b[0m\u001b[0m\n\u001b[1;32m    914\u001b[0m         \u001b[0;32mreturn\u001b[0m \u001b[0mself\u001b[0m\u001b[0;34m.\u001b[0m\u001b[0mobj\u001b[0m\u001b[0;34m.\u001b[0m\u001b[0m_take_with_is_copy\u001b[0m\u001b[0;34m(\u001b[0m\u001b[0minds\u001b[0m\u001b[0;34m,\u001b[0m \u001b[0maxis\u001b[0m\u001b[0;34m=\u001b[0m\u001b[0maxis\u001b[0m\u001b[0;34m)\u001b[0m\u001b[0;34m\u001b[0m\u001b[0;34m\u001b[0m\u001b[0m\n",
      "\u001b[0;32m~/anaconda3/lib/python3.8/site-packages/pandas/core/indexing.py\u001b[0m in \u001b[0;36mcheck_bool_indexer\u001b[0;34m(index, key)\u001b[0m\n\u001b[1;32m   2267\u001b[0m         \u001b[0mmask\u001b[0m \u001b[0;34m=\u001b[0m \u001b[0misna\u001b[0m\u001b[0;34m(\u001b[0m\u001b[0mresult\u001b[0m\u001b[0;34m.\u001b[0m\u001b[0m_values\u001b[0m\u001b[0;34m)\u001b[0m\u001b[0;34m\u001b[0m\u001b[0;34m\u001b[0m\u001b[0m\n\u001b[1;32m   2268\u001b[0m         \u001b[0;32mif\u001b[0m \u001b[0mmask\u001b[0m\u001b[0;34m.\u001b[0m\u001b[0many\u001b[0m\u001b[0;34m(\u001b[0m\u001b[0;34m)\u001b[0m\u001b[0;34m:\u001b[0m\u001b[0;34m\u001b[0m\u001b[0;34m\u001b[0m\u001b[0m\n\u001b[0;32m-> 2269\u001b[0;31m             raise IndexingError(\n\u001b[0m\u001b[1;32m   2270\u001b[0m                 \u001b[0;34m\"Unalignable boolean Series provided as \"\u001b[0m\u001b[0;34m\u001b[0m\u001b[0;34m\u001b[0m\u001b[0m\n\u001b[1;32m   2271\u001b[0m                 \u001b[0;34m\"indexer (index of the boolean Series and of \"\u001b[0m\u001b[0;34m\u001b[0m\u001b[0;34m\u001b[0m\u001b[0m\n",
      "\u001b[0;31mIndexingError\u001b[0m: Unalignable boolean Series provided as indexer (index of the boolean Series and of the indexed object do not match)."
     ]
    }
   ],
   "source": [
    "final['수술기법'].uniquecond1 = (final['입원기간(int)']>0)\n",
    "final_1 = final.loc[cond1]"
   ]
  },
  {
   "cell_type": "code",
   "execution_count": 163,
   "id": "0b4910ca",
   "metadata": {},
   "outputs": [],
   "source": [
    "surgery_o = final[final['수술기법'].notna()]"
   ]
  },
  {
   "cell_type": "code",
   "execution_count": 164,
   "id": "b62743f5",
   "metadata": {},
   "outputs": [
    {
     "data": {
      "text/html": [
       "<div>\n",
       "<style scoped>\n",
       "    .dataframe tbody tr th:only-of-type {\n",
       "        vertical-align: middle;\n",
       "    }\n",
       "\n",
       "    .dataframe tbody tr th {\n",
       "        vertical-align: top;\n",
       "    }\n",
       "\n",
       "    .dataframe thead th {\n",
       "        text-align: right;\n",
       "    }\n",
       "</style>\n",
       "<table border=\"1\" class=\"dataframe\">\n",
       "  <thead>\n",
       "    <tr style=\"text-align: right;\">\n",
       "      <th></th>\n",
       "      <th>환자ID</th>\n",
       "      <th>전방디스크높이(mm)</th>\n",
       "      <th>후방디스크높이(mm)</th>\n",
       "      <th>지방축적도</th>\n",
       "      <th>Instability</th>\n",
       "      <th>MF + ES</th>\n",
       "      <th>Modic change</th>\n",
       "      <th>PI</th>\n",
       "      <th>PT</th>\n",
       "      <th>Seg Angle(raw)</th>\n",
       "      <th>...</th>\n",
       "      <th>수술실패여부</th>\n",
       "      <th>수술일자</th>\n",
       "      <th>재발여부</th>\n",
       "      <th>혈액형</th>\n",
       "      <th>SS</th>\n",
       "      <th>연령대</th>\n",
       "      <th>연도</th>\n",
       "      <th>입원일자(date)</th>\n",
       "      <th>퇴원일자(date)</th>\n",
       "      <th>입원기간(int)</th>\n",
       "    </tr>\n",
       "  </thead>\n",
       "  <tbody>\n",
       "    <tr>\n",
       "      <th>0</th>\n",
       "      <td>1PT</td>\n",
       "      <td>16.1</td>\n",
       "      <td>12.3</td>\n",
       "      <td>282.3</td>\n",
       "      <td>0</td>\n",
       "      <td>1824.6</td>\n",
       "      <td>3</td>\n",
       "      <td>51.6</td>\n",
       "      <td>36.6</td>\n",
       "      <td>14.4</td>\n",
       "      <td>...</td>\n",
       "      <td>0</td>\n",
       "      <td>20190715</td>\n",
       "      <td>0</td>\n",
       "      <td>RH+A</td>\n",
       "      <td>15.0</td>\n",
       "      <td>6</td>\n",
       "      <td>2019</td>\n",
       "      <td>2019-07-13</td>\n",
       "      <td>2019-07-16</td>\n",
       "      <td>3</td>\n",
       "    </tr>\n",
       "    <tr>\n",
       "      <th>1</th>\n",
       "      <td>2PT</td>\n",
       "      <td>13.7</td>\n",
       "      <td>6.4</td>\n",
       "      <td>177.3</td>\n",
       "      <td>0</td>\n",
       "      <td>1737.5</td>\n",
       "      <td>0</td>\n",
       "      <td>40.8</td>\n",
       "      <td>7.2</td>\n",
       "      <td>17.8</td>\n",
       "      <td>...</td>\n",
       "      <td>0</td>\n",
       "      <td>20190716</td>\n",
       "      <td>0</td>\n",
       "      <td>RH+A</td>\n",
       "      <td>33.6</td>\n",
       "      <td>4</td>\n",
       "      <td>2019</td>\n",
       "      <td>2019-07-15</td>\n",
       "      <td>2019-07-16</td>\n",
       "      <td>1</td>\n",
       "    </tr>\n",
       "    <tr>\n",
       "      <th>2</th>\n",
       "      <td>3PT</td>\n",
       "      <td>13.6</td>\n",
       "      <td>7.4</td>\n",
       "      <td>256.8</td>\n",
       "      <td>0</td>\n",
       "      <td>1188.5</td>\n",
       "      <td>0</td>\n",
       "      <td>67.5</td>\n",
       "      <td>27.3</td>\n",
       "      <td>10.2</td>\n",
       "      <td>...</td>\n",
       "      <td>0</td>\n",
       "      <td>20190731</td>\n",
       "      <td>0</td>\n",
       "      <td>RH+B</td>\n",
       "      <td>40.2</td>\n",
       "      <td>3</td>\n",
       "      <td>2019</td>\n",
       "      <td>2019-07-29</td>\n",
       "      <td>2019-08-01</td>\n",
       "      <td>3</td>\n",
       "    </tr>\n",
       "    <tr>\n",
       "      <th>3</th>\n",
       "      <td>4PT</td>\n",
       "      <td>10.6</td>\n",
       "      <td>7.3</td>\n",
       "      <td>250.1</td>\n",
       "      <td>0</td>\n",
       "      <td>2534.5</td>\n",
       "      <td>0</td>\n",
       "      <td>49.2</td>\n",
       "      <td>18.7</td>\n",
       "      <td>19.9</td>\n",
       "      <td>...</td>\n",
       "      <td>0</td>\n",
       "      <td>20190802</td>\n",
       "      <td>0</td>\n",
       "      <td>RH+O</td>\n",
       "      <td>30.5</td>\n",
       "      <td>4</td>\n",
       "      <td>2019</td>\n",
       "      <td>2019-07-31</td>\n",
       "      <td>2019-08-03</td>\n",
       "      <td>3</td>\n",
       "    </tr>\n",
       "    <tr>\n",
       "      <th>4</th>\n",
       "      <td>5PT</td>\n",
       "      <td>17.1</td>\n",
       "      <td>8.1</td>\n",
       "      <td>232.2</td>\n",
       "      <td>0</td>\n",
       "      <td>1840.6</td>\n",
       "      <td>0</td>\n",
       "      <td>58.8</td>\n",
       "      <td>14.7</td>\n",
       "      <td>5.2</td>\n",
       "      <td>...</td>\n",
       "      <td>0</td>\n",
       "      <td>20190906</td>\n",
       "      <td>0</td>\n",
       "      <td>RH+A</td>\n",
       "      <td>44.1</td>\n",
       "      <td>4</td>\n",
       "      <td>2019</td>\n",
       "      <td>2019-09-03</td>\n",
       "      <td>2019-09-07</td>\n",
       "      <td>4</td>\n",
       "    </tr>\n",
       "    <tr>\n",
       "      <th>...</th>\n",
       "      <td>...</td>\n",
       "      <td>...</td>\n",
       "      <td>...</td>\n",
       "      <td>...</td>\n",
       "      <td>...</td>\n",
       "      <td>...</td>\n",
       "      <td>...</td>\n",
       "      <td>...</td>\n",
       "      <td>...</td>\n",
       "      <td>...</td>\n",
       "      <td>...</td>\n",
       "      <td>...</td>\n",
       "      <td>...</td>\n",
       "      <td>...</td>\n",
       "      <td>...</td>\n",
       "      <td>...</td>\n",
       "      <td>...</td>\n",
       "      <td>...</td>\n",
       "      <td>...</td>\n",
       "      <td>...</td>\n",
       "      <td>...</td>\n",
       "    </tr>\n",
       "    <tr>\n",
       "      <th>1870</th>\n",
       "      <td>1871PT</td>\n",
       "      <td>8.5</td>\n",
       "      <td>9.0</td>\n",
       "      <td>182.5</td>\n",
       "      <td>0</td>\n",
       "      <td>1919.5</td>\n",
       "      <td>0</td>\n",
       "      <td>31.7</td>\n",
       "      <td>14.9</td>\n",
       "      <td>9.6</td>\n",
       "      <td>...</td>\n",
       "      <td>0</td>\n",
       "      <td>20170306</td>\n",
       "      <td>0</td>\n",
       "      <td>RH+O</td>\n",
       "      <td>16.8</td>\n",
       "      <td>2</td>\n",
       "      <td>2017</td>\n",
       "      <td>2017-03-02</td>\n",
       "      <td>2017-03-13</td>\n",
       "      <td>11</td>\n",
       "    </tr>\n",
       "    <tr>\n",
       "      <th>1872</th>\n",
       "      <td>1873PT</td>\n",
       "      <td>11.6</td>\n",
       "      <td>7.2</td>\n",
       "      <td>94.2</td>\n",
       "      <td>0</td>\n",
       "      <td>2398.9</td>\n",
       "      <td>0</td>\n",
       "      <td>39.4</td>\n",
       "      <td>8.0</td>\n",
       "      <td>19.5</td>\n",
       "      <td>...</td>\n",
       "      <td>0</td>\n",
       "      <td>20170316</td>\n",
       "      <td>0</td>\n",
       "      <td>RH+A</td>\n",
       "      <td>31.4</td>\n",
       "      <td>2</td>\n",
       "      <td>2017</td>\n",
       "      <td>2017-03-16</td>\n",
       "      <td>2017-03-17</td>\n",
       "      <td>1</td>\n",
       "    </tr>\n",
       "    <tr>\n",
       "      <th>1874</th>\n",
       "      <td>1875PT</td>\n",
       "      <td>11.1</td>\n",
       "      <td>7.6</td>\n",
       "      <td>126.1</td>\n",
       "      <td>1</td>\n",
       "      <td>1970.3</td>\n",
       "      <td>2</td>\n",
       "      <td>43.6</td>\n",
       "      <td>17.7</td>\n",
       "      <td>9.1</td>\n",
       "      <td>...</td>\n",
       "      <td>0</td>\n",
       "      <td>20170929</td>\n",
       "      <td>0</td>\n",
       "      <td>RH+B</td>\n",
       "      <td>25.9</td>\n",
       "      <td>4</td>\n",
       "      <td>2017</td>\n",
       "      <td>2017-09-28</td>\n",
       "      <td>2017-09-30</td>\n",
       "      <td>2</td>\n",
       "    </tr>\n",
       "    <tr>\n",
       "      <th>1879</th>\n",
       "      <td>1880PT</td>\n",
       "      <td>12.7</td>\n",
       "      <td>8.7</td>\n",
       "      <td>207.4</td>\n",
       "      <td>0</td>\n",
       "      <td>2220.1</td>\n",
       "      <td>0</td>\n",
       "      <td>34.0</td>\n",
       "      <td>19.0</td>\n",
       "      <td>6.0</td>\n",
       "      <td>...</td>\n",
       "      <td>0</td>\n",
       "      <td>20170605</td>\n",
       "      <td>0</td>\n",
       "      <td>RH+B</td>\n",
       "      <td>15.0</td>\n",
       "      <td>2</td>\n",
       "      <td>2017</td>\n",
       "      <td>2017-06-04</td>\n",
       "      <td>2017-06-06</td>\n",
       "      <td>2</td>\n",
       "    </tr>\n",
       "    <tr>\n",
       "      <th>1891</th>\n",
       "      <td>1892PT</td>\n",
       "      <td>13.5</td>\n",
       "      <td>5.5</td>\n",
       "      <td>148.5</td>\n",
       "      <td>0</td>\n",
       "      <td>3864.1</td>\n",
       "      <td>0</td>\n",
       "      <td>44.6</td>\n",
       "      <td>15.0</td>\n",
       "      <td>17.4</td>\n",
       "      <td>...</td>\n",
       "      <td>0</td>\n",
       "      <td>20170411</td>\n",
       "      <td>0</td>\n",
       "      <td>RH+O</td>\n",
       "      <td>29.6</td>\n",
       "      <td>6</td>\n",
       "      <td>2017</td>\n",
       "      <td>2017-04-10</td>\n",
       "      <td>2017-04-12</td>\n",
       "      <td>2</td>\n",
       "    </tr>\n",
       "  </tbody>\n",
       "</table>\n",
       "<p>1813 rows × 57 columns</p>\n",
       "</div>"
      ],
      "text/plain": [
       "        환자ID  전방디스크높이(mm)  후방디스크높이(mm)  지방축적도  Instability  MF + ES  \\\n",
       "0        1PT         16.1         12.3  282.3            0   1824.6   \n",
       "1        2PT         13.7          6.4  177.3            0   1737.5   \n",
       "2        3PT         13.6          7.4  256.8            0   1188.5   \n",
       "3        4PT         10.6          7.3  250.1            0   2534.5   \n",
       "4        5PT         17.1          8.1  232.2            0   1840.6   \n",
       "...      ...          ...          ...    ...          ...      ...   \n",
       "1870  1871PT          8.5          9.0  182.5            0   1919.5   \n",
       "1872  1873PT         11.6          7.2   94.2            0   2398.9   \n",
       "1874  1875PT         11.1          7.6  126.1            1   1970.3   \n",
       "1879  1880PT         12.7          8.7  207.4            0   2220.1   \n",
       "1891  1892PT         13.5          5.5  148.5            0   3864.1   \n",
       "\n",
       "      Modic change    PI    PT  Seg Angle(raw)  ...  수술실패여부      수술일자  재발여부  \\\n",
       "0                3  51.6  36.6            14.4  ...       0  20190715     0   \n",
       "1                0  40.8   7.2            17.8  ...       0  20190716     0   \n",
       "2                0  67.5  27.3            10.2  ...       0  20190731     0   \n",
       "3                0  49.2  18.7            19.9  ...       0  20190802     0   \n",
       "4                0  58.8  14.7             5.2  ...       0  20190906     0   \n",
       "...            ...   ...   ...             ...  ...     ...       ...   ...   \n",
       "1870             0  31.7  14.9             9.6  ...       0  20170306     0   \n",
       "1872             0  39.4   8.0            19.5  ...       0  20170316     0   \n",
       "1874             2  43.6  17.7             9.1  ...       0  20170929     0   \n",
       "1879             0  34.0  19.0             6.0  ...       0  20170605     0   \n",
       "1891             0  44.6  15.0            17.4  ...       0  20170411     0   \n",
       "\n",
       "       혈액형    SS  연령대    연도  입원일자(date)  퇴원일자(date)  입원기간(int)  \n",
       "0     RH+A  15.0    6  2019  2019-07-13  2019-07-16          3  \n",
       "1     RH+A  33.6    4  2019  2019-07-15  2019-07-16          1  \n",
       "2     RH+B  40.2    3  2019  2019-07-29  2019-08-01          3  \n",
       "3     RH+O  30.5    4  2019  2019-07-31  2019-08-03          3  \n",
       "4     RH+A  44.1    4  2019  2019-09-03  2019-09-07          4  \n",
       "...    ...   ...  ...   ...         ...         ...        ...  \n",
       "1870  RH+O  16.8    2  2017  2017-03-02  2017-03-13         11  \n",
       "1872  RH+A  31.4    2  2017  2017-03-16  2017-03-17          1  \n",
       "1874  RH+B  25.9    4  2017  2017-09-28  2017-09-30          2  \n",
       "1879  RH+B  15.0    2  2017  2017-06-04  2017-06-06          2  \n",
       "1891  RH+O  29.6    6  2017  2017-04-10  2017-04-12          2  \n",
       "\n",
       "[1813 rows x 57 columns]"
      ]
     },
     "execution_count": 164,
     "metadata": {},
     "output_type": "execute_result"
    }
   ],
   "source": [
    "surgery_o"
   ]
  },
  {
   "cell_type": "code",
   "execution_count": 165,
   "id": "94e3cf6f",
   "metadata": {},
   "outputs": [],
   "source": [
    "final['수술기법1'] = final['수술기법'].fillna(value = 0)"
   ]
  },
  {
   "cell_type": "code",
   "execution_count": 166,
   "id": "ebeac82f",
   "metadata": {},
   "outputs": [
    {
     "data": {
      "text/html": [
       "<div>\n",
       "<style scoped>\n",
       "    .dataframe tbody tr th:only-of-type {\n",
       "        vertical-align: middle;\n",
       "    }\n",
       "\n",
       "    .dataframe tbody tr th {\n",
       "        vertical-align: top;\n",
       "    }\n",
       "\n",
       "    .dataframe thead th {\n",
       "        text-align: right;\n",
       "    }\n",
       "</style>\n",
       "<table border=\"1\" class=\"dataframe\">\n",
       "  <thead>\n",
       "    <tr style=\"text-align: right;\">\n",
       "      <th></th>\n",
       "      <th>환자ID</th>\n",
       "      <th>전방디스크높이(mm)</th>\n",
       "      <th>후방디스크높이(mm)</th>\n",
       "      <th>지방축적도</th>\n",
       "      <th>Instability</th>\n",
       "      <th>MF + ES</th>\n",
       "      <th>Modic change</th>\n",
       "      <th>PI</th>\n",
       "      <th>PT</th>\n",
       "      <th>Seg Angle(raw)</th>\n",
       "      <th>...</th>\n",
       "      <th>수술일자</th>\n",
       "      <th>재발여부</th>\n",
       "      <th>혈액형</th>\n",
       "      <th>SS</th>\n",
       "      <th>연령대</th>\n",
       "      <th>연도</th>\n",
       "      <th>입원일자(date)</th>\n",
       "      <th>퇴원일자(date)</th>\n",
       "      <th>입원기간(int)</th>\n",
       "      <th>수술기법1</th>\n",
       "    </tr>\n",
       "  </thead>\n",
       "  <tbody>\n",
       "    <tr>\n",
       "      <th>0</th>\n",
       "      <td>1PT</td>\n",
       "      <td>16.1</td>\n",
       "      <td>12.3</td>\n",
       "      <td>282.3</td>\n",
       "      <td>0</td>\n",
       "      <td>1824.6</td>\n",
       "      <td>3</td>\n",
       "      <td>51.6</td>\n",
       "      <td>36.6</td>\n",
       "      <td>14.4</td>\n",
       "      <td>...</td>\n",
       "      <td>20190715</td>\n",
       "      <td>0</td>\n",
       "      <td>RH+A</td>\n",
       "      <td>15.0</td>\n",
       "      <td>6</td>\n",
       "      <td>2019</td>\n",
       "      <td>2019-07-13</td>\n",
       "      <td>2019-07-16</td>\n",
       "      <td>3</td>\n",
       "      <td>TELD</td>\n",
       "    </tr>\n",
       "    <tr>\n",
       "      <th>1</th>\n",
       "      <td>2PT</td>\n",
       "      <td>13.7</td>\n",
       "      <td>6.4</td>\n",
       "      <td>177.3</td>\n",
       "      <td>0</td>\n",
       "      <td>1737.5</td>\n",
       "      <td>0</td>\n",
       "      <td>40.8</td>\n",
       "      <td>7.2</td>\n",
       "      <td>17.8</td>\n",
       "      <td>...</td>\n",
       "      <td>20190716</td>\n",
       "      <td>0</td>\n",
       "      <td>RH+A</td>\n",
       "      <td>33.6</td>\n",
       "      <td>4</td>\n",
       "      <td>2019</td>\n",
       "      <td>2019-07-15</td>\n",
       "      <td>2019-07-16</td>\n",
       "      <td>1</td>\n",
       "      <td>TELD</td>\n",
       "    </tr>\n",
       "    <tr>\n",
       "      <th>2</th>\n",
       "      <td>3PT</td>\n",
       "      <td>13.6</td>\n",
       "      <td>7.4</td>\n",
       "      <td>256.8</td>\n",
       "      <td>0</td>\n",
       "      <td>1188.5</td>\n",
       "      <td>0</td>\n",
       "      <td>67.5</td>\n",
       "      <td>27.3</td>\n",
       "      <td>10.2</td>\n",
       "      <td>...</td>\n",
       "      <td>20190731</td>\n",
       "      <td>0</td>\n",
       "      <td>RH+B</td>\n",
       "      <td>40.2</td>\n",
       "      <td>3</td>\n",
       "      <td>2019</td>\n",
       "      <td>2019-07-29</td>\n",
       "      <td>2019-08-01</td>\n",
       "      <td>3</td>\n",
       "      <td>TELD</td>\n",
       "    </tr>\n",
       "    <tr>\n",
       "      <th>3</th>\n",
       "      <td>4PT</td>\n",
       "      <td>10.6</td>\n",
       "      <td>7.3</td>\n",
       "      <td>250.1</td>\n",
       "      <td>0</td>\n",
       "      <td>2534.5</td>\n",
       "      <td>0</td>\n",
       "      <td>49.2</td>\n",
       "      <td>18.7</td>\n",
       "      <td>19.9</td>\n",
       "      <td>...</td>\n",
       "      <td>20190802</td>\n",
       "      <td>0</td>\n",
       "      <td>RH+O</td>\n",
       "      <td>30.5</td>\n",
       "      <td>4</td>\n",
       "      <td>2019</td>\n",
       "      <td>2019-07-31</td>\n",
       "      <td>2019-08-03</td>\n",
       "      <td>3</td>\n",
       "      <td>TELD</td>\n",
       "    </tr>\n",
       "    <tr>\n",
       "      <th>4</th>\n",
       "      <td>5PT</td>\n",
       "      <td>17.1</td>\n",
       "      <td>8.1</td>\n",
       "      <td>232.2</td>\n",
       "      <td>0</td>\n",
       "      <td>1840.6</td>\n",
       "      <td>0</td>\n",
       "      <td>58.8</td>\n",
       "      <td>14.7</td>\n",
       "      <td>5.2</td>\n",
       "      <td>...</td>\n",
       "      <td>20190906</td>\n",
       "      <td>0</td>\n",
       "      <td>RH+A</td>\n",
       "      <td>44.1</td>\n",
       "      <td>4</td>\n",
       "      <td>2019</td>\n",
       "      <td>2019-09-03</td>\n",
       "      <td>2019-09-07</td>\n",
       "      <td>4</td>\n",
       "      <td>TELD</td>\n",
       "    </tr>\n",
       "    <tr>\n",
       "      <th>...</th>\n",
       "      <td>...</td>\n",
       "      <td>...</td>\n",
       "      <td>...</td>\n",
       "      <td>...</td>\n",
       "      <td>...</td>\n",
       "      <td>...</td>\n",
       "      <td>...</td>\n",
       "      <td>...</td>\n",
       "      <td>...</td>\n",
       "      <td>...</td>\n",
       "      <td>...</td>\n",
       "      <td>...</td>\n",
       "      <td>...</td>\n",
       "      <td>...</td>\n",
       "      <td>...</td>\n",
       "      <td>...</td>\n",
       "      <td>...</td>\n",
       "      <td>...</td>\n",
       "      <td>...</td>\n",
       "      <td>...</td>\n",
       "      <td>...</td>\n",
       "    </tr>\n",
       "    <tr>\n",
       "      <th>1889</th>\n",
       "      <td>1890PT</td>\n",
       "      <td>17.0</td>\n",
       "      <td>10.7</td>\n",
       "      <td>237.5</td>\n",
       "      <td>0</td>\n",
       "      <td>2795.7</td>\n",
       "      <td>2</td>\n",
       "      <td>59.5</td>\n",
       "      <td>23.0</td>\n",
       "      <td>21.8</td>\n",
       "      <td>...</td>\n",
       "      <td>20170407</td>\n",
       "      <td>0</td>\n",
       "      <td>RH+A</td>\n",
       "      <td>36.5</td>\n",
       "      <td>5</td>\n",
       "      <td>2017</td>\n",
       "      <td>2017-04-07</td>\n",
       "      <td>2017-04-08</td>\n",
       "      <td>1</td>\n",
       "      <td>0</td>\n",
       "    </tr>\n",
       "    <tr>\n",
       "      <th>1890</th>\n",
       "      <td>1891PT</td>\n",
       "      <td>9.4</td>\n",
       "      <td>8.2</td>\n",
       "      <td>288.0</td>\n",
       "      <td>0</td>\n",
       "      <td>1473.0</td>\n",
       "      <td>0</td>\n",
       "      <td>47.7</td>\n",
       "      <td>20.2</td>\n",
       "      <td>5.0</td>\n",
       "      <td>...</td>\n",
       "      <td>20170427</td>\n",
       "      <td>0</td>\n",
       "      <td>RH+B</td>\n",
       "      <td>27.5</td>\n",
       "      <td>4</td>\n",
       "      <td>2017</td>\n",
       "      <td>2017-04-26</td>\n",
       "      <td>2017-04-29</td>\n",
       "      <td>3</td>\n",
       "      <td>0</td>\n",
       "    </tr>\n",
       "    <tr>\n",
       "      <th>1891</th>\n",
       "      <td>1892PT</td>\n",
       "      <td>13.5</td>\n",
       "      <td>5.5</td>\n",
       "      <td>148.5</td>\n",
       "      <td>0</td>\n",
       "      <td>3864.1</td>\n",
       "      <td>0</td>\n",
       "      <td>44.6</td>\n",
       "      <td>15.0</td>\n",
       "      <td>17.4</td>\n",
       "      <td>...</td>\n",
       "      <td>20170411</td>\n",
       "      <td>0</td>\n",
       "      <td>RH+O</td>\n",
       "      <td>29.6</td>\n",
       "      <td>6</td>\n",
       "      <td>2017</td>\n",
       "      <td>2017-04-10</td>\n",
       "      <td>2017-04-12</td>\n",
       "      <td>2</td>\n",
       "      <td>IELD</td>\n",
       "    </tr>\n",
       "    <tr>\n",
       "      <th>1892</th>\n",
       "      <td>1893PT</td>\n",
       "      <td>14.0</td>\n",
       "      <td>10.0</td>\n",
       "      <td>89.0</td>\n",
       "      <td>0</td>\n",
       "      <td>2481.8</td>\n",
       "      <td>2</td>\n",
       "      <td>32.2</td>\n",
       "      <td>11.1</td>\n",
       "      <td>17.7</td>\n",
       "      <td>...</td>\n",
       "      <td>20170410</td>\n",
       "      <td>0</td>\n",
       "      <td>RH+A</td>\n",
       "      <td>21.1</td>\n",
       "      <td>2</td>\n",
       "      <td>2017</td>\n",
       "      <td>2017-04-08</td>\n",
       "      <td>2017-04-11</td>\n",
       "      <td>3</td>\n",
       "      <td>0</td>\n",
       "    </tr>\n",
       "    <tr>\n",
       "      <th>1893</th>\n",
       "      <td>1894PT</td>\n",
       "      <td>16.1</td>\n",
       "      <td>9.5</td>\n",
       "      <td>251.4</td>\n",
       "      <td>0</td>\n",
       "      <td>1796.1</td>\n",
       "      <td>0</td>\n",
       "      <td>38.9</td>\n",
       "      <td>6.8</td>\n",
       "      <td>27.8</td>\n",
       "      <td>...</td>\n",
       "      <td>20170412</td>\n",
       "      <td>0</td>\n",
       "      <td>RH+AB</td>\n",
       "      <td>32.1</td>\n",
       "      <td>3</td>\n",
       "      <td>2017</td>\n",
       "      <td>2017-04-12</td>\n",
       "      <td>2017-04-13</td>\n",
       "      <td>1</td>\n",
       "      <td>0</td>\n",
       "    </tr>\n",
       "  </tbody>\n",
       "</table>\n",
       "<p>1894 rows × 58 columns</p>\n",
       "</div>"
      ],
      "text/plain": [
       "        환자ID  전방디스크높이(mm)  후방디스크높이(mm)  지방축적도  Instability  MF + ES  \\\n",
       "0        1PT         16.1         12.3  282.3            0   1824.6   \n",
       "1        2PT         13.7          6.4  177.3            0   1737.5   \n",
       "2        3PT         13.6          7.4  256.8            0   1188.5   \n",
       "3        4PT         10.6          7.3  250.1            0   2534.5   \n",
       "4        5PT         17.1          8.1  232.2            0   1840.6   \n",
       "...      ...          ...          ...    ...          ...      ...   \n",
       "1889  1890PT         17.0         10.7  237.5            0   2795.7   \n",
       "1890  1891PT          9.4          8.2  288.0            0   1473.0   \n",
       "1891  1892PT         13.5          5.5  148.5            0   3864.1   \n",
       "1892  1893PT         14.0         10.0   89.0            0   2481.8   \n",
       "1893  1894PT         16.1          9.5  251.4            0   1796.1   \n",
       "\n",
       "      Modic change    PI    PT  Seg Angle(raw)  ...      수술일자  재발여부    혈액형  \\\n",
       "0                3  51.6  36.6            14.4  ...  20190715     0   RH+A   \n",
       "1                0  40.8   7.2            17.8  ...  20190716     0   RH+A   \n",
       "2                0  67.5  27.3            10.2  ...  20190731     0   RH+B   \n",
       "3                0  49.2  18.7            19.9  ...  20190802     0   RH+O   \n",
       "4                0  58.8  14.7             5.2  ...  20190906     0   RH+A   \n",
       "...            ...   ...   ...             ...  ...       ...   ...    ...   \n",
       "1889             2  59.5  23.0            21.8  ...  20170407     0   RH+A   \n",
       "1890             0  47.7  20.2             5.0  ...  20170427     0   RH+B   \n",
       "1891             0  44.6  15.0            17.4  ...  20170411     0   RH+O   \n",
       "1892             2  32.2  11.1            17.7  ...  20170410     0   RH+A   \n",
       "1893             0  38.9   6.8            27.8  ...  20170412     0  RH+AB   \n",
       "\n",
       "        SS 연령대    연도  입원일자(date)  퇴원일자(date)  입원기간(int)  수술기법1  \n",
       "0     15.0   6  2019  2019-07-13  2019-07-16          3   TELD  \n",
       "1     33.6   4  2019  2019-07-15  2019-07-16          1   TELD  \n",
       "2     40.2   3  2019  2019-07-29  2019-08-01          3   TELD  \n",
       "3     30.5   4  2019  2019-07-31  2019-08-03          3   TELD  \n",
       "4     44.1   4  2019  2019-09-03  2019-09-07          4   TELD  \n",
       "...    ...  ..   ...         ...         ...        ...    ...  \n",
       "1889  36.5   5  2017  2017-04-07  2017-04-08          1      0  \n",
       "1890  27.5   4  2017  2017-04-26  2017-04-29          3      0  \n",
       "1891  29.6   6  2017  2017-04-10  2017-04-12          2   IELD  \n",
       "1892  21.1   2  2017  2017-04-08  2017-04-11          3      0  \n",
       "1893  32.1   3  2017  2017-04-12  2017-04-13          1      0  \n",
       "\n",
       "[1894 rows x 58 columns]"
      ]
     },
     "execution_count": 166,
     "metadata": {},
     "output_type": "execute_result"
    }
   ],
   "source": [
    "final"
   ]
  },
  {
   "cell_type": "markdown",
   "id": "cfafd6a3",
   "metadata": {},
   "source": [
    "- 수술기법이 0일때의 PI(평균),골밀도,지방축적도,스테로이드치료여부(0,1)(범주형), segangle\n",
    "- 수술기법이 0이 아닐때의 PI, 골밀도, 스테로이드치료여부(0,1)"
   ]
  },
  {
   "cell_type": "code",
   "execution_count": 167,
   "id": "51a0e593",
   "metadata": {},
   "outputs": [],
   "source": [
    "cond1 = (final['수술기법1']==0)\n",
    "final_1 = final.loc[cond1]"
   ]
  },
  {
   "cell_type": "code",
   "execution_count": 168,
   "id": "b9cabd6f",
   "metadata": {},
   "outputs": [
    {
     "data": {
      "text/html": [
       "<div>\n",
       "<style scoped>\n",
       "    .dataframe tbody tr th:only-of-type {\n",
       "        vertical-align: middle;\n",
       "    }\n",
       "\n",
       "    .dataframe tbody tr th {\n",
       "        vertical-align: top;\n",
       "    }\n",
       "\n",
       "    .dataframe thead tr th {\n",
       "        text-align: left;\n",
       "    }\n",
       "\n",
       "    .dataframe thead tr:last-of-type th {\n",
       "        text-align: right;\n",
       "    }\n",
       "</style>\n",
       "<table border=\"1\" class=\"dataframe\">\n",
       "  <thead>\n",
       "    <tr>\n",
       "      <th></th>\n",
       "      <th>mean</th>\n",
       "      <th>min</th>\n",
       "      <th>max</th>\n",
       "    </tr>\n",
       "    <tr>\n",
       "      <th></th>\n",
       "      <th>PI</th>\n",
       "      <th>PI</th>\n",
       "      <th>PI</th>\n",
       "    </tr>\n",
       "    <tr>\n",
       "      <th>수술기법1</th>\n",
       "      <th></th>\n",
       "      <th></th>\n",
       "      <th></th>\n",
       "    </tr>\n",
       "  </thead>\n",
       "  <tbody>\n",
       "    <tr>\n",
       "      <th>0</th>\n",
       "      <td>45.045679</td>\n",
       "      <td>23.0</td>\n",
       "      <td>59.9</td>\n",
       "    </tr>\n",
       "  </tbody>\n",
       "</table>\n",
       "</div>"
      ],
      "text/plain": [
       "            mean   min   max\n",
       "              PI    PI    PI\n",
       "수술기법1                       \n",
       "0      45.045679  23.0  59.9"
      ]
     },
     "execution_count": 168,
     "metadata": {},
     "output_type": "execute_result"
    }
   ],
   "source": [
    "final_1.pivot_table(index='수술기법1',values='PI'\n",
    "                  ,aggfunc=['mean','min','max'])"
   ]
  },
  {
   "cell_type": "code",
   "execution_count": 169,
   "id": "4118d2a4",
   "metadata": {},
   "outputs": [],
   "source": [
    "cond2 = (final['수술기법1']!=0)\n",
    "final_2 = final.loc[cond2]"
   ]
  },
  {
   "cell_type": "code",
   "execution_count": 170,
   "id": "b2388e62",
   "metadata": {},
   "outputs": [
    {
     "data": {
      "text/html": [
       "<div>\n",
       "<style scoped>\n",
       "    .dataframe tbody tr th:only-of-type {\n",
       "        vertical-align: middle;\n",
       "    }\n",
       "\n",
       "    .dataframe tbody tr th {\n",
       "        vertical-align: top;\n",
       "    }\n",
       "\n",
       "    .dataframe thead tr th {\n",
       "        text-align: left;\n",
       "    }\n",
       "\n",
       "    .dataframe thead tr:last-of-type th {\n",
       "        text-align: right;\n",
       "    }\n",
       "</style>\n",
       "<table border=\"1\" class=\"dataframe\">\n",
       "  <thead>\n",
       "    <tr>\n",
       "      <th></th>\n",
       "      <th>mean</th>\n",
       "      <th>min</th>\n",
       "      <th>max</th>\n",
       "    </tr>\n",
       "    <tr>\n",
       "      <th></th>\n",
       "      <th>PI</th>\n",
       "      <th>PI</th>\n",
       "      <th>PI</th>\n",
       "    </tr>\n",
       "    <tr>\n",
       "      <th>수술기법1</th>\n",
       "      <th></th>\n",
       "      <th></th>\n",
       "      <th></th>\n",
       "    </tr>\n",
       "  </thead>\n",
       "  <tbody>\n",
       "    <tr>\n",
       "      <th>IELD</th>\n",
       "      <td>42.492086</td>\n",
       "      <td>14.0</td>\n",
       "      <td>78.0</td>\n",
       "    </tr>\n",
       "    <tr>\n",
       "      <th>TELD</th>\n",
       "      <td>47.010120</td>\n",
       "      <td>11.9</td>\n",
       "      <td>559.0</td>\n",
       "    </tr>\n",
       "  </tbody>\n",
       "</table>\n",
       "</div>"
      ],
      "text/plain": [
       "            mean   min    max\n",
       "              PI    PI     PI\n",
       "수술기법1                        \n",
       "IELD   42.492086  14.0   78.0\n",
       "TELD   47.010120  11.9  559.0"
      ]
     },
     "execution_count": 170,
     "metadata": {},
     "output_type": "execute_result"
    }
   ],
   "source": [
    "final_2.pivot_table(index='수술기법1',values='PI'\n",
    "                  ,aggfunc=['mean','min','max'])"
   ]
  },
  {
   "cell_type": "code",
   "execution_count": null,
   "id": "95e8ec49",
   "metadata": {},
   "outputs": [],
   "source": []
  },
  {
   "cell_type": "code",
   "execution_count": null,
   "id": "e5d6e864",
   "metadata": {},
   "outputs": [],
   "source": []
  },
  {
   "cell_type": "code",
   "execution_count": 171,
   "id": "5ad5ab3a",
   "metadata": {},
   "outputs": [
    {
     "data": {
      "text/html": [
       "<div>\n",
       "<style scoped>\n",
       "    .dataframe tbody tr th:only-of-type {\n",
       "        vertical-align: middle;\n",
       "    }\n",
       "\n",
       "    .dataframe tbody tr th {\n",
       "        vertical-align: top;\n",
       "    }\n",
       "\n",
       "    .dataframe thead tr th {\n",
       "        text-align: left;\n",
       "    }\n",
       "\n",
       "    .dataframe thead tr:last-of-type th {\n",
       "        text-align: right;\n",
       "    }\n",
       "</style>\n",
       "<table border=\"1\" class=\"dataframe\">\n",
       "  <thead>\n",
       "    <tr>\n",
       "      <th></th>\n",
       "      <th>mean</th>\n",
       "      <th>min</th>\n",
       "      <th>max</th>\n",
       "    </tr>\n",
       "    <tr>\n",
       "      <th></th>\n",
       "      <th>골밀도</th>\n",
       "      <th>골밀도</th>\n",
       "      <th>골밀도</th>\n",
       "    </tr>\n",
       "    <tr>\n",
       "      <th>수술기법1</th>\n",
       "      <th></th>\n",
       "      <th></th>\n",
       "      <th></th>\n",
       "    </tr>\n",
       "  </thead>\n",
       "  <tbody>\n",
       "    <tr>\n",
       "      <th>0</th>\n",
       "      <td>-1.5505</td>\n",
       "      <td>-2.46</td>\n",
       "      <td>-0.6</td>\n",
       "    </tr>\n",
       "  </tbody>\n",
       "</table>\n",
       "</div>"
      ],
      "text/plain": [
       "         mean   min  max\n",
       "          골밀도   골밀도  골밀도\n",
       "수술기법1                   \n",
       "0     -1.5505 -2.46 -0.6"
      ]
     },
     "execution_count": 171,
     "metadata": {},
     "output_type": "execute_result"
    }
   ],
   "source": [
    "final_1.pivot_table(index='수술기법1',values='골밀도'\n",
    "                  ,aggfunc=['mean','min','max'])"
   ]
  },
  {
   "cell_type": "code",
   "execution_count": 172,
   "id": "ea3b7661",
   "metadata": {},
   "outputs": [
    {
     "data": {
      "text/html": [
       "<div>\n",
       "<style scoped>\n",
       "    .dataframe tbody tr th:only-of-type {\n",
       "        vertical-align: middle;\n",
       "    }\n",
       "\n",
       "    .dataframe tbody tr th {\n",
       "        vertical-align: top;\n",
       "    }\n",
       "\n",
       "    .dataframe thead tr th {\n",
       "        text-align: left;\n",
       "    }\n",
       "\n",
       "    .dataframe thead tr:last-of-type th {\n",
       "        text-align: right;\n",
       "    }\n",
       "</style>\n",
       "<table border=\"1\" class=\"dataframe\">\n",
       "  <thead>\n",
       "    <tr>\n",
       "      <th></th>\n",
       "      <th>mean</th>\n",
       "      <th>min</th>\n",
       "      <th>max</th>\n",
       "    </tr>\n",
       "    <tr>\n",
       "      <th></th>\n",
       "      <th>골밀도</th>\n",
       "      <th>골밀도</th>\n",
       "      <th>골밀도</th>\n",
       "    </tr>\n",
       "    <tr>\n",
       "      <th>수술기법1</th>\n",
       "      <th></th>\n",
       "      <th></th>\n",
       "      <th></th>\n",
       "    </tr>\n",
       "  </thead>\n",
       "  <tbody>\n",
       "    <tr>\n",
       "      <th>IELD</th>\n",
       "      <td>-1.473235</td>\n",
       "      <td>-2.46</td>\n",
       "      <td>1.14</td>\n",
       "    </tr>\n",
       "    <tr>\n",
       "      <th>TELD</th>\n",
       "      <td>-1.507989</td>\n",
       "      <td>-2.84</td>\n",
       "      <td>1.70</td>\n",
       "    </tr>\n",
       "  </tbody>\n",
       "</table>\n",
       "</div>"
      ],
      "text/plain": [
       "           mean   min   max\n",
       "            골밀도   골밀도   골밀도\n",
       "수술기법1                      \n",
       "IELD  -1.473235 -2.46  1.14\n",
       "TELD  -1.507989 -2.84  1.70"
      ]
     },
     "execution_count": 172,
     "metadata": {},
     "output_type": "execute_result"
    }
   ],
   "source": [
    "final_2.pivot_table(index='수술기법1',values='골밀도'\n",
    "                  ,aggfunc=['mean','min','max'])"
   ]
  },
  {
   "cell_type": "code",
   "execution_count": 173,
   "id": "61331796",
   "metadata": {},
   "outputs": [
    {
     "data": {
      "text/plain": [
       "환자ID                      152PT341PT451PT452PT453PT454PT455PT456PT457PT4...\n",
       "전방디스크높이(mm)                                                           960.5\n",
       "후방디스크높이(mm)                                                          675.93\n",
       "지방축적도                                                              16610.88\n",
       "Instability                                                               4\n",
       "MF + ES                                                           182141.95\n",
       "Modic change                                                             42\n",
       "PI                                                                   3648.7\n",
       "PT                                                                   1232.5\n",
       "Seg Angle(raw)                                                       1396.9\n",
       "Vaccum disc                                                               8\n",
       "골밀도                                                                  -62.02\n",
       "디스크단면적                                                            160484.99\n",
       "디스크위치                                                                   327\n",
       "척추이동척도                    MiddleMiddleDownDownMiddleMiddleMiddleMiddleMi...\n",
       "척추전방위증                                                                    7\n",
       "Large Lymphocyte                                                     3136.5\n",
       "Location of herniation                                                  156\n",
       "ODI                                                                    49.0\n",
       "가족력                                                                     1.0\n",
       "간질성폐질환                                                                    0\n",
       "고혈압여부                                                                     9\n",
       "과거수술횟수                                                                   14\n",
       "당뇨여부                                                                      8\n",
       "말초동맥질환여부                                                                  1\n",
       "빈혈여부                                                                      2\n",
       "성별                                                                      118\n",
       "스테로이드치료                                                                  53\n",
       "신부전여부                                                                     2\n",
       "신장                                                                    13609\n",
       "심혈관질환                                                                     4\n",
       "암발병여부                                                                     1\n",
       "연령                                                                     3296\n",
       "우울증여부                                                                     0\n",
       "입원기간                                                      276 days 00:00:00\n",
       "입원일자                                                             1634515450\n",
       "종양진행여부                                                                    1\n",
       "체중                                                                   5483.0\n",
       "퇴원일자                                                             1634525156\n",
       "헤모글로빈수치                                                             1181.24\n",
       "혈전합병증여부                                                                   0\n",
       "환자통증정도                                                                  567\n",
       "흡연여부                                                                     21\n",
       "통증기간(월)                                                               532.0\n",
       "수술기법                                                                      0\n",
       "수술시간                                                                 4688.0\n",
       "수술실패여부                                                                    3\n",
       "수술일자                                                             1634524564\n",
       "재발여부                                                                     16\n",
       "혈액형                       RH+BRH+ARH+BRH+ORH+ARH+ABRH+ORH+BRH+ARH+ARH+BR...\n",
       "SS                                                                   2416.2\n",
       "연령대                                                                     288\n",
       "연도                                                                   163449\n",
       "입원기간(int)                                                               276\n",
       "수술기법1                                                                     0\n",
       "dtype: object"
      ]
     },
     "execution_count": 173,
     "metadata": {},
     "output_type": "execute_result"
    }
   ],
   "source": [
    "final_1.sum()"
   ]
  },
  {
   "cell_type": "markdown",
   "id": "52c0a0bf",
   "metadata": {},
   "source": [
    "#### SEG ANGLE - 유의미해보임 (근거 더 필요)"
   ]
  },
  {
   "cell_type": "code",
   "execution_count": 174,
   "id": "8cfc1a88",
   "metadata": {},
   "outputs": [
    {
     "data": {
      "text/html": [
       "<div>\n",
       "<style scoped>\n",
       "    .dataframe tbody tr th:only-of-type {\n",
       "        vertical-align: middle;\n",
       "    }\n",
       "\n",
       "    .dataframe tbody tr th {\n",
       "        vertical-align: top;\n",
       "    }\n",
       "\n",
       "    .dataframe thead tr th {\n",
       "        text-align: left;\n",
       "    }\n",
       "\n",
       "    .dataframe thead tr:last-of-type th {\n",
       "        text-align: right;\n",
       "    }\n",
       "</style>\n",
       "<table border=\"1\" class=\"dataframe\">\n",
       "  <thead>\n",
       "    <tr>\n",
       "      <th></th>\n",
       "      <th>mean</th>\n",
       "      <th>min</th>\n",
       "      <th>max</th>\n",
       "    </tr>\n",
       "    <tr>\n",
       "      <th></th>\n",
       "      <th>Seg Angle(raw)</th>\n",
       "      <th>Seg Angle(raw)</th>\n",
       "      <th>Seg Angle(raw)</th>\n",
       "    </tr>\n",
       "    <tr>\n",
       "      <th>수술기법1</th>\n",
       "      <th></th>\n",
       "      <th></th>\n",
       "      <th></th>\n",
       "    </tr>\n",
       "  </thead>\n",
       "  <tbody>\n",
       "    <tr>\n",
       "      <th>0</th>\n",
       "      <td>17.245679</td>\n",
       "      <td>0.3</td>\n",
       "      <td>36.3</td>\n",
       "    </tr>\n",
       "  </tbody>\n",
       "</table>\n",
       "</div>"
      ],
      "text/plain": [
       "                mean            min            max\n",
       "      Seg Angle(raw) Seg Angle(raw) Seg Angle(raw)\n",
       "수술기법1                                             \n",
       "0          17.245679            0.3           36.3"
      ]
     },
     "execution_count": 174,
     "metadata": {},
     "output_type": "execute_result"
    }
   ],
   "source": [
    "final_1.pivot_table(index='수술기법1',values='Seg Angle(raw)'\n",
    "                  ,aggfunc=['mean','min','max'])"
   ]
  },
  {
   "cell_type": "markdown",
   "id": "42987414",
   "metadata": {},
   "source": [
    "(수술일자는 있음) 수술기법이 공백인 사람들 70명"
   ]
  },
  {
   "cell_type": "code",
   "execution_count": null,
   "id": "c8d64a5e",
   "metadata": {},
   "outputs": [],
   "source": []
  },
  {
   "cell_type": "code",
   "execution_count": 175,
   "id": "9c81918f",
   "metadata": {},
   "outputs": [
    {
     "data": {
      "text/html": [
       "<div>\n",
       "<style scoped>\n",
       "    .dataframe tbody tr th:only-of-type {\n",
       "        vertical-align: middle;\n",
       "    }\n",
       "\n",
       "    .dataframe tbody tr th {\n",
       "        vertical-align: top;\n",
       "    }\n",
       "\n",
       "    .dataframe thead tr th {\n",
       "        text-align: left;\n",
       "    }\n",
       "\n",
       "    .dataframe thead tr:last-of-type th {\n",
       "        text-align: right;\n",
       "    }\n",
       "</style>\n",
       "<table border=\"1\" class=\"dataframe\">\n",
       "  <thead>\n",
       "    <tr>\n",
       "      <th></th>\n",
       "      <th>mean</th>\n",
       "      <th>min</th>\n",
       "      <th>max</th>\n",
       "    </tr>\n",
       "    <tr>\n",
       "      <th></th>\n",
       "      <th>Seg Angle(raw)</th>\n",
       "      <th>Seg Angle(raw)</th>\n",
       "      <th>Seg Angle(raw)</th>\n",
       "    </tr>\n",
       "    <tr>\n",
       "      <th>수술기법1</th>\n",
       "      <th></th>\n",
       "      <th></th>\n",
       "      <th></th>\n",
       "    </tr>\n",
       "  </thead>\n",
       "  <tbody>\n",
       "    <tr>\n",
       "      <th>IELD</th>\n",
       "      <td>18.079286</td>\n",
       "      <td>0.4</td>\n",
       "      <td>36.8</td>\n",
       "    </tr>\n",
       "    <tr>\n",
       "      <th>TELD</th>\n",
       "      <td>14.959366</td>\n",
       "      <td>-27.4</td>\n",
       "      <td>165.0</td>\n",
       "    </tr>\n",
       "  </tbody>\n",
       "</table>\n",
       "</div>"
      ],
      "text/plain": [
       "                mean            min            max\n",
       "      Seg Angle(raw) Seg Angle(raw) Seg Angle(raw)\n",
       "수술기법1                                             \n",
       "IELD       18.079286            0.4           36.8\n",
       "TELD       14.959366          -27.4          165.0"
      ]
     },
     "execution_count": 175,
     "metadata": {},
     "output_type": "execute_result"
    }
   ],
   "source": [
    "final_2.pivot_table(index='수술기법1',values='Seg Angle(raw)'\n",
    "                  ,aggfunc=['mean','min','max'])"
   ]
  },
  {
   "cell_type": "markdown",
   "id": "d7550165",
   "metadata": {},
   "source": [
    "- IELD :\n",
    "- TELD : "
   ]
  },
  {
   "cell_type": "markdown",
   "id": "0c9d00f7",
   "metadata": {},
   "source": [
    "- 연속형(Y): Seg Angle\n",
    "- 범주형(X): 수술기법1\n",
    "\n",
    "연속성 변수인 Y의 정규성 검정"
   ]
  },
  {
   "cell_type": "markdown",
   "id": "eb145b8d",
   "metadata": {},
   "source": [
    "정규성 검정하기"
   ]
  },
  {
   "cell_type": "code",
   "execution_count": null,
   "id": "54509e20",
   "metadata": {},
   "outputs": [],
   "source": []
  },
  {
   "cell_type": "code",
   "execution_count": 176,
   "id": "6116f1f1",
   "metadata": {},
   "outputs": [],
   "source": [
    "df1 = final_2[final_2['수술기법1'] == 'TELD']"
   ]
  },
  {
   "cell_type": "code",
   "execution_count": 177,
   "id": "b7200179",
   "metadata": {},
   "outputs": [],
   "source": [
    "df1_ = pd.DataFrame(df1['Seg Angle(raw)'])"
   ]
  },
  {
   "cell_type": "code",
   "execution_count": 178,
   "id": "d04b4779",
   "metadata": {},
   "outputs": [
    {
     "data": {
      "text/plain": [
       "Seg Angle(raw)    1\n",
       "dtype: int64"
      ]
     },
     "execution_count": 178,
     "metadata": {},
     "output_type": "execute_result"
    }
   ],
   "source": [
    "df1_.isnull().sum()"
   ]
  },
  {
   "cell_type": "code",
   "execution_count": 179,
   "id": "95a054e3",
   "metadata": {},
   "outputs": [
    {
     "data": {
      "text/plain": [
       "<AxesSubplot:>"
      ]
     },
     "execution_count": 179,
     "metadata": {},
     "output_type": "execute_result"
    },
    {
     "data": {
      "image/png": "[encoded data removed]",
      "text/plain": [
       "<Figure size 432x288 with 1 Axes>"
      ]
     },
     "metadata": {
      "needs_background": "light"
     },
     "output_type": "display_data"
    }
   ],
   "source": [
    "df1_.boxplot()"
   ]
  },
  {
   "cell_type": "code",
   "execution_count": 180,
   "id": "64397c59",
   "metadata": {},
   "outputs": [
    {
     "data": {
      "text/html": [
       "<div>\n",
       "<style scoped>\n",
       "    .dataframe tbody tr th:only-of-type {\n",
       "        vertical-align: middle;\n",
       "    }\n",
       "\n",
       "    .dataframe tbody tr th {\n",
       "        vertical-align: top;\n",
       "    }\n",
       "\n",
       "    .dataframe thead th {\n",
       "        text-align: right;\n",
       "    }\n",
       "</style>\n",
       "<table border=\"1\" class=\"dataframe\">\n",
       "  <thead>\n",
       "    <tr style=\"text-align: right;\">\n",
       "      <th></th>\n",
       "      <th>Seg Angle(raw)</th>\n",
       "    </tr>\n",
       "  </thead>\n",
       "  <tbody>\n",
       "    <tr>\n",
       "      <th>55</th>\n",
       "      <td>-1.8</td>\n",
       "    </tr>\n",
       "    <tr>\n",
       "      <th>206</th>\n",
       "      <td>-9.4</td>\n",
       "    </tr>\n",
       "    <tr>\n",
       "      <th>397</th>\n",
       "      <td>-4.9</td>\n",
       "    </tr>\n",
       "    <tr>\n",
       "      <th>408</th>\n",
       "      <td>-27.4</td>\n",
       "    </tr>\n",
       "    <tr>\n",
       "      <th>525</th>\n",
       "      <td>-1.8</td>\n",
       "    </tr>\n",
       "    <tr>\n",
       "      <th>676</th>\n",
       "      <td>-9.4</td>\n",
       "    </tr>\n",
       "    <tr>\n",
       "      <th>867</th>\n",
       "      <td>-4.9</td>\n",
       "    </tr>\n",
       "    <tr>\n",
       "      <th>878</th>\n",
       "      <td>-27.4</td>\n",
       "    </tr>\n",
       "    <tr>\n",
       "      <th>1034</th>\n",
       "      <td>-5.0</td>\n",
       "    </tr>\n",
       "    <tr>\n",
       "      <th>1066</th>\n",
       "      <td>-1.8</td>\n",
       "    </tr>\n",
       "    <tr>\n",
       "      <th>1378</th>\n",
       "      <td>-9.4</td>\n",
       "    </tr>\n",
       "    <tr>\n",
       "      <th>1393</th>\n",
       "      <td>-3.4</td>\n",
       "    </tr>\n",
       "    <tr>\n",
       "      <th>1395</th>\n",
       "      <td>-6.9</td>\n",
       "    </tr>\n",
       "    <tr>\n",
       "      <th>1748</th>\n",
       "      <td>-4.9</td>\n",
       "    </tr>\n",
       "    <tr>\n",
       "      <th>1763</th>\n",
       "      <td>-27.4</td>\n",
       "    </tr>\n",
       "  </tbody>\n",
       "</table>\n",
       "</div>"
      ],
      "text/plain": [
       "      Seg Angle(raw)\n",
       "55              -1.8\n",
       "206             -9.4\n",
       "397             -4.9\n",
       "408            -27.4\n",
       "525             -1.8\n",
       "676             -9.4\n",
       "867             -4.9\n",
       "878            -27.4\n",
       "1034            -5.0\n",
       "1066            -1.8\n",
       "1378            -9.4\n",
       "1393            -3.4\n",
       "1395            -6.9\n",
       "1748            -4.9\n",
       "1763           -27.4"
      ]
     },
     "execution_count": 180,
     "metadata": {},
     "output_type": "execute_result"
    }
   ],
   "source": [
    "df1_[df1_['Seg Angle(raw)']<0]"
   ]
  },
  {
   "cell_type": "code",
   "execution_count": 181,
   "id": "72f9a821",
   "metadata": {},
   "outputs": [],
   "source": [
    "df1_.dropna(inplace=True)"
   ]
  },
  {
   "cell_type": "code",
   "execution_count": 182,
   "id": "4a45df01",
   "metadata": {},
   "outputs": [
    {
     "data": {
      "text/plain": [
       "Seg Angle(raw)    0\n",
       "dtype: int64"
      ]
     },
     "execution_count": 182,
     "metadata": {},
     "output_type": "execute_result"
    }
   ],
   "source": [
    "df1_.isnull().sum()"
   ]
  },
  {
   "cell_type": "code",
   "execution_count": 183,
   "id": "ca48379b",
   "metadata": {},
   "outputs": [],
   "source": [
    "df2 = final_2[final_2['수술기법1'] == 'IELD']"
   ]
  },
  {
   "cell_type": "code",
   "execution_count": 184,
   "id": "b93c7a85",
   "metadata": {},
   "outputs": [],
   "source": [
    "df2_ = pd.DataFrame(df2['Seg Angle(raw)'])"
   ]
  },
  {
   "cell_type": "code",
   "execution_count": 185,
   "id": "d2e38382",
   "metadata": {},
   "outputs": [
    {
     "data": {
      "text/plain": [
       "Seg Angle(raw)    140\n",
       "dtype: int64"
      ]
     },
     "execution_count": 185,
     "metadata": {},
     "output_type": "execute_result"
    }
   ],
   "source": [
    "df2_.count() "
   ]
  },
  {
   "cell_type": "code",
   "execution_count": 186,
   "id": "60cabd0e",
   "metadata": {},
   "outputs": [
    {
     "data": {
      "text/plain": [
       "<AxesSubplot:>"
      ]
     },
     "execution_count": 186,
     "metadata": {},
     "output_type": "execute_result"
    },
    {
     "data": {
      "image/png": "[encoded data removed]",
      "text/plain": [
       "<Figure size 432x288 with 1 Axes>"
      ]
     },
     "metadata": {
      "needs_background": "light"
     },
     "output_type": "display_data"
    }
   ],
   "source": [
    "df2_.boxplot()"
   ]
  },
  {
   "cell_type": "code",
   "execution_count": 187,
   "id": "9a43b6cc",
   "metadata": {},
   "outputs": [
    {
     "data": {
      "text/plain": [
       "Seg Angle(raw)    0\n",
       "dtype: int64"
      ]
     },
     "execution_count": 187,
     "metadata": {},
     "output_type": "execute_result"
    }
   ],
   "source": [
    "df2_.isnull().sum()"
   ]
  },
  {
   "cell_type": "code",
   "execution_count": 188,
   "id": "985b8adf",
   "metadata": {},
   "outputs": [],
   "source": [
    "from scipy import stats"
   ]
  },
  {
   "cell_type": "code",
   "execution_count": 189,
   "id": "c71e5c64",
   "metadata": {},
   "outputs": [],
   "source": [
    "t_result = stats.ttest_ind(df1_, df2_)"
   ]
  },
  {
   "cell_type": "code",
   "execution_count": 190,
   "id": "9b0473d5",
   "metadata": {},
   "outputs": [
    {
     "name": "stdout",
     "output_type": "stream",
     "text": [
      "2_sample t-test\n",
      "t:[-3.399]\n",
      "p:[0.001]\n"
     ]
    }
   ],
   "source": [
    "t, p = t_result.statistic.round(3), t_result.pvalue.round(3)\n",
    "\n",
    "print(\"2_sample t-test\")\n",
    "print(\"t:{}\".format(t))\n",
    "print(\"p:{}\".format(p))"
   ]
  },
  {
   "cell_type": "code",
   "execution_count": null,
   "id": "cf8da354",
   "metadata": {},
   "outputs": [],
   "source": []
  },
  {
   "cell_type": "code",
   "execution_count": null,
   "id": "46a96189",
   "metadata": {},
   "outputs": [],
   "source": []
  },
  {
   "cell_type": "markdown",
   "id": "2374a9bf",
   "metadata": {},
   "source": [
    "스테로이드는 count하자"
   ]
  },
  {
   "cell_type": "code",
   "execution_count": null,
   "id": "2ec02950",
   "metadata": {},
   "outputs": [],
   "source": []
  },
  {
   "cell_type": "code",
   "execution_count": null,
   "id": "8b9041fa",
   "metadata": {},
   "outputs": [],
   "source": []
  },
  {
   "cell_type": "markdown",
   "id": "644626a3",
   "metadata": {},
   "source": [
    "#### 스테로이드 - 유의미해보임 (근거 더 필요)"
   ]
  },
  {
   "cell_type": "code",
   "execution_count": 191,
   "id": "2e6e9c6d",
   "metadata": {},
   "outputs": [
    {
     "data": {
      "text/plain": [
       "환자ID                      152PT341PT451PT452PT453PT454PT455PT456PT457PT4...\n",
       "전방디스크높이(mm)                                                           960.5\n",
       "후방디스크높이(mm)                                                          675.93\n",
       "지방축적도                                                              16610.88\n",
       "Instability                                                               4\n",
       "MF + ES                                                           182141.95\n",
       "Modic change                                                             42\n",
       "PI                                                                   3648.7\n",
       "PT                                                                   1232.5\n",
       "Seg Angle(raw)                                                       1396.9\n",
       "Vaccum disc                                                               8\n",
       "골밀도                                                                  -62.02\n",
       "디스크단면적                                                            160484.99\n",
       "디스크위치                                                                   327\n",
       "척추이동척도                    MiddleMiddleDownDownMiddleMiddleMiddleMiddleMi...\n",
       "척추전방위증                                                                    7\n",
       "Large Lymphocyte                                                     3136.5\n",
       "Location of herniation                                                  156\n",
       "ODI                                                                    49.0\n",
       "가족력                                                                     1.0\n",
       "간질성폐질환                                                                    0\n",
       "고혈압여부                                                                     9\n",
       "과거수술횟수                                                                   14\n",
       "당뇨여부                                                                      8\n",
       "말초동맥질환여부                                                                  1\n",
       "빈혈여부                                                                      2\n",
       "성별                                                                      118\n",
       "스테로이드치료                                                                  53\n",
       "신부전여부                                                                     2\n",
       "신장                                                                    13609\n",
       "심혈관질환                                                                     4\n",
       "암발병여부                                                                     1\n",
       "연령                                                                     3296\n",
       "우울증여부                                                                     0\n",
       "입원기간                                                      276 days 00:00:00\n",
       "입원일자                                                             1634515450\n",
       "종양진행여부                                                                    1\n",
       "체중                                                                   5483.0\n",
       "퇴원일자                                                             1634525156\n",
       "헤모글로빈수치                                                             1181.24\n",
       "혈전합병증여부                                                                   0\n",
       "환자통증정도                                                                  567\n",
       "흡연여부                                                                     21\n",
       "통증기간(월)                                                               532.0\n",
       "수술기법                                                                      0\n",
       "수술시간                                                                 4688.0\n",
       "수술실패여부                                                                    3\n",
       "수술일자                                                             1634524564\n",
       "재발여부                                                                     16\n",
       "혈액형                       RH+BRH+ARH+BRH+ORH+ARH+ABRH+ORH+BRH+ARH+ARH+BR...\n",
       "SS                                                                   2416.2\n",
       "연령대                                                                     288\n",
       "연도                                                                   163449\n",
       "입원기간(int)                                                               276\n",
       "수술기법1                                                                     0\n",
       "dtype: object"
      ]
     },
     "execution_count": 191,
     "metadata": {},
     "output_type": "execute_result"
    }
   ],
   "source": [
    "final_1.sum()"
   ]
  },
  {
   "cell_type": "code",
   "execution_count": 192,
   "id": "0276c47f",
   "metadata": {},
   "outputs": [
    {
     "data": {
      "text/plain": [
       "TELD    1673\n",
       "IELD     140\n",
       "Name: 수술기법, dtype: int64"
      ]
     },
     "execution_count": 192,
     "metadata": {},
     "output_type": "execute_result"
    }
   ],
   "source": [
    "freq = final['수술기법'].value_counts()\n",
    "freq"
   ]
  },
  {
   "cell_type": "code",
   "execution_count": 193,
   "id": "28e6d689",
   "metadata": {},
   "outputs": [
    {
     "data": {
      "text/plain": [
       "Series([], Name: 수술기법, dtype: int64)"
      ]
     },
     "execution_count": 193,
     "metadata": {},
     "output_type": "execute_result"
    }
   ],
   "source": [
    "freq = final_1['수술기법'].value_counts()\n",
    "freq"
   ]
  },
  {
   "cell_type": "code",
   "execution_count": 194,
   "id": "5be4655b",
   "metadata": {},
   "outputs": [
    {
     "data": {
      "text/html": [
       "<div>\n",
       "<style scoped>\n",
       "    .dataframe tbody tr th:only-of-type {\n",
       "        vertical-align: middle;\n",
       "    }\n",
       "\n",
       "    .dataframe tbody tr th {\n",
       "        vertical-align: top;\n",
       "    }\n",
       "\n",
       "    .dataframe thead th {\n",
       "        text-align: right;\n",
       "    }\n",
       "</style>\n",
       "<table border=\"1\" class=\"dataframe\">\n",
       "  <thead>\n",
       "    <tr style=\"text-align: right;\">\n",
       "      <th></th>\n",
       "      <th>환자ID</th>\n",
       "      <th>전방디스크높이(mm)</th>\n",
       "      <th>후방디스크높이(mm)</th>\n",
       "      <th>지방축적도</th>\n",
       "      <th>Instability</th>\n",
       "      <th>MF + ES</th>\n",
       "      <th>Modic change</th>\n",
       "      <th>PI</th>\n",
       "      <th>PT</th>\n",
       "      <th>Seg Angle(raw)</th>\n",
       "      <th>...</th>\n",
       "      <th>수술일자</th>\n",
       "      <th>재발여부</th>\n",
       "      <th>혈액형</th>\n",
       "      <th>SS</th>\n",
       "      <th>연령대</th>\n",
       "      <th>연도</th>\n",
       "      <th>입원일자(date)</th>\n",
       "      <th>퇴원일자(date)</th>\n",
       "      <th>입원기간(int)</th>\n",
       "      <th>수술기법1</th>\n",
       "    </tr>\n",
       "  </thead>\n",
       "  <tbody>\n",
       "    <tr>\n",
       "      <th>0</th>\n",
       "      <td>1PT</td>\n",
       "      <td>16.1</td>\n",
       "      <td>12.3</td>\n",
       "      <td>282.3</td>\n",
       "      <td>0</td>\n",
       "      <td>1824.6</td>\n",
       "      <td>3</td>\n",
       "      <td>51.6</td>\n",
       "      <td>36.6</td>\n",
       "      <td>14.4</td>\n",
       "      <td>...</td>\n",
       "      <td>20190715</td>\n",
       "      <td>0</td>\n",
       "      <td>RH+A</td>\n",
       "      <td>15.0</td>\n",
       "      <td>6</td>\n",
       "      <td>2019</td>\n",
       "      <td>2019-07-13</td>\n",
       "      <td>2019-07-16</td>\n",
       "      <td>3</td>\n",
       "      <td>TELD</td>\n",
       "    </tr>\n",
       "    <tr>\n",
       "      <th>1</th>\n",
       "      <td>2PT</td>\n",
       "      <td>13.7</td>\n",
       "      <td>6.4</td>\n",
       "      <td>177.3</td>\n",
       "      <td>0</td>\n",
       "      <td>1737.5</td>\n",
       "      <td>0</td>\n",
       "      <td>40.8</td>\n",
       "      <td>7.2</td>\n",
       "      <td>17.8</td>\n",
       "      <td>...</td>\n",
       "      <td>20190716</td>\n",
       "      <td>0</td>\n",
       "      <td>RH+A</td>\n",
       "      <td>33.6</td>\n",
       "      <td>4</td>\n",
       "      <td>2019</td>\n",
       "      <td>2019-07-15</td>\n",
       "      <td>2019-07-16</td>\n",
       "      <td>1</td>\n",
       "      <td>TELD</td>\n",
       "    </tr>\n",
       "    <tr>\n",
       "      <th>2</th>\n",
       "      <td>3PT</td>\n",
       "      <td>13.6</td>\n",
       "      <td>7.4</td>\n",
       "      <td>256.8</td>\n",
       "      <td>0</td>\n",
       "      <td>1188.5</td>\n",
       "      <td>0</td>\n",
       "      <td>67.5</td>\n",
       "      <td>27.3</td>\n",
       "      <td>10.2</td>\n",
       "      <td>...</td>\n",
       "      <td>20190731</td>\n",
       "      <td>0</td>\n",
       "      <td>RH+B</td>\n",
       "      <td>40.2</td>\n",
       "      <td>3</td>\n",
       "      <td>2019</td>\n",
       "      <td>2019-07-29</td>\n",
       "      <td>2019-08-01</td>\n",
       "      <td>3</td>\n",
       "      <td>TELD</td>\n",
       "    </tr>\n",
       "    <tr>\n",
       "      <th>3</th>\n",
       "      <td>4PT</td>\n",
       "      <td>10.6</td>\n",
       "      <td>7.3</td>\n",
       "      <td>250.1</td>\n",
       "      <td>0</td>\n",
       "      <td>2534.5</td>\n",
       "      <td>0</td>\n",
       "      <td>49.2</td>\n",
       "      <td>18.7</td>\n",
       "      <td>19.9</td>\n",
       "      <td>...</td>\n",
       "      <td>20190802</td>\n",
       "      <td>0</td>\n",
       "      <td>RH+O</td>\n",
       "      <td>30.5</td>\n",
       "      <td>4</td>\n",
       "      <td>2019</td>\n",
       "      <td>2019-07-31</td>\n",
       "      <td>2019-08-03</td>\n",
       "      <td>3</td>\n",
       "      <td>TELD</td>\n",
       "    </tr>\n",
       "    <tr>\n",
       "      <th>4</th>\n",
       "      <td>5PT</td>\n",
       "      <td>17.1</td>\n",
       "      <td>8.1</td>\n",
       "      <td>232.2</td>\n",
       "      <td>0</td>\n",
       "      <td>1840.6</td>\n",
       "      <td>0</td>\n",
       "      <td>58.8</td>\n",
       "      <td>14.7</td>\n",
       "      <td>5.2</td>\n",
       "      <td>...</td>\n",
       "      <td>20190906</td>\n",
       "      <td>0</td>\n",
       "      <td>RH+A</td>\n",
       "      <td>44.1</td>\n",
       "      <td>4</td>\n",
       "      <td>2019</td>\n",
       "      <td>2019-09-03</td>\n",
       "      <td>2019-09-07</td>\n",
       "      <td>4</td>\n",
       "      <td>TELD</td>\n",
       "    </tr>\n",
       "    <tr>\n",
       "      <th>...</th>\n",
       "      <td>...</td>\n",
       "      <td>...</td>\n",
       "      <td>...</td>\n",
       "      <td>...</td>\n",
       "      <td>...</td>\n",
       "      <td>...</td>\n",
       "      <td>...</td>\n",
       "      <td>...</td>\n",
       "      <td>...</td>\n",
       "      <td>...</td>\n",
       "      <td>...</td>\n",
       "      <td>...</td>\n",
       "      <td>...</td>\n",
       "      <td>...</td>\n",
       "      <td>...</td>\n",
       "      <td>...</td>\n",
       "      <td>...</td>\n",
       "      <td>...</td>\n",
       "      <td>...</td>\n",
       "      <td>...</td>\n",
       "      <td>...</td>\n",
       "    </tr>\n",
       "    <tr>\n",
       "      <th>1870</th>\n",
       "      <td>1871PT</td>\n",
       "      <td>8.5</td>\n",
       "      <td>9.0</td>\n",
       "      <td>182.5</td>\n",
       "      <td>0</td>\n",
       "      <td>1919.5</td>\n",
       "      <td>0</td>\n",
       "      <td>31.7</td>\n",
       "      <td>14.9</td>\n",
       "      <td>9.6</td>\n",
       "      <td>...</td>\n",
       "      <td>20170306</td>\n",
       "      <td>0</td>\n",
       "      <td>RH+O</td>\n",
       "      <td>16.8</td>\n",
       "      <td>2</td>\n",
       "      <td>2017</td>\n",
       "      <td>2017-03-02</td>\n",
       "      <td>2017-03-13</td>\n",
       "      <td>11</td>\n",
       "      <td>TELD</td>\n",
       "    </tr>\n",
       "    <tr>\n",
       "      <th>1872</th>\n",
       "      <td>1873PT</td>\n",
       "      <td>11.6</td>\n",
       "      <td>7.2</td>\n",
       "      <td>94.2</td>\n",
       "      <td>0</td>\n",
       "      <td>2398.9</td>\n",
       "      <td>0</td>\n",
       "      <td>39.4</td>\n",
       "      <td>8.0</td>\n",
       "      <td>19.5</td>\n",
       "      <td>...</td>\n",
       "      <td>20170316</td>\n",
       "      <td>0</td>\n",
       "      <td>RH+A</td>\n",
       "      <td>31.4</td>\n",
       "      <td>2</td>\n",
       "      <td>2017</td>\n",
       "      <td>2017-03-16</td>\n",
       "      <td>2017-03-17</td>\n",
       "      <td>1</td>\n",
       "      <td>TELD</td>\n",
       "    </tr>\n",
       "    <tr>\n",
       "      <th>1874</th>\n",
       "      <td>1875PT</td>\n",
       "      <td>11.1</td>\n",
       "      <td>7.6</td>\n",
       "      <td>126.1</td>\n",
       "      <td>1</td>\n",
       "      <td>1970.3</td>\n",
       "      <td>2</td>\n",
       "      <td>43.6</td>\n",
       "      <td>17.7</td>\n",
       "      <td>9.1</td>\n",
       "      <td>...</td>\n",
       "      <td>20170929</td>\n",
       "      <td>0</td>\n",
       "      <td>RH+B</td>\n",
       "      <td>25.9</td>\n",
       "      <td>4</td>\n",
       "      <td>2017</td>\n",
       "      <td>2017-09-28</td>\n",
       "      <td>2017-09-30</td>\n",
       "      <td>2</td>\n",
       "      <td>TELD</td>\n",
       "    </tr>\n",
       "    <tr>\n",
       "      <th>1879</th>\n",
       "      <td>1880PT</td>\n",
       "      <td>12.7</td>\n",
       "      <td>8.7</td>\n",
       "      <td>207.4</td>\n",
       "      <td>0</td>\n",
       "      <td>2220.1</td>\n",
       "      <td>0</td>\n",
       "      <td>34.0</td>\n",
       "      <td>19.0</td>\n",
       "      <td>6.0</td>\n",
       "      <td>...</td>\n",
       "      <td>20170605</td>\n",
       "      <td>0</td>\n",
       "      <td>RH+B</td>\n",
       "      <td>15.0</td>\n",
       "      <td>2</td>\n",
       "      <td>2017</td>\n",
       "      <td>2017-06-04</td>\n",
       "      <td>2017-06-06</td>\n",
       "      <td>2</td>\n",
       "      <td>TELD</td>\n",
       "    </tr>\n",
       "    <tr>\n",
       "      <th>1891</th>\n",
       "      <td>1892PT</td>\n",
       "      <td>13.5</td>\n",
       "      <td>5.5</td>\n",
       "      <td>148.5</td>\n",
       "      <td>0</td>\n",
       "      <td>3864.1</td>\n",
       "      <td>0</td>\n",
       "      <td>44.6</td>\n",
       "      <td>15.0</td>\n",
       "      <td>17.4</td>\n",
       "      <td>...</td>\n",
       "      <td>20170411</td>\n",
       "      <td>0</td>\n",
       "      <td>RH+O</td>\n",
       "      <td>29.6</td>\n",
       "      <td>6</td>\n",
       "      <td>2017</td>\n",
       "      <td>2017-04-10</td>\n",
       "      <td>2017-04-12</td>\n",
       "      <td>2</td>\n",
       "      <td>IELD</td>\n",
       "    </tr>\n",
       "  </tbody>\n",
       "</table>\n",
       "<p>1813 rows × 58 columns</p>\n",
       "</div>"
      ],
      "text/plain": [
       "        환자ID  전방디스크높이(mm)  후방디스크높이(mm)  지방축적도  Instability  MF + ES  \\\n",
       "0        1PT         16.1         12.3  282.3            0   1824.6   \n",
       "1        2PT         13.7          6.4  177.3            0   1737.5   \n",
       "2        3PT         13.6          7.4  256.8            0   1188.5   \n",
       "3        4PT         10.6          7.3  250.1            0   2534.5   \n",
       "4        5PT         17.1          8.1  232.2            0   1840.6   \n",
       "...      ...          ...          ...    ...          ...      ...   \n",
       "1870  1871PT          8.5          9.0  182.5            0   1919.5   \n",
       "1872  1873PT         11.6          7.2   94.2            0   2398.9   \n",
       "1874  1875PT         11.1          7.6  126.1            1   1970.3   \n",
       "1879  1880PT         12.7          8.7  207.4            0   2220.1   \n",
       "1891  1892PT         13.5          5.5  148.5            0   3864.1   \n",
       "\n",
       "      Modic change    PI    PT  Seg Angle(raw)  ...      수술일자  재발여부   혈액형  \\\n",
       "0                3  51.6  36.6            14.4  ...  20190715     0  RH+A   \n",
       "1                0  40.8   7.2            17.8  ...  20190716     0  RH+A   \n",
       "2                0  67.5  27.3            10.2  ...  20190731     0  RH+B   \n",
       "3                0  49.2  18.7            19.9  ...  20190802     0  RH+O   \n",
       "4                0  58.8  14.7             5.2  ...  20190906     0  RH+A   \n",
       "...            ...   ...   ...             ...  ...       ...   ...   ...   \n",
       "1870             0  31.7  14.9             9.6  ...  20170306     0  RH+O   \n",
       "1872             0  39.4   8.0            19.5  ...  20170316     0  RH+A   \n",
       "1874             2  43.6  17.7             9.1  ...  20170929     0  RH+B   \n",
       "1879             0  34.0  19.0             6.0  ...  20170605     0  RH+B   \n",
       "1891             0  44.6  15.0            17.4  ...  20170411     0  RH+O   \n",
       "\n",
       "        SS 연령대    연도  입원일자(date)  퇴원일자(date)  입원기간(int)  수술기법1  \n",
       "0     15.0   6  2019  2019-07-13  2019-07-16          3   TELD  \n",
       "1     33.6   4  2019  2019-07-15  2019-07-16          1   TELD  \n",
       "2     40.2   3  2019  2019-07-29  2019-08-01          3   TELD  \n",
       "3     30.5   4  2019  2019-07-31  2019-08-03          3   TELD  \n",
       "4     44.1   4  2019  2019-09-03  2019-09-07          4   TELD  \n",
       "...    ...  ..   ...         ...         ...        ...    ...  \n",
       "1870  16.8   2  2017  2017-03-02  2017-03-13         11   TELD  \n",
       "1872  31.4   2  2017  2017-03-16  2017-03-17          1   TELD  \n",
       "1874  25.9   4  2017  2017-09-28  2017-09-30          2   TELD  \n",
       "1879  15.0   2  2017  2017-06-04  2017-06-06          2   TELD  \n",
       "1891  29.6   6  2017  2017-04-10  2017-04-12          2   IELD  \n",
       "\n",
       "[1813 rows x 58 columns]"
      ]
     },
     "execution_count": 194,
     "metadata": {},
     "output_type": "execute_result"
    }
   ],
   "source": [
    "final_2"
   ]
  },
  {
   "cell_type": "code",
   "execution_count": null,
   "id": "4f843d23",
   "metadata": {},
   "outputs": [],
   "source": []
  },
  {
   "cell_type": "markdown",
   "id": "99befa46",
   "metadata": {},
   "source": [
    "## 데이터 분석 3"
   ]
  },
  {
   "cell_type": "code",
   "execution_count": 195,
   "id": "3c17c480",
   "metadata": {},
   "outputs": [],
   "source": [
    "from datetime import datetime, timedelta\n",
    "def 요일(date_time):\n",
    "    s = str(date_time)\n",
    "    days = ['월','화','수','목','금','토','일']\n",
    "    date = int(s[4:6])#datetime(year=int(s[0:4]), month=int(s[4:6]), day=int(s[6:8]))\n",
    "    return date#days[date.weekday()]\n"
   ]
  },
  {
   "cell_type": "code",
   "execution_count": 196,
   "id": "cfbf1c66",
   "metadata": {},
   "outputs": [
    {
     "ename": "SyntaxError",
     "evalue": "unexpected EOF while parsing (<ipython-input-196-423e610939e0>, line 1)",
     "output_type": "error",
     "traceback": [
      "\u001b[0;36m  File \u001b[0;32m\"<ipython-input-196-423e610939e0>\"\u001b[0;36m, line \u001b[0;32m1\u001b[0m\n\u001b[0;31m    pd.value_counts(final[final['직업']=='사무직'].apply(요일).values()\u001b[0m\n\u001b[0m                                                                ^\u001b[0m\n\u001b[0;31mSyntaxError\u001b[0m\u001b[0;31m:\u001b[0m unexpected EOF while parsing\n"
     ]
    }
   ],
   "source": [
    "pd.value_counts(final[final['직업']=='사무직'].apply(요일).values()"
   ]
  },
  {
   "cell_type": "code",
   "execution_count": 198,
   "id": "e56f35a2",
   "metadata": {},
   "outputs": [],
   "source": [
    "final['수술일자(date)'] = pd.to_datetime(final['수술일자'], format='%Y%m%d')"
   ]
  },
  {
   "cell_type": "code",
   "execution_count": 199,
   "id": "c29936af",
   "metadata": {},
   "outputs": [
    {
     "data": {
      "text/plain": [
       "0      2019-07-15\n",
       "1      2019-07-16\n",
       "2      2019-07-31\n",
       "3      2019-08-02\n",
       "4      2019-09-06\n",
       "          ...    \n",
       "1889   2017-04-07\n",
       "1890   2017-04-27\n",
       "1891   2017-04-11\n",
       "1892   2017-04-10\n",
       "1893   2017-04-12\n",
       "Name: 수술일자(date), Length: 1894, dtype: datetime64[ns]"
      ]
     },
     "execution_count": 199,
     "metadata": {},
     "output_type": "execute_result"
    }
   ],
   "source": [
    "final['수술일자(date)']"
   ]
  },
  {
   "cell_type": "code",
   "execution_count": 200,
   "id": "2014b044",
   "metadata": {},
   "outputs": [],
   "source": [
    "final['수술일자(month)'] = final['수술일자(date)'].dt.month"
   ]
  },
  {
   "cell_type": "code",
   "execution_count": 201,
   "id": "506477b4",
   "metadata": {},
   "outputs": [],
   "source": [
    "# def func1(row):\n",
    "#     return int(str(row).split(' ')[0])\n",
    "\n",
    "# final['입원기간(int)'] = final['입원기간'].apply(func1)"
   ]
  },
  {
   "cell_type": "code",
   "execution_count": 202,
   "id": "f1cf73db",
   "metadata": {},
   "outputs": [
    {
     "data": {
      "text/plain": [
       "<AxesSubplot:ylabel='Frequency'>"
      ]
     },
     "execution_count": 202,
     "metadata": {},
     "output_type": "execute_result"
    },
    {
     "data": {
      "image/png": "[encoded data removed]",
      "text/plain": [
       "<Figure size 432x288 with 1 Axes>"
      ]
     },
     "metadata": {
      "needs_background": "light"
     },
     "output_type": "display_data"
    }
   ],
   "source": [
    "final['수술일자(month)'].plot.hist()"
   ]
  },
  {
   "cell_type": "code",
   "execution_count": 203,
   "id": "b828312b",
   "metadata": {},
   "outputs": [
    {
     "data": {
      "text/html": [
       "<div>\n",
       "<style scoped>\n",
       "    .dataframe tbody tr th:only-of-type {\n",
       "        vertical-align: middle;\n",
       "    }\n",
       "\n",
       "    .dataframe tbody tr th {\n",
       "        vertical-align: top;\n",
       "    }\n",
       "\n",
       "    .dataframe thead th {\n",
       "        text-align: right;\n",
       "    }\n",
       "</style>\n",
       "<table border=\"1\" class=\"dataframe\">\n",
       "  <thead>\n",
       "    <tr style=\"text-align: right;\">\n",
       "      <th></th>\n",
       "      <th>수술일자(month)</th>\n",
       "      <th>환자ID</th>\n",
       "      <th>전방디스크높이(mm)</th>\n",
       "      <th>후방디스크높이(mm)</th>\n",
       "      <th>지방축적도</th>\n",
       "      <th>Instability</th>\n",
       "      <th>MF + ES</th>\n",
       "      <th>Modic change</th>\n",
       "      <th>PI</th>\n",
       "      <th>PT</th>\n",
       "      <th>...</th>\n",
       "      <th>재발여부</th>\n",
       "      <th>혈액형</th>\n",
       "      <th>SS</th>\n",
       "      <th>연령대</th>\n",
       "      <th>연도</th>\n",
       "      <th>입원일자(date)</th>\n",
       "      <th>퇴원일자(date)</th>\n",
       "      <th>입원기간(int)</th>\n",
       "      <th>수술기법1</th>\n",
       "      <th>수술일자(date)</th>\n",
       "    </tr>\n",
       "  </thead>\n",
       "  <tbody>\n",
       "    <tr>\n",
       "      <th>0</th>\n",
       "      <td>1</td>\n",
       "      <td>285</td>\n",
       "      <td>285</td>\n",
       "      <td>285</td>\n",
       "      <td>285</td>\n",
       "      <td>285</td>\n",
       "      <td>285</td>\n",
       "      <td>285</td>\n",
       "      <td>285</td>\n",
       "      <td>285</td>\n",
       "      <td>...</td>\n",
       "      <td>285</td>\n",
       "      <td>285</td>\n",
       "      <td>285</td>\n",
       "      <td>285</td>\n",
       "      <td>285</td>\n",
       "      <td>285</td>\n",
       "      <td>285</td>\n",
       "      <td>285</td>\n",
       "      <td>285</td>\n",
       "      <td>285</td>\n",
       "    </tr>\n",
       "    <tr>\n",
       "      <th>1</th>\n",
       "      <td>2</td>\n",
       "      <td>201</td>\n",
       "      <td>201</td>\n",
       "      <td>201</td>\n",
       "      <td>201</td>\n",
       "      <td>201</td>\n",
       "      <td>201</td>\n",
       "      <td>201</td>\n",
       "      <td>200</td>\n",
       "      <td>200</td>\n",
       "      <td>...</td>\n",
       "      <td>201</td>\n",
       "      <td>201</td>\n",
       "      <td>200</td>\n",
       "      <td>201</td>\n",
       "      <td>201</td>\n",
       "      <td>201</td>\n",
       "      <td>201</td>\n",
       "      <td>201</td>\n",
       "      <td>201</td>\n",
       "      <td>201</td>\n",
       "    </tr>\n",
       "    <tr>\n",
       "      <th>2</th>\n",
       "      <td>3</td>\n",
       "      <td>192</td>\n",
       "      <td>192</td>\n",
       "      <td>192</td>\n",
       "      <td>192</td>\n",
       "      <td>192</td>\n",
       "      <td>192</td>\n",
       "      <td>192</td>\n",
       "      <td>191</td>\n",
       "      <td>191</td>\n",
       "      <td>...</td>\n",
       "      <td>192</td>\n",
       "      <td>192</td>\n",
       "      <td>191</td>\n",
       "      <td>192</td>\n",
       "      <td>192</td>\n",
       "      <td>192</td>\n",
       "      <td>192</td>\n",
       "      <td>192</td>\n",
       "      <td>192</td>\n",
       "      <td>192</td>\n",
       "    </tr>\n",
       "    <tr>\n",
       "      <th>3</th>\n",
       "      <td>4</td>\n",
       "      <td>148</td>\n",
       "      <td>148</td>\n",
       "      <td>148</td>\n",
       "      <td>148</td>\n",
       "      <td>148</td>\n",
       "      <td>148</td>\n",
       "      <td>148</td>\n",
       "      <td>148</td>\n",
       "      <td>148</td>\n",
       "      <td>...</td>\n",
       "      <td>148</td>\n",
       "      <td>148</td>\n",
       "      <td>148</td>\n",
       "      <td>148</td>\n",
       "      <td>148</td>\n",
       "      <td>148</td>\n",
       "      <td>148</td>\n",
       "      <td>148</td>\n",
       "      <td>148</td>\n",
       "      <td>148</td>\n",
       "    </tr>\n",
       "    <tr>\n",
       "      <th>4</th>\n",
       "      <td>5</td>\n",
       "      <td>116</td>\n",
       "      <td>116</td>\n",
       "      <td>116</td>\n",
       "      <td>115</td>\n",
       "      <td>116</td>\n",
       "      <td>116</td>\n",
       "      <td>116</td>\n",
       "      <td>116</td>\n",
       "      <td>116</td>\n",
       "      <td>...</td>\n",
       "      <td>116</td>\n",
       "      <td>116</td>\n",
       "      <td>116</td>\n",
       "      <td>116</td>\n",
       "      <td>116</td>\n",
       "      <td>116</td>\n",
       "      <td>116</td>\n",
       "      <td>116</td>\n",
       "      <td>116</td>\n",
       "      <td>116</td>\n",
       "    </tr>\n",
       "    <tr>\n",
       "      <th>5</th>\n",
       "      <td>6</td>\n",
       "      <td>119</td>\n",
       "      <td>119</td>\n",
       "      <td>119</td>\n",
       "      <td>119</td>\n",
       "      <td>119</td>\n",
       "      <td>119</td>\n",
       "      <td>119</td>\n",
       "      <td>119</td>\n",
       "      <td>119</td>\n",
       "      <td>...</td>\n",
       "      <td>119</td>\n",
       "      <td>119</td>\n",
       "      <td>119</td>\n",
       "      <td>119</td>\n",
       "      <td>119</td>\n",
       "      <td>119</td>\n",
       "      <td>119</td>\n",
       "      <td>119</td>\n",
       "      <td>119</td>\n",
       "      <td>119</td>\n",
       "    </tr>\n",
       "    <tr>\n",
       "      <th>6</th>\n",
       "      <td>7</td>\n",
       "      <td>140</td>\n",
       "      <td>140</td>\n",
       "      <td>140</td>\n",
       "      <td>140</td>\n",
       "      <td>140</td>\n",
       "      <td>140</td>\n",
       "      <td>140</td>\n",
       "      <td>139</td>\n",
       "      <td>139</td>\n",
       "      <td>...</td>\n",
       "      <td>140</td>\n",
       "      <td>140</td>\n",
       "      <td>139</td>\n",
       "      <td>140</td>\n",
       "      <td>140</td>\n",
       "      <td>140</td>\n",
       "      <td>140</td>\n",
       "      <td>140</td>\n",
       "      <td>140</td>\n",
       "      <td>140</td>\n",
       "    </tr>\n",
       "    <tr>\n",
       "      <th>7</th>\n",
       "      <td>8</td>\n",
       "      <td>91</td>\n",
       "      <td>91</td>\n",
       "      <td>91</td>\n",
       "      <td>91</td>\n",
       "      <td>91</td>\n",
       "      <td>91</td>\n",
       "      <td>91</td>\n",
       "      <td>91</td>\n",
       "      <td>91</td>\n",
       "      <td>...</td>\n",
       "      <td>91</td>\n",
       "      <td>91</td>\n",
       "      <td>91</td>\n",
       "      <td>91</td>\n",
       "      <td>91</td>\n",
       "      <td>91</td>\n",
       "      <td>91</td>\n",
       "      <td>91</td>\n",
       "      <td>91</td>\n",
       "      <td>91</td>\n",
       "    </tr>\n",
       "    <tr>\n",
       "      <th>8</th>\n",
       "      <td>9</td>\n",
       "      <td>121</td>\n",
       "      <td>121</td>\n",
       "      <td>121</td>\n",
       "      <td>120</td>\n",
       "      <td>121</td>\n",
       "      <td>121</td>\n",
       "      <td>121</td>\n",
       "      <td>120</td>\n",
       "      <td>120</td>\n",
       "      <td>...</td>\n",
       "      <td>121</td>\n",
       "      <td>121</td>\n",
       "      <td>120</td>\n",
       "      <td>121</td>\n",
       "      <td>121</td>\n",
       "      <td>121</td>\n",
       "      <td>121</td>\n",
       "      <td>121</td>\n",
       "      <td>121</td>\n",
       "      <td>121</td>\n",
       "    </tr>\n",
       "    <tr>\n",
       "      <th>9</th>\n",
       "      <td>10</td>\n",
       "      <td>173</td>\n",
       "      <td>173</td>\n",
       "      <td>173</td>\n",
       "      <td>173</td>\n",
       "      <td>173</td>\n",
       "      <td>173</td>\n",
       "      <td>173</td>\n",
       "      <td>173</td>\n",
       "      <td>173</td>\n",
       "      <td>...</td>\n",
       "      <td>173</td>\n",
       "      <td>173</td>\n",
       "      <td>173</td>\n",
       "      <td>173</td>\n",
       "      <td>173</td>\n",
       "      <td>173</td>\n",
       "      <td>173</td>\n",
       "      <td>173</td>\n",
       "      <td>173</td>\n",
       "      <td>173</td>\n",
       "    </tr>\n",
       "    <tr>\n",
       "      <th>10</th>\n",
       "      <td>11</td>\n",
       "      <td>131</td>\n",
       "      <td>131</td>\n",
       "      <td>131</td>\n",
       "      <td>131</td>\n",
       "      <td>131</td>\n",
       "      <td>131</td>\n",
       "      <td>131</td>\n",
       "      <td>131</td>\n",
       "      <td>131</td>\n",
       "      <td>...</td>\n",
       "      <td>131</td>\n",
       "      <td>131</td>\n",
       "      <td>131</td>\n",
       "      <td>131</td>\n",
       "      <td>131</td>\n",
       "      <td>131</td>\n",
       "      <td>131</td>\n",
       "      <td>131</td>\n",
       "      <td>131</td>\n",
       "      <td>131</td>\n",
       "    </tr>\n",
       "    <tr>\n",
       "      <th>11</th>\n",
       "      <td>12</td>\n",
       "      <td>177</td>\n",
       "      <td>177</td>\n",
       "      <td>177</td>\n",
       "      <td>176</td>\n",
       "      <td>177</td>\n",
       "      <td>177</td>\n",
       "      <td>177</td>\n",
       "      <td>177</td>\n",
       "      <td>177</td>\n",
       "      <td>...</td>\n",
       "      <td>177</td>\n",
       "      <td>177</td>\n",
       "      <td>177</td>\n",
       "      <td>177</td>\n",
       "      <td>177</td>\n",
       "      <td>177</td>\n",
       "      <td>177</td>\n",
       "      <td>177</td>\n",
       "      <td>177</td>\n",
       "      <td>177</td>\n",
       "    </tr>\n",
       "  </tbody>\n",
       "</table>\n",
       "<p>12 rows × 60 columns</p>\n",
       "</div>"
      ],
      "text/plain": [
       "    수술일자(month)  환자ID  전방디스크높이(mm)  후방디스크높이(mm)  지방축적도  Instability  MF + ES  \\\n",
       "0             1   285          285          285    285          285      285   \n",
       "1             2   201          201          201    201          201      201   \n",
       "2             3   192          192          192    192          192      192   \n",
       "3             4   148          148          148    148          148      148   \n",
       "4             5   116          116          116    115          116      116   \n",
       "5             6   119          119          119    119          119      119   \n",
       "6             7   140          140          140    140          140      140   \n",
       "7             8    91           91           91     91           91       91   \n",
       "8             9   121          121          121    120          121      121   \n",
       "9            10   173          173          173    173          173      173   \n",
       "10           11   131          131          131    131          131      131   \n",
       "11           12   177          177          177    176          177      177   \n",
       "\n",
       "    Modic change   PI   PT  ...  재발여부  혈액형   SS  연령대   연도  입원일자(date)  \\\n",
       "0            285  285  285  ...   285  285  285  285  285         285   \n",
       "1            201  200  200  ...   201  201  200  201  201         201   \n",
       "2            192  191  191  ...   192  192  191  192  192         192   \n",
       "3            148  148  148  ...   148  148  148  148  148         148   \n",
       "4            116  116  116  ...   116  116  116  116  116         116   \n",
       "5            119  119  119  ...   119  119  119  119  119         119   \n",
       "6            140  139  139  ...   140  140  139  140  140         140   \n",
       "7             91   91   91  ...    91   91   91   91   91          91   \n",
       "8            121  120  120  ...   121  121  120  121  121         121   \n",
       "9            173  173  173  ...   173  173  173  173  173         173   \n",
       "10           131  131  131  ...   131  131  131  131  131         131   \n",
       "11           177  177  177  ...   177  177  177  177  177         177   \n",
       "\n",
       "    퇴원일자(date)  입원기간(int)  수술기법1  수술일자(date)  \n",
       "0          285        285    285         285  \n",
       "1          201        201    201         201  \n",
       "2          192        192    192         192  \n",
       "3          148        148    148         148  \n",
       "4          116        116    116         116  \n",
       "5          119        119    119         119  \n",
       "6          140        140    140         140  \n",
       "7           91         91     91          91  \n",
       "8          121        121    121         121  \n",
       "9          173        173    173         173  \n",
       "10         131        131    131         131  \n",
       "11         177        177    177         177  \n",
       "\n",
       "[12 rows x 60 columns]"
      ]
     },
     "execution_count": 203,
     "metadata": {},
     "output_type": "execute_result"
    }
   ],
   "source": [
    "final.groupby(by=['수술일자(month)'], as_index=False).count()"
   ]
  },
  {
   "cell_type": "code",
   "execution_count": 204,
   "id": "591c8cc0",
   "metadata": {},
   "outputs": [
    {
     "data": {
      "text/plain": [
       "1894"
      ]
     },
     "execution_count": 204,
     "metadata": {},
     "output_type": "execute_result"
    }
   ],
   "source": [
    "285+201+192+148+116+119+140+91+121+173+131+177"
   ]
  },
  {
   "cell_type": "code",
   "execution_count": 205,
   "id": "d380886f",
   "metadata": {},
   "outputs": [
    {
     "data": {
      "text/plain": [
       "1     55\n",
       "10    48\n",
       "12    46\n",
       "2     41\n",
       "3     37\n",
       "4     37\n",
       "7     36\n",
       "9     34\n",
       "11    33\n",
       "6     29\n",
       "5     27\n",
       "8     26\n",
       "dtype: int64"
      ]
     },
     "execution_count": 205,
     "metadata": {},
     "output_type": "execute_result"
    }
   ],
   "source": [
    "# final['입원일자'].apply(요일)\n",
    "pd.value_counts(final[final['직업']=='사무직']['입원일자'].apply(요일).values)"
   ]
  },
  {
   "cell_type": "code",
   "execution_count": 206,
   "id": "97162b49",
   "metadata": {},
   "outputs": [
    {
     "data": {
      "text/plain": [
       "449"
      ]
     },
     "execution_count": 206,
     "metadata": {},
     "output_type": "execute_result"
    }
   ],
   "source": [
    "55+48+46+41+37+37+36+34+33+29+27+26"
   ]
  },
  {
   "cell_type": "code",
   "execution_count": null,
   "id": "6c7cf068",
   "metadata": {},
   "outputs": [],
   "source": []
  },
  {
   "cell_type": "code",
   "execution_count": null,
   "id": "0db7a838",
   "metadata": {},
   "outputs": [],
   "source": []
  },
  {
   "cell_type": "code",
   "execution_count": 207,
   "id": "d90c4a17",
   "metadata": {},
   "outputs": [],
   "source": [
    "import seaborn as sns\n",
    "\n",
    "# 연령대 통증기간 긴지? -> 참아온것 이를 개선할 수 있는가?\n",
    "def 연령(age):\n",
    "  return age//10\n",
    "\n",
    "final['연령대'] = final['연령'].apply(연령)"
   ]
  },
  {
   "cell_type": "code",
   "execution_count": 215,
   "id": "f2cb1882",
   "metadata": {},
   "outputs": [
    {
     "data": {
      "text/html": [
       "<div>\n",
       "<style scoped>\n",
       "    .dataframe tbody tr th:only-of-type {\n",
       "        vertical-align: middle;\n",
       "    }\n",
       "\n",
       "    .dataframe tbody tr th {\n",
       "        vertical-align: top;\n",
       "    }\n",
       "\n",
       "    .dataframe thead th {\n",
       "        text-align: right;\n",
       "    }\n",
       "</style>\n",
       "<table border=\"1\" class=\"dataframe\">\n",
       "  <thead>\n",
       "    <tr style=\"text-align: right;\">\n",
       "      <th></th>\n",
       "      <th>환자ID</th>\n",
       "      <th>전방디스크높이(mm)</th>\n",
       "      <th>후방디스크높이(mm)</th>\n",
       "      <th>지방축적도</th>\n",
       "      <th>Instability</th>\n",
       "      <th>MF + ES</th>\n",
       "      <th>Modic change</th>\n",
       "      <th>PI</th>\n",
       "      <th>PT</th>\n",
       "      <th>Seg Angle(raw)</th>\n",
       "      <th>...</th>\n",
       "      <th>혈액형</th>\n",
       "      <th>SS</th>\n",
       "      <th>연령대</th>\n",
       "      <th>연도</th>\n",
       "      <th>입원일자(date)</th>\n",
       "      <th>퇴원일자(date)</th>\n",
       "      <th>입원기간(int)</th>\n",
       "      <th>수술기법1</th>\n",
       "      <th>수술일자(date)</th>\n",
       "      <th>수술일자(month)</th>\n",
       "    </tr>\n",
       "  </thead>\n",
       "  <tbody>\n",
       "    <tr>\n",
       "      <th>0</th>\n",
       "      <td>1PT</td>\n",
       "      <td>16.1</td>\n",
       "      <td>12.3</td>\n",
       "      <td>282.3</td>\n",
       "      <td>0</td>\n",
       "      <td>1824.6</td>\n",
       "      <td>3</td>\n",
       "      <td>51.6</td>\n",
       "      <td>36.6</td>\n",
       "      <td>14.4</td>\n",
       "      <td>...</td>\n",
       "      <td>RH+A</td>\n",
       "      <td>15.0</td>\n",
       "      <td>6</td>\n",
       "      <td>2019</td>\n",
       "      <td>2019-07-13</td>\n",
       "      <td>2019-07-16</td>\n",
       "      <td>3</td>\n",
       "      <td>TELD</td>\n",
       "      <td>2019-07-15</td>\n",
       "      <td>7</td>\n",
       "    </tr>\n",
       "    <tr>\n",
       "      <th>1</th>\n",
       "      <td>2PT</td>\n",
       "      <td>13.7</td>\n",
       "      <td>6.4</td>\n",
       "      <td>177.3</td>\n",
       "      <td>0</td>\n",
       "      <td>1737.5</td>\n",
       "      <td>0</td>\n",
       "      <td>40.8</td>\n",
       "      <td>7.2</td>\n",
       "      <td>17.8</td>\n",
       "      <td>...</td>\n",
       "      <td>RH+A</td>\n",
       "      <td>33.6</td>\n",
       "      <td>4</td>\n",
       "      <td>2019</td>\n",
       "      <td>2019-07-15</td>\n",
       "      <td>2019-07-16</td>\n",
       "      <td>1</td>\n",
       "      <td>TELD</td>\n",
       "      <td>2019-07-16</td>\n",
       "      <td>7</td>\n",
       "    </tr>\n",
       "    <tr>\n",
       "      <th>2</th>\n",
       "      <td>3PT</td>\n",
       "      <td>13.6</td>\n",
       "      <td>7.4</td>\n",
       "      <td>256.8</td>\n",
       "      <td>0</td>\n",
       "      <td>1188.5</td>\n",
       "      <td>0</td>\n",
       "      <td>67.5</td>\n",
       "      <td>27.3</td>\n",
       "      <td>10.2</td>\n",
       "      <td>...</td>\n",
       "      <td>RH+B</td>\n",
       "      <td>40.2</td>\n",
       "      <td>3</td>\n",
       "      <td>2019</td>\n",
       "      <td>2019-07-29</td>\n",
       "      <td>2019-08-01</td>\n",
       "      <td>3</td>\n",
       "      <td>TELD</td>\n",
       "      <td>2019-07-31</td>\n",
       "      <td>7</td>\n",
       "    </tr>\n",
       "    <tr>\n",
       "      <th>3</th>\n",
       "      <td>4PT</td>\n",
       "      <td>10.6</td>\n",
       "      <td>7.3</td>\n",
       "      <td>250.1</td>\n",
       "      <td>0</td>\n",
       "      <td>2534.5</td>\n",
       "      <td>0</td>\n",
       "      <td>49.2</td>\n",
       "      <td>18.7</td>\n",
       "      <td>19.9</td>\n",
       "      <td>...</td>\n",
       "      <td>RH+O</td>\n",
       "      <td>30.5</td>\n",
       "      <td>4</td>\n",
       "      <td>2019</td>\n",
       "      <td>2019-07-31</td>\n",
       "      <td>2019-08-03</td>\n",
       "      <td>3</td>\n",
       "      <td>TELD</td>\n",
       "      <td>2019-08-02</td>\n",
       "      <td>8</td>\n",
       "    </tr>\n",
       "    <tr>\n",
       "      <th>4</th>\n",
       "      <td>5PT</td>\n",
       "      <td>17.1</td>\n",
       "      <td>8.1</td>\n",
       "      <td>232.2</td>\n",
       "      <td>0</td>\n",
       "      <td>1840.6</td>\n",
       "      <td>0</td>\n",
       "      <td>58.8</td>\n",
       "      <td>14.7</td>\n",
       "      <td>5.2</td>\n",
       "      <td>...</td>\n",
       "      <td>RH+A</td>\n",
       "      <td>44.1</td>\n",
       "      <td>4</td>\n",
       "      <td>2019</td>\n",
       "      <td>2019-09-03</td>\n",
       "      <td>2019-09-07</td>\n",
       "      <td>4</td>\n",
       "      <td>TELD</td>\n",
       "      <td>2019-09-06</td>\n",
       "      <td>9</td>\n",
       "    </tr>\n",
       "    <tr>\n",
       "      <th>...</th>\n",
       "      <td>...</td>\n",
       "      <td>...</td>\n",
       "      <td>...</td>\n",
       "      <td>...</td>\n",
       "      <td>...</td>\n",
       "      <td>...</td>\n",
       "      <td>...</td>\n",
       "      <td>...</td>\n",
       "      <td>...</td>\n",
       "      <td>...</td>\n",
       "      <td>...</td>\n",
       "      <td>...</td>\n",
       "      <td>...</td>\n",
       "      <td>...</td>\n",
       "      <td>...</td>\n",
       "      <td>...</td>\n",
       "      <td>...</td>\n",
       "      <td>...</td>\n",
       "      <td>...</td>\n",
       "      <td>...</td>\n",
       "      <td>...</td>\n",
       "    </tr>\n",
       "    <tr>\n",
       "      <th>1889</th>\n",
       "      <td>1890PT</td>\n",
       "      <td>17.0</td>\n",
       "      <td>10.7</td>\n",
       "      <td>237.5</td>\n",
       "      <td>0</td>\n",
       "      <td>2795.7</td>\n",
       "      <td>2</td>\n",
       "      <td>59.5</td>\n",
       "      <td>23.0</td>\n",
       "      <td>21.8</td>\n",
       "      <td>...</td>\n",
       "      <td>RH+A</td>\n",
       "      <td>36.5</td>\n",
       "      <td>5</td>\n",
       "      <td>2017</td>\n",
       "      <td>2017-04-07</td>\n",
       "      <td>2017-04-08</td>\n",
       "      <td>1</td>\n",
       "      <td>0</td>\n",
       "      <td>2017-04-07</td>\n",
       "      <td>4</td>\n",
       "    </tr>\n",
       "    <tr>\n",
       "      <th>1890</th>\n",
       "      <td>1891PT</td>\n",
       "      <td>9.4</td>\n",
       "      <td>8.2</td>\n",
       "      <td>288.0</td>\n",
       "      <td>0</td>\n",
       "      <td>1473.0</td>\n",
       "      <td>0</td>\n",
       "      <td>47.7</td>\n",
       "      <td>20.2</td>\n",
       "      <td>5.0</td>\n",
       "      <td>...</td>\n",
       "      <td>RH+B</td>\n",
       "      <td>27.5</td>\n",
       "      <td>4</td>\n",
       "      <td>2017</td>\n",
       "      <td>2017-04-26</td>\n",
       "      <td>2017-04-29</td>\n",
       "      <td>3</td>\n",
       "      <td>0</td>\n",
       "      <td>2017-04-27</td>\n",
       "      <td>4</td>\n",
       "    </tr>\n",
       "    <tr>\n",
       "      <th>1891</th>\n",
       "      <td>1892PT</td>\n",
       "      <td>13.5</td>\n",
       "      <td>5.5</td>\n",
       "      <td>148.5</td>\n",
       "      <td>0</td>\n",
       "      <td>3864.1</td>\n",
       "      <td>0</td>\n",
       "      <td>44.6</td>\n",
       "      <td>15.0</td>\n",
       "      <td>17.4</td>\n",
       "      <td>...</td>\n",
       "      <td>RH+O</td>\n",
       "      <td>29.6</td>\n",
       "      <td>6</td>\n",
       "      <td>2017</td>\n",
       "      <td>2017-04-10</td>\n",
       "      <td>2017-04-12</td>\n",
       "      <td>2</td>\n",
       "      <td>IELD</td>\n",
       "      <td>2017-04-11</td>\n",
       "      <td>4</td>\n",
       "    </tr>\n",
       "    <tr>\n",
       "      <th>1892</th>\n",
       "      <td>1893PT</td>\n",
       "      <td>14.0</td>\n",
       "      <td>10.0</td>\n",
       "      <td>89.0</td>\n",
       "      <td>0</td>\n",
       "      <td>2481.8</td>\n",
       "      <td>2</td>\n",
       "      <td>32.2</td>\n",
       "      <td>11.1</td>\n",
       "      <td>17.7</td>\n",
       "      <td>...</td>\n",
       "      <td>RH+A</td>\n",
       "      <td>21.1</td>\n",
       "      <td>2</td>\n",
       "      <td>2017</td>\n",
       "      <td>2017-04-08</td>\n",
       "      <td>2017-04-11</td>\n",
       "      <td>3</td>\n",
       "      <td>0</td>\n",
       "      <td>2017-04-10</td>\n",
       "      <td>4</td>\n",
       "    </tr>\n",
       "    <tr>\n",
       "      <th>1893</th>\n",
       "      <td>1894PT</td>\n",
       "      <td>16.1</td>\n",
       "      <td>9.5</td>\n",
       "      <td>251.4</td>\n",
       "      <td>0</td>\n",
       "      <td>1796.1</td>\n",
       "      <td>0</td>\n",
       "      <td>38.9</td>\n",
       "      <td>6.8</td>\n",
       "      <td>27.8</td>\n",
       "      <td>...</td>\n",
       "      <td>RH+AB</td>\n",
       "      <td>32.1</td>\n",
       "      <td>3</td>\n",
       "      <td>2017</td>\n",
       "      <td>2017-04-12</td>\n",
       "      <td>2017-04-13</td>\n",
       "      <td>1</td>\n",
       "      <td>0</td>\n",
       "      <td>2017-04-12</td>\n",
       "      <td>4</td>\n",
       "    </tr>\n",
       "  </tbody>\n",
       "</table>\n",
       "<p>1894 rows × 60 columns</p>\n",
       "</div>"
      ],
      "text/plain": [
       "        환자ID  전방디스크높이(mm)  후방디스크높이(mm)  지방축적도  Instability  MF + ES  \\\n",
       "0        1PT         16.1         12.3  282.3            0   1824.6   \n",
       "1        2PT         13.7          6.4  177.3            0   1737.5   \n",
       "2        3PT         13.6          7.4  256.8            0   1188.5   \n",
       "3        4PT         10.6          7.3  250.1            0   2534.5   \n",
       "4        5PT         17.1          8.1  232.2            0   1840.6   \n",
       "...      ...          ...          ...    ...          ...      ...   \n",
       "1889  1890PT         17.0         10.7  237.5            0   2795.7   \n",
       "1890  1891PT          9.4          8.2  288.0            0   1473.0   \n",
       "1891  1892PT         13.5          5.5  148.5            0   3864.1   \n",
       "1892  1893PT         14.0         10.0   89.0            0   2481.8   \n",
       "1893  1894PT         16.1          9.5  251.4            0   1796.1   \n",
       "\n",
       "      Modic change    PI    PT  Seg Angle(raw)  ...    혈액형    SS  연령대    연도  \\\n",
       "0                3  51.6  36.6            14.4  ...   RH+A  15.0    6  2019   \n",
       "1                0  40.8   7.2            17.8  ...   RH+A  33.6    4  2019   \n",
       "2                0  67.5  27.3            10.2  ...   RH+B  40.2    3  2019   \n",
       "3                0  49.2  18.7            19.9  ...   RH+O  30.5    4  2019   \n",
       "4                0  58.8  14.7             5.2  ...   RH+A  44.1    4  2019   \n",
       "...            ...   ...   ...             ...  ...    ...   ...  ...   ...   \n",
       "1889             2  59.5  23.0            21.8  ...   RH+A  36.5    5  2017   \n",
       "1890             0  47.7  20.2             5.0  ...   RH+B  27.5    4  2017   \n",
       "1891             0  44.6  15.0            17.4  ...   RH+O  29.6    6  2017   \n",
       "1892             2  32.2  11.1            17.7  ...   RH+A  21.1    2  2017   \n",
       "1893             0  38.9   6.8            27.8  ...  RH+AB  32.1    3  2017   \n",
       "\n",
       "     입원일자(date)  퇴원일자(date)  입원기간(int)  수술기법1  수술일자(date)  수술일자(month)  \n",
       "0    2019-07-13  2019-07-16          3   TELD  2019-07-15            7  \n",
       "1    2019-07-15  2019-07-16          1   TELD  2019-07-16            7  \n",
       "2    2019-07-29  2019-08-01          3   TELD  2019-07-31            7  \n",
       "3    2019-07-31  2019-08-03          3   TELD  2019-08-02            8  \n",
       "4    2019-09-03  2019-09-07          4   TELD  2019-09-06            9  \n",
       "...         ...         ...        ...    ...         ...          ...  \n",
       "1889 2017-04-07  2017-04-08          1      0  2017-04-07            4  \n",
       "1890 2017-04-26  2017-04-29          3      0  2017-04-27            4  \n",
       "1891 2017-04-10  2017-04-12          2   IELD  2017-04-11            4  \n",
       "1892 2017-04-08  2017-04-11          3      0  2017-04-10            4  \n",
       "1893 2017-04-12  2017-04-13          1      0  2017-04-12            4  \n",
       "\n",
       "[1894 rows x 60 columns]"
      ]
     },
     "execution_count": 215,
     "metadata": {},
     "output_type": "execute_result"
    }
   ],
   "source": [
    "final"
   ]
  },
  {
   "cell_type": "markdown",
   "id": "fa6a2352",
   "metadata": {},
   "source": [
    "### 년도 별 / 연령 별 방문자 수"
   ]
  },
  {
   "cell_type": "code",
   "execution_count": 211,
   "id": "2446737a",
   "metadata": {},
   "outputs": [
    {
     "data": {
      "text/plain": [
       "<bound method Series.unique of 0       6\n",
       "1       4\n",
       "2       3\n",
       "3       4\n",
       "4       4\n",
       "       ..\n",
       "1889    5\n",
       "1890    4\n",
       "1891    6\n",
       "1892    2\n",
       "1893    3\n",
       "Name: 연령대, Length: 1894, dtype: int64>"
      ]
     },
     "execution_count": 211,
     "metadata": {},
     "output_type": "execute_result"
    }
   ],
   "source": [
    "final['연령대'].unique"
   ]
  },
  {
   "cell_type": "code",
   "execution_count": 213,
   "id": "0c41f56d",
   "metadata": {},
   "outputs": [],
   "source": [
    "df_1 = [final['연령대'] == '1']\n",
    "df_2 = [final['연령대'] == '2']\n",
    "df_3 = [final['연령대'] == '3']\n",
    "df_4 = [final['연령대'] == '4']\n",
    "df_5 = [final['연령대'] == '5']\n",
    "df_6 = [final['연령대'] == '6']\n",
    "df_7 = [final['연령대'] == '7']\n",
    "df_8 = [final['연령대'] == '8']"
   ]
  },
  {
   "cell_type": "code",
   "execution_count": 217,
   "id": "20dde247",
   "metadata": {},
   "outputs": [],
   "source": [
    "#2020년 연령대"
   ]
  },
  {
   "cell_type": "code",
   "execution_count": null,
   "id": "01df3092",
   "metadata": {},
   "outputs": [],
   "source": [
    "#2019년 연령대"
   ]
  },
  {
   "cell_type": "code",
   "execution_count": null,
   "id": "9730e762",
   "metadata": {},
   "outputs": [],
   "source": [
    "#2018년 연령대"
   ]
  },
  {
   "cell_type": "code",
   "execution_count": 223,
   "id": "e8c16479",
   "metadata": {},
   "outputs": [],
   "source": [
    "final.head()\n",
    "final['count'] = 1 "
   ]
  },
  {
   "cell_type": "code",
   "execution_count": 224,
   "id": "1187c947",
   "metadata": {},
   "outputs": [],
   "source": [
    "def func1(row):\n",
    "    return str(row) +'0대'\n",
    "\n",
    "final['연령대(object)'] = final['연령대'].apply(func1)"
   ]
  },
  {
   "cell_type": "code",
   "execution_count": 225,
   "id": "561e578f",
   "metadata": {},
   "outputs": [
    {
     "data": {
      "text/plain": [
       "<AxesSubplot:xlabel='연령대(object)', ylabel='count'>"
      ]
     },
     "execution_count": 225,
     "metadata": {},
     "output_type": "execute_result"
    },
    {
     "data": {
      "image/png": "[encoded data removed]",
      "text/plain": [
       "<Figure size 720x360 with 1 Axes>"
      ]
     },
     "metadata": {
      "needs_background": "light"
     },
     "output_type": "display_data"
    }
   ],
   "source": [
    "cond1 = (final['연령대(object)']=='30대')|(final['연령대(object)']=='40대')|(final['연령대(object)']=='50대')\n",
    "\n",
    "\n",
    "plt.figure(figsize=[10,5])\n",
    "sns.barplot(data=final.loc[cond1], x='연령대(object)',y='count',estimator=sum, ci=None)"
   ]
  },
  {
   "cell_type": "code",
   "execution_count": 226,
   "id": "b1501e06",
   "metadata": {},
   "outputs": [
    {
     "data": {
      "text/plain": [
       "<AxesSubplot:xlabel='연령대(object)', ylabel='count'>"
      ]
     },
     "execution_count": 226,
     "metadata": {},
     "output_type": "execute_result"
    },
    {
     "data": {
      "image/png": "[encoded data removed]",
      "text/plain": [
       "<Figure size 720x360 with 1 Axes>"
      ]
     },
     "metadata": {
      "needs_background": "light"
     },
     "output_type": "display_data"
    }
   ],
   "source": [
    "plt.figure(figsize=[10,5])\n",
    "sns.barplot(data=final, x='연령대(object)',y='count',estimator=sum, ci=None,\n",
    "           order=['10대','20대','30대','40대','50대','60대','70대','80대'])"
   ]
  },
  {
   "cell_type": "code",
   "execution_count": null,
   "id": "e5f61ba0",
   "metadata": {},
   "outputs": [],
   "source": []
  }
 ],
 "metadata": {
  "colab": {
   "collapsed_sections": [],
   "name": "의료data.ipynb",
   "provenance": []
  },
  "kernelspec": {
   "display_name": "Python 3",
   "language": "python",
   "name": "python3"
  },
  "language_info": {
   "codemirror_mode": {
    "name": "ipython",
    "version": 3
   },
   "file_extension": ".py",
   "mimetype": "text/x-python",
   "name": "python",
   "nbconvert_exporter": "python",
   "pygments_lexer": "ipython3",
   "version": "3.8.8"
  },
  "toc": {
   "base_numbering": 1,
   "nav_menu": {},
   "number_sections": false,
   "sideBar": true,
   "skip_h1_title": false,
   "title_cell": "Table of Contents",
   "title_sidebar": "Contents",
   "toc_cell": false,
   "toc_position": {
    "height": "calc(100% - 180px)",
    "left": "10px",
    "top": "150px",
    "width": "165px"
   },
   "toc_section_display": true,
   "toc_window_display": true
  },
  "varInspector": {
   "cols": {
    "lenName": 16,
    "lenType": 16,
    "lenVar": 40
   },
   "kernels_config": {
    "python": {
     "delete_cmd_postfix": "",
     "delete_cmd_prefix": "del ",
     "library": "var_list.py",
     "varRefreshCmd": "print(var_dic_list())"
    },
    "r": {
     "delete_cmd_postfix": ") ",
     "delete_cmd_prefix": "rm(",
     "library": "var_list.r",
     "varRefreshCmd": "cat(var_dic_list()) "
    }
   },
   "types_to_exclude": [
    "module",
    "function",
    "builtin_function_or_method",
    "instance",
    "_Feature"
   ],
   "window_display": false
  }
 },
 "nbformat": 4,
 "nbformat_minor": 5
}
